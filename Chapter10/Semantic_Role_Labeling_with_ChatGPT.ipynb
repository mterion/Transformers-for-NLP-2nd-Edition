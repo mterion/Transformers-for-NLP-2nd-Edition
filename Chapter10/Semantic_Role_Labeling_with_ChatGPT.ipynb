{
  "cells": [
    {
      "cell_type": "markdown",
      "metadata": {
        "id": "b_QjF04i9neT"
      },
      "source": [
        "#Semantic Role Labeling with ChatGPT\n",
        "Copyright 2023 Denis Rothman, MIT License\n",
        "\n",
        "This notebook shows how to use GPT-3.5(ChatGPT) with the OpenAI API to perform SRL tasks:\n",
        "\n",
        "1. Installing openai and your API key<br>\n",
        "2. Semantic Role Labeling as exaplained in *Tranformers for NLP, 2nd Edition, Chapter 10, Semantic Role Labeling.*\n",
        "\n",
        "To get the best out of this notebook:\n",
        "*   read Transformers for NLP, *Chapter 7, The Rise of Suprahuman Transformers with GPT-3 Engines* to understand the architecture of GPT engines. ChatGPT is GPT-3.5 turbo, a GPT model trained a large dataset. A GPT-3.5 turbo engine is a variant of a GPT Model.\n",
        "\n",
        "*  go through the notebooks in the [BONUS directory](https://github.com/Denis2054/Transformers-for-NLP-2nd-Edition/tree/main/Bonus#readme) to learn how to implement GPT-3.5 turbo(ChatGPT).\n",
        "\n",
        "*  once you have understood the theory of GPT transformers and explored the BONUS notebooks, try different sentences you find on social media that you would like to analyze in this notebook.\n",
        "\n",
        "\n"
      ]
    },
    {
      "cell_type": "code",
      "execution_count": 1,
      "metadata": {
        "id": "lUn5YJeQvy-F",
        "colab": {
          "base_uri": "https://localhost:8080/"
        },
        "outputId": "bf92ebaf-304a-47eb-836c-ca0a7c8fed15"
      },
      "outputs": [
        {
          "output_type": "stream",
          "name": "stdout",
          "text": [
            "Looking in indexes: https://pypi.org/simple, https://us-python.pkg.dev/colab-wheels/public/simple/\n",
            "Requirement already satisfied: pip in /usr/local/lib/python3.10/dist-packages (23.1.2)\n"
          ]
        }
      ],
      "source": [
        "!pip install --upgrade pip"
      ]
    },
    {
      "cell_type": "markdown",
      "metadata": {
        "id": "Y-crABM8l3Xi"
      },
      "source": [
        "#1.Installing openai\n"
      ]
    },
    {
      "cell_type": "markdown",
      "metadata": {
        "id": "ygFUriSCvTNb"
      },
      "source": [
        "## installing and importing openai"
      ]
    },
    {
      "cell_type": "code",
      "execution_count": 2,
      "metadata": {
        "id": "9G79pIy_Mg5Y",
        "colab": {
          "base_uri": "https://localhost:8080/"
        },
        "outputId": "85e4f049-e463-4dc6-a5ac-04d05577af80"
      },
      "outputs": [
        {
          "output_type": "stream",
          "name": "stdout",
          "text": [
            "Looking in indexes: https://pypi.org/simple, https://us-python.pkg.dev/colab-wheels/public/simple/\n",
            "Collecting openai\n",
            "  Downloading openai-0.27.8-py3-none-any.whl (73 kB)\n",
            "\u001b[2K     \u001b[90m━━━━━━━━━━━━━━━━━━━━━━━━━━━━━━━━━━━━━━━━\u001b[0m \u001b[32m73.6/73.6 kB\u001b[0m \u001b[31m4.3 MB/s\u001b[0m eta \u001b[36m0:00:00\u001b[0m\n",
            "\u001b[?25hRequirement already satisfied: requests>=2.20 in /usr/local/lib/python3.10/dist-packages (from openai) (2.27.1)\n",
            "Requirement already satisfied: tqdm in /usr/local/lib/python3.10/dist-packages (from openai) (4.65.0)\n",
            "Collecting aiohttp (from openai)\n",
            "  Downloading aiohttp-3.8.4-cp310-cp310-manylinux_2_17_x86_64.manylinux2014_x86_64.whl (1.0 MB)\n",
            "\u001b[2K     \u001b[90m━━━━━━━━━━━━━━━━━━━━━━━━━━━━━━━━━━━━━━━━\u001b[0m \u001b[32m1.0/1.0 MB\u001b[0m \u001b[31m32.2 MB/s\u001b[0m eta \u001b[36m0:00:00\u001b[0m\n",
            "\u001b[?25hRequirement already satisfied: urllib3<1.27,>=1.21.1 in /usr/local/lib/python3.10/dist-packages (from requests>=2.20->openai) (1.26.16)\n",
            "Requirement already satisfied: certifi>=2017.4.17 in /usr/local/lib/python3.10/dist-packages (from requests>=2.20->openai) (2023.5.7)\n",
            "Requirement already satisfied: charset-normalizer~=2.0.0 in /usr/local/lib/python3.10/dist-packages (from requests>=2.20->openai) (2.0.12)\n",
            "Requirement already satisfied: idna<4,>=2.5 in /usr/local/lib/python3.10/dist-packages (from requests>=2.20->openai) (3.4)\n",
            "Requirement already satisfied: attrs>=17.3.0 in /usr/local/lib/python3.10/dist-packages (from aiohttp->openai) (23.1.0)\n",
            "Collecting multidict<7.0,>=4.5 (from aiohttp->openai)\n",
            "  Downloading multidict-6.0.4-cp310-cp310-manylinux_2_17_x86_64.manylinux2014_x86_64.whl (114 kB)\n",
            "\u001b[2K     \u001b[90m━━━━━━━━━━━━━━━━━━━━━━━━━━━━━━━━━━━━━━\u001b[0m \u001b[32m114.5/114.5 kB\u001b[0m \u001b[31m12.4 MB/s\u001b[0m eta \u001b[36m0:00:00\u001b[0m\n",
            "\u001b[?25hCollecting async-timeout<5.0,>=4.0.0a3 (from aiohttp->openai)\n",
            "  Downloading async_timeout-4.0.2-py3-none-any.whl (5.8 kB)\n",
            "Collecting yarl<2.0,>=1.0 (from aiohttp->openai)\n",
            "  Downloading yarl-1.9.2-cp310-cp310-manylinux_2_17_x86_64.manylinux2014_x86_64.whl (268 kB)\n",
            "\u001b[2K     \u001b[90m━━━━━━━━━━━━━━━━━━━━━━━━━━━━━━━━━━━━━━\u001b[0m \u001b[32m268.8/268.8 kB\u001b[0m \u001b[31m21.8 MB/s\u001b[0m eta \u001b[36m0:00:00\u001b[0m\n",
            "\u001b[?25hCollecting frozenlist>=1.1.1 (from aiohttp->openai)\n",
            "  Downloading frozenlist-1.3.3-cp310-cp310-manylinux_2_5_x86_64.manylinux1_x86_64.manylinux_2_17_x86_64.manylinux2014_x86_64.whl (149 kB)\n",
            "\u001b[2K     \u001b[90m━━━━━━━━━━━━━━━━━━━━━━━━━━━━━━━━━━━━━━\u001b[0m \u001b[32m149.6/149.6 kB\u001b[0m \u001b[31m12.1 MB/s\u001b[0m eta \u001b[36m0:00:00\u001b[0m\n",
            "\u001b[?25hCollecting aiosignal>=1.1.2 (from aiohttp->openai)\n",
            "  Downloading aiosignal-1.3.1-py3-none-any.whl (7.6 kB)\n",
            "Installing collected packages: multidict, frozenlist, async-timeout, yarl, aiosignal, aiohttp, openai\n",
            "Successfully installed aiohttp-3.8.4 aiosignal-1.3.1 async-timeout-4.0.2 frozenlist-1.3.3 multidict-6.0.4 openai-0.27.8 yarl-1.9.2\n"
          ]
        }
      ],
      "source": [
        "#Importing openai\n",
        "try:\n",
        "  import openai\n",
        "except:\n",
        "  !pip install openai\n",
        "  import openai"
      ]
    },
    {
      "cell_type": "markdown",
      "metadata": {
        "id": "R7YHxHaLmAEi"
      },
      "source": [
        "##API Key"
      ]
    },
    {
      "cell_type": "code",
      "execution_count": 3,
      "metadata": {
        "id": "Eb6gFplQqU5v",
        "colab": {
          "base_uri": "https://localhost:8080/"
        },
        "outputId": "05efa36c-de62-4d02-af4a-777153a1218b"
      },
      "outputs": [
        {
          "output_type": "stream",
          "name": "stdout",
          "text": [
            "Mounted at /content/drive\n"
          ]
        }
      ],
      "source": [
        "#2.API Key\n",
        "#Store you key in a file and read it(you can type it directly in the notebook but it will be visible for somebody next to you)\n",
        "from google.colab import drive\n",
        "drive.mount('/content/drive')\n",
        "f = open(\"drive/MyDrive/openAIAPIKey/api_key.txt\", \"r\")\n",
        "API_KEY=f.readline()\n",
        "f.close()\n",
        "\n",
        "#The OpenAI Key\n",
        "import os\n",
        "os.environ['OPENAI_API_KEY'] =API_KEY\n",
        "openai.api_key = os.getenv(\"OPENAI_API_KEY\")\n"
      ]
    },
    {
      "cell_type": "markdown",
      "metadata": {
        "id": "U03EQHLtmZLl"
      },
      "source": [
        "#2.ChatGPT(gpt-3.5 turbo) dialog function"
      ]
    },
    {
      "cell_type": "markdown",
      "source": [
        "preparing the NLP message"
      ],
      "metadata": {
        "id": "1moBmYTVp-ih"
      }
    },
    {
      "cell_type": "code",
      "execution_count": 6,
      "metadata": {
        "id": "wl_ih8tPqebL"
      },
      "outputs": [],
      "source": [
        " def dialog(uinput):\n",
        "   #preparing the prompt for OpenAI\n",
        "   role=\"user\"\n",
        "\n",
        "   #prompt=\"Where is Tahiti located?\" #maintenance or if you do not want to use a microphone\n",
        "   line = {\"role\": role, \"content\": uinput}\n",
        "\n",
        "   #creating the mesage\n",
        "   assert1={\"role\": \"system\", \"content\": \"You are a Natural Language Processing Assistant.\"}\n",
        "   assert2={\"role\": \"assistant\", \"content\": \"You are helping viewers analyze social medial better.\"}\n",
        "   assert3=line\n",
        "   iprompt = []\n",
        "   iprompt.append(assert1)\n",
        "   iprompt.append(assert2)\n",
        "   iprompt.append(assert3)\n",
        "\n",
        "   #sending the message to ChatGPT\n",
        "   response=openai.ChatCompletion.create(model=\"gpt-3.5-turbo\",messages=iprompt) #ChatGPT dialog\n",
        "   text=response[\"choices\"][0][\"message\"][\"content\"] #response in JSON\n",
        "\n",
        "   return text"
      ]
    },
    {
      "cell_type": "markdown",
      "source": [
        "# 5.Semantic Role Labeling(SRL)"
      ],
      "metadata": {
        "id": "wk9lev33wDdA"
      }
    },
    {
      "cell_type": "markdown",
      "source": [
        "The 3 **basic** text samples are relatively easy. <br>\n",
        "The 4 **difficult** text samples are challenging.\n",
        "\n",
        "**Basic**\n",
        "\n",
        "Sample1:\n",
        "\"Did Bob really think he could prepare a meal for 50 people in only a few hours?\"\n",
        "\n",
        "Sample 2:\n",
        "\"Mrs. and Mr. Tomaso went to Europe for vacation and visited Paris and first went to visit the Eiffel Tower.\"\n",
        "\n",
        "Sample 3:\n",
        "\"John wanted to drink tea, Mary likes to drink coffee but Karim drank some cool water and Faiza would like to drink tomato juice.\"\n",
        "\n",
        "**Difficult**\n",
        "\n",
        "Sample 4 :ambiguous subject<br>\n",
        "\"Alice, whose husband went jogging every Sunday, liked to go to a dancing class in the meantime.\"\n",
        "\n",
        "Sample 5: *round* can be a verb, a noun, preposition, etc.In this sentence, it is a verb<br>\n",
        "\"The bright sun, the blue sky, the warm sand, the palm trees, everything round off.\"\n",
        "\n",
        "Sample 6: *ice* can be a noun or verb in Hockey<br>\n",
        "\"Now, ice pucks guys!\"\n",
        "\n",
        "Sample 7:confusing sentence with mixed descriptions<br>\n",
        "\"Though the customer seemed unhappy, she was, in fact satisfied but thinking of something else at the time, which gave a false impression?\"\""
      ],
      "metadata": {
        "id": "DmuWMj1b55od"
      }
    },
    {
      "cell_type": "markdown",
      "source": [
        "##Semantic Role Labeling(SRL) label list provided by ChatGPT"
      ],
      "metadata": {
        "id": "LCGc67ca2K8p"
      }
    },
    {
      "cell_type": "code",
      "source": [
        "uinput=\"Provide the list of labels for Semantic Role Labeling\"\n",
        "text=dialog(uinput) #preparing the messages for ChatGPT\n",
        "print(\"Viewer request\",uinput)\n",
        "print(\"ChatGPT Sentiment Analysis:\",text)"
      ],
      "metadata": {
        "colab": {
          "base_uri": "https://localhost:8080/"
        },
        "id": "D82yoEG1wnXk",
        "outputId": "a8a28580-6534-4a15-e6c2-d3ef62017455"
      },
      "execution_count": 7,
      "outputs": [
        {
          "output_type": "stream",
          "name": "stdout",
          "text": [
            "Viewer request Provide the list of labels for Semantic Role Labeling\n",
            "ChatGPT Sentiment Analysis: The labels used in Semantic Role Labeling typically vary depending on the specific tool or model being used. However, some common examples of SRL label include:\n",
            "\n",
            "- Predicate: The word or phrase that serves as the core of the semantic argument structure.\n",
            "- Arg0: The core argument of the predicate, usually the subject of the sentence.\n",
            "- Arg1: The first argument of the predicate, usually the direct object of the sentence.\n",
            "- Arg2: The second argument of the predicate, usually the indirect object of the sentence.\n",
            "- Arg3, Arg4, etc.: Additional arguments of the predicate.\n",
            "- Location: Indicates the location where the action occurred.\n",
            "- Time: Indicates the time when the action occurred.\n",
            "- Cause: Indicates the cause or reason for the action.\n",
            "- Manner: Indicates the manner in which the action was performed.\n"
          ]
        }
      ]
    },
    {
      "cell_type": "markdown",
      "source": [
        "## Basic samples"
      ],
      "metadata": {
        "id": "6oGNrDUg52Jm"
      }
    },
    {
      "cell_type": "markdown",
      "source": [
        "Sample1:<br>\"Did Bob really think he could prepare a meal for 50 people in only a few hours?\""
      ],
      "metadata": {
        "id": "h8na1xlR1GKA"
      }
    },
    {
      "cell_type": "code",
      "source": [
        "uinput=\"Perform Semantic Role Labeling on the following sentence:Did Bob really think he could prepare a meal for 50 people in only a few hours?\"\n",
        "text=dialog(uinput) #preparing the messages for ChatGPT\n",
        "print(\"Viewer request\",uinput)\n",
        "print(\"ChatGPT Sentiment Analysis:\",text)"
      ],
      "metadata": {
        "colab": {
          "base_uri": "https://localhost:8080/"
        },
        "id": "ofo_ailR2TDg",
        "outputId": "bff771c3-d3a1-49de-abbe-360be0afb686"
      },
      "execution_count": 8,
      "outputs": [
        {
          "output_type": "stream",
          "name": "stdout",
          "text": [
            "Viewer request Perform Semantic Role Labeling on the following sentence:Did Bob really think he could prepare a meal for 50 people in only a few hours?\n",
            "ChatGPT Sentiment Analysis: The Semantic Role Labeling (SRL) analysis of the given sentence is as follows:\n",
            "\n",
            "| Word | Predicate | Argument |\n",
            "|------|-----------|----------|\n",
            "| Did  | Think     | n/a      |\n",
            "| Bob  | Think     | Arg0     |\n",
            "| really | Think   | ArgManner|\n",
            "| think| n/a       | n/a      |\n",
            "| he   | prepare   | Arg0     |\n",
            "| could| prepare   | ArgMood  |\n",
            "| prepare | n/a    | n/a      |\n",
            "| a meal | prepare | Arg1     |\n",
            "| for 50 people | prepare | Arg2|\n",
            "| in only a few hours | prepare | Arg3| \n",
            "\n",
            "The above table illustrates the semantic roles of the given sentence in predicate-argument structure. The verb \"think\" is the predicate with 'Bob' as the agent (Arg0). The word 'really' is the adverb of manner (ArgManner) that describes the intensity of the predicate. The verb 'prepare' is the predicate with 'he' as the agent (Arg0), 'a meal' as the patient (Arg1), 'for 50 people' as a beneficiary (Arg2), and 'in only a few hours' as the time (Arg3).\n"
          ]
        }
      ]
    },
    {
      "cell_type": "markdown",
      "source": [
        "Sample 2:<br>\"Mrs. and Mr. Tomaso went to Europe for vacation and visited Paris and first went to visit the Eiffel Tower.\""
      ],
      "metadata": {
        "id": "j7SBUpJx1QKP"
      }
    },
    {
      "cell_type": "code",
      "source": [
        "uinput=\"Perform Semantic Role Labeling on the following sentence:Mrs. and Mr. Tomaso went to Europe for vacation and visited Paris and first went to visit the Eiffel Tower.\"\n",
        "text=dialog(uinput) #preparing the messages for ChatGPT\n",
        "print(\"Viewer request\",uinput)\n",
        "print(\"ChatGPT Sentiment Analysis:\",text)"
      ],
      "metadata": {
        "colab": {
          "base_uri": "https://localhost:8080/"
        },
        "id": "ZVvAd_DB08wF",
        "outputId": "f710c552-9b0e-416c-c0b0-4355e87593b7"
      },
      "execution_count": 9,
      "outputs": [
        {
          "output_type": "stream",
          "name": "stdout",
          "text": [
            "Viewer request Perform Semantic Role Labeling on the following sentence:Mrs. and Mr. Tomaso went to Europe for vacation and visited Paris and first went to visit the Eiffel Tower.\n",
            "ChatGPT Sentiment Analysis: Here's the Semantic Role Labeling of the sentence:\n",
            "\n",
            "- Mrs. and Mr. Tomaso - Agent\n",
            "- went - Predicate\n",
            "- to Europe - Destination\n",
            "- for vacation - Purpose\n",
            "- and - Connective\n",
            "- visited - Predicate\n",
            "- Paris - Destination\n",
            "- and - Connective\n",
            "- first - Temporal\n",
            "- went - Predicate\n",
            "- to visit - Purpose\n",
            "- the Eiffel Tower - Theme\n"
          ]
        }
      ]
    },
    {
      "cell_type": "markdown",
      "source": [
        "Sample 3: <br>\n",
        "\"John wanted to drink tea, Mary likes to drink coffee but Karim drank some cool water and Faiza would like to drink tomato juice.\""
      ],
      "metadata": {
        "id": "vMKLCFaD1VJA"
      }
    },
    {
      "cell_type": "code",
      "source": [
        "uinput=\"Perform Semantic Role Labeling on the following sentence:ohn wanted to drink tea, Mary likes to drink coffee but Karim drank some cool water and Faiza would like to drink tomato juice.\"\n",
        "text=dialog(uinput) #preparing the messages for ChatGPT\n",
        "print(\"Viewer request\",uinput)\n",
        "print(\"ChatGPT Sentiment Analysis:\",text)"
      ],
      "metadata": {
        "colab": {
          "base_uri": "https://localhost:8080/"
        },
        "id": "waNIZTR309aG",
        "outputId": "f3ac9916-feb6-431c-f442-1eb106459eda"
      },
      "execution_count": 10,
      "outputs": [
        {
          "output_type": "stream",
          "name": "stdout",
          "text": [
            "Viewer request Perform Semantic Role Labeling on the following sentence:ohn wanted to drink tea, Mary likes to drink coffee but Karim drank some cool water and Faiza would like to drink tomato juice.\n",
            "ChatGPT Sentiment Analysis: Here is the Semantic Role Labeling for the given sentence:\n",
            "\n",
            "| Word | Predicate | Arguments |\n",
            "|------|-----------|-----------|\n",
            "| John | wanted    | Agent: John |\n",
            "| wanted |      |    Theme: drink tea |\n",
            "| to | drink |    |\n",
            "| drink |      |    Theme: tea |\n",
            "| tea |      |    |\n",
            "| , |      |    |\n",
            "| Mary | likes | Agent: Mary |\n",
            "| likes |      |    Theme: drink coffee |\n",
            "| to | drink |    |\n",
            "| drink |      |    Theme: coffee |\n",
            "| coffee |      |    |\n",
            "| but |      |    |\n",
            "| Karim | drank | Agent: Karim |\n",
            "| drank |      |    Theme: some cool water |\n",
            "| some |      |    |\n",
            "| cool water |      |    |\n",
            "| and |      |    |\n",
            "| Faiza | would like | Agent: Faiza |\n",
            "| would like |      |    Theme: drink tomato juice |\n",
            "| to | drink |    |\n",
            "| drink |      |    Theme: tomato juice |\n",
            "| tomato juice |      |    |\n",
            "| . |      |    |\n"
          ]
        }
      ]
    },
    {
      "cell_type": "markdown",
      "source": [
        "## Difficult samples"
      ],
      "metadata": {
        "id": "dVMBJwp657Z6"
      }
    },
    {
      "cell_type": "markdown",
      "source": [
        "Sample 4 :ambiguous subject<br>\n",
        "\"Alice, whose husband went jogging every Sunday, liked to go to a dancing class in the meantime.\""
      ],
      "metadata": {
        "id": "XuPnvjx_1Zkq"
      }
    },
    {
      "cell_type": "code",
      "source": [
        "uinput=\"Perform Semantic Role Labeling on the following sentence:Alice, whose husband went jogging every Sunday, liked to go to a dancing class in the meantime.\"\n",
        "text=dialog(uinput) #preparing the messages for ChatGPT\n",
        "print(\"Viewer request\",uinput)\n",
        "print(\"ChatGPT Sentiment Analysis:\",text)"
      ],
      "metadata": {
        "colab": {
          "base_uri": "https://localhost:8080/"
        },
        "id": "eyVLcVj6091_",
        "outputId": "2e88d770-2ca9-45d7-be52-35831abcfd6a"
      },
      "execution_count": 11,
      "outputs": [
        {
          "output_type": "stream",
          "name": "stdout",
          "text": [
            "Viewer request Perform Semantic Role Labeling on the following sentence:Alice, whose husband went jogging every Sunday, liked to go to a dancing class in the meantime.\n",
            "ChatGPT Sentiment Analysis: Here's the Semantic Role Labeling for the given sentence:\n",
            "\n",
            "| Word | Semantic Role |\n",
            "|-------|---------------|\n",
            "| Alice | Agent         |\n",
            "| ,     | -             |\n",
            "| whose | -             |\n",
            "| husband | Patient     |\n",
            "| went  | Predicate    |\n",
            "| jogging | Instrument  |\n",
            "| every  | -            |\n",
            "| Sunday  | Time         |\n",
            "| ,      | -            |\n",
            "| liked  | Predicate   |\n",
            "| to     | -           |\n",
            "| go     | Predicate   |\n",
            "| to     | -           |\n",
            "| a      | -            |\n",
            "| dancing | Patient     |\n",
            "| class  | Patient     |\n",
            "| in     | -            |\n",
            "| the    | -            |\n",
            "| meantime | Time       |\n",
            "| .     | -            |\n",
            "\n",
            "The above table represents the semantic roles of each word in the given sentence.\n"
          ]
        }
      ]
    },
    {
      "cell_type": "markdown",
      "source": [
        "Sample 5: *round* can be a verb, a noun, preposition, etc.In this sentence, it is a verb<br>\n",
        "\"The bright sun, the blue sky, the warm sand, the palm trees, everything round off.\""
      ],
      "metadata": {
        "id": "utY0S4Sl1aDh"
      }
    },
    {
      "cell_type": "code",
      "source": [
        "uinput=\"Perform Semantic Role Labeling on the following sentence:The bright sun, the blue sky, the warm sand, the palm trees, everything round off.\"\n",
        "text=dialog(uinput) #preparing the messages for ChatGPT\n",
        "print(\"Viewer request\",uinput)\n",
        "print(\"ChatGPT Sentiment Analysis:\",text)"
      ],
      "metadata": {
        "colab": {
          "base_uri": "https://localhost:8080/"
        },
        "id": "bHhHHddC0-L5",
        "outputId": "36bdb6c5-94d3-418b-bf13-2b84ced2c73e"
      },
      "execution_count": 12,
      "outputs": [
        {
          "output_type": "stream",
          "name": "stdout",
          "text": [
            "Viewer request Perform Semantic Role Labeling on the following sentence:The bright sun, the blue sky, the warm sand, the palm trees, everything round off.\n",
            "ChatGPT Sentiment Analysis: The sentence \"The bright sun, the blue sky, the warm sand, the palm trees, everything round off.\" does not contain a clear verb or action that can be semantically parsed through traditional approaches like Semantic Role Labeling. \n",
            "\n",
            "Instead, it appears to be a descriptive sentence about a scene or setting, with a series of noun phrases (bright sun, blue sky, warm sand, palm trees) and a concluding clause indicating that everything \"rounds off\" or complements each other. \n",
            "\n",
            "Therefore, there isn't a clear \"predicate\" or \"action\" in the sentence to assign roles like \"Agent\", \"Patient\", or \"Instrument\" to, which are key components of Semantic Role Labeling.\n"
          ]
        }
      ]
    },
    {
      "cell_type": "markdown",
      "source": [
        "Sample 6: *ice* can be a noun or verb in Hockey<br>\n",
        "This sentence seems to difficult for ChatGPT. The model isn't good at neing hockey coach!<br>\n",
        "\"Now, ice pucks guys!\""
      ],
      "metadata": {
        "id": "PP1-XWe21aw1"
      }
    },
    {
      "cell_type": "code",
      "source": [
        "uinput=\"Perform Semantic Role Labeling on the following sentence:Now, ice pucks guys!\"\n",
        "text=dialog(uinput) #preparing the messages for ChatGPT\n",
        "print(\"Viewer request\",uinput)\n",
        "print(\"ChatGPT Sentiment Analysis:\",text)"
      ],
      "metadata": {
        "colab": {
          "base_uri": "https://localhost:8080/"
        },
        "id": "nD56SRycwLe-",
        "outputId": "8708fbfa-9233-458e-a0f6-a72d348276ef"
      },
      "execution_count": 13,
      "outputs": [
        {
          "output_type": "stream",
          "name": "stdout",
          "text": [
            "Viewer request Perform Semantic Role Labeling on the following sentence:Now, ice pucks guys!\n",
            "ChatGPT Sentiment Analysis: Sorry, the given sentence \"Now, ice pucks guys!\" does not have a clear semantic structure with well-defined roles. It seems to be an incomplete sentence or a non-standard phrase. Can you please provide me with another sentence to perform Semantic Role Labeling?\n"
          ]
        }
      ]
    },
    {
      "cell_type": "markdown",
      "source": [
        "Sample 7:confusing sentence with mixed descriptions<br>\n",
        "\"Though the customer seemed unhappy, she was, in fact satisfied but thinking of something else at the time, which gave a false impression?\""
      ],
      "metadata": {
        "id": "v6KxyIIt1bX-"
      }
    },
    {
      "cell_type": "code",
      "source": [
        "uinput=\"Perform Semantic Role Labeling on the following sentence:Though the customer seemed unhappy, she was, in fact satisfied but thinking of something else at the time, which gave a false impression?\"\n",
        "text=dialog(uinput) #preparing the messages for ChatGPT\n",
        "print(\"Viewer request\",uinput)\n",
        "print(\"ChatGPT Sentiment Analysis:\",text)"
      ],
      "metadata": {
        "colab": {
          "base_uri": "https://localhost:8080/"
        },
        "id": "FM3Bn0cNwYae",
        "outputId": "a03d11b8-62a3-406d-8c1a-f571f9f33da3"
      },
      "execution_count": 14,
      "outputs": [
        {
          "output_type": "stream",
          "name": "stdout",
          "text": [
            "Viewer request Perform Semantic Role Labeling on the following sentence:Though the customer seemed unhappy, she was, in fact satisfied but thinking of something else at the time, which gave a false impression?\n",
            "ChatGPT Sentiment Analysis: Here is the Semantic Role Labeling for the given sentence:\n",
            "\n",
            "Predicate: seemed \n",
            "Agent: the customer \n",
            "Thematic roles: \n",
            "Theme: unhappy \n",
            "Predicate: was \n",
            "Agent: she \n",
            "Thematic roles: \n",
            "Theme: satisfied \n",
            "Cause: thinking of something else at the time \n",
            "Predicate: gave \n",
            "Agent: which \n",
            "Thematic roles: \n",
            "Theme: false impression\n"
          ]
        }
      ]
    }
  ],
  "metadata": {
    "colab": {
      "provenance": []
    },
    "kernelspec": {
      "display_name": "Python 3",
      "name": "python3"
    },
    "language_info": {
      "name": "python"
    }
  },
  "nbformat": 4,
  "nbformat_minor": 0
}