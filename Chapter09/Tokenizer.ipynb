{
  "nbformat": 4,
  "nbformat_minor": 0,
  "metadata": {
    "colab": {
      "provenance": [],
      "machine_shape": "hm"
    },
    "kernelspec": {
      "name": "python3",
      "display_name": "Python 3"
    },
    "accelerator": "GPU"
  },
  "cells": [
    {
      "cell_type": "markdown",
      "metadata": {
        "id": "7fjcTlyE3WvR"
      },
      "source": [
        "#Tokenizers\n",
        "Copyright 2021-2023 Denis Rothman, MIT License\n",
        "\n",
        "Reference 1 for word embedding:\n",
        "https://www.geeksforgeeks.org/python-word-embedding-using-word2vec/\n",
        "\n",
        "Reference 2 for cosine similarity:\n",
        "[SciKit Learn cosine similarity documentation](https://scikit-learn.org/stable/modules/generated/sklearn.metrics.pairwise.cosine_similarity.html)\n",
        "\n",
        "**June 2023: notebook updated Gensim 4.0.0 and code updated**\n"
      ]
    },
    {
      "cell_type": "markdown",
      "source": [
        "#Pre-Requisistes"
      ],
      "metadata": {
        "id": "JV6bzj6-BelA"
      }
    },
    {
      "cell_type": "code",
      "metadata": {
        "id": "JKJ8Saf6vR9b",
        "colab": {
          "base_uri": "https://localhost:8080/"
        },
        "outputId": "cbbdebf1-f053-486d-9f43-863594501450"
      },
      "source": [
        "!pip install gensim\n",
        "import nltk\n",
        "nltk.download('punkt')"
      ],
      "execution_count": 1,
      "outputs": [
        {
          "output_type": "stream",
          "name": "stdout",
          "text": [
            "Looking in indexes: https://pypi.org/simple, https://us-python.pkg.dev/colab-wheels/public/simple/\n",
            "Requirement already satisfied: gensim in /usr/local/lib/python3.10/dist-packages (4.3.1)\n",
            "Requirement already satisfied: numpy>=1.18.5 in /usr/local/lib/python3.10/dist-packages (from gensim) (1.22.4)\n",
            "Requirement already satisfied: scipy>=1.7.0 in /usr/local/lib/python3.10/dist-packages (from gensim) (1.10.1)\n",
            "Requirement already satisfied: smart-open>=1.8.1 in /usr/local/lib/python3.10/dist-packages (from gensim) (6.3.0)\n"
          ]
        },
        {
          "output_type": "stream",
          "name": "stderr",
          "text": [
            "[nltk_data] Downloading package punkt to /root/nltk_data...\n",
            "[nltk_data]   Unzipping tokenizers/punkt.zip.\n"
          ]
        },
        {
          "output_type": "execute_result",
          "data": {
            "text/plain": [
              "True"
            ]
          },
          "metadata": {},
          "execution_count": 1
        }
      ]
    },
    {
      "cell_type": "code",
      "metadata": {
        "id": "7o7EeDUUu0Sh"
      },
      "source": [
        "import math\n",
        "import numpy as np\n",
        "from nltk.tokenize import sent_tokenize, word_tokenize \n",
        "import gensim \n",
        "from gensim.models import Word2Vec \n",
        "import numpy as np\n",
        "from sklearn.metrics.pairwise import cosine_similarity\n",
        "import matplotlib.pyplot as plt\n",
        "import warnings \n",
        "warnings.filterwarnings(action = 'ignore') "
      ],
      "execution_count": 2,
      "outputs": []
    },
    {
      "cell_type": "markdown",
      "source": [
        "#Word2Vec Tokenization\n",
        "\n",
        "Update: download from GitHub added"
      ],
      "metadata": {
        "id": "Bk0LxtnfBgqx"
      }
    },
    {
      "cell_type": "code",
      "execution_count": 3,
      "metadata": {
        "colab": {
          "base_uri": "https://localhost:8080/"
        },
        "outputId": "e8c3f7f0-c878-4feb-fc41-21f608de4501",
        "vscode": {
          "languageId": "python"
        },
        "id": "XpP0lw6Ueh2S"
      },
      "outputs": [
        {
          "output_type": "stream",
          "name": "stdout",
          "text": [
            "  % Total    % Received % Xferd  Average Speed   Time    Time     Time  Current\n",
            "                                 Dload  Upload   Total   Spent    Left  Speed\n",
            "100 10.9M  100 10.9M    0     0  27.9M      0 --:--:-- --:--:-- --:--:-- 27.9M\n"
          ]
        }
      ],
      "source": [
        "#1.Load text.txt using the Colab file manager\n",
        "#2.Downloading the file from GitHub\n",
        "!curl -L https://raw.githubusercontent.com/Denis2054/Transformers-for-NLP-2nd-Edition/master/Chapter09/text.txt --output \"text.txt\""
      ]
    },
    {
      "cell_type": "markdown",
      "source": [
        "Update: With Gensim 4.0.0, use the vector_size parameter instead of size when initializing the Word2Vec model."
      ],
      "metadata": {
        "id": "fZAT-Poklh_m"
      }
    },
    {
      "cell_type": "code",
      "metadata": {
        "id": "1NRomrXEJOxJ",
        "colab": {
          "base_uri": "https://localhost:8080/"
        },
        "outputId": "8a212e73-1498-4fe1-e8cd-9a1b6990c2e3"
      },
      "source": [
        "#‘text.txt’ file \n",
        "sample = open(\"text.txt\", \"r\") \n",
        "s = sample.read() \n",
        "print(\"text: s:\", s[:500])\n",
        "\n",
        "# processing escape characters \n",
        "f = s.replace(\"\\n\", \" \") \n",
        "print(\"text: f:\",f[:500])"
      ],
      "execution_count": 6,
      "outputs": [
        {
          "output_type": "stream",
          "name": "stdout",
          "text": [
            "text: s: \n",
            "December, 1971  [Etext #1]\n",
            "\n",
            "\n",
            "The Project Gutenberg Etext of The Declaration of Independence.\n",
            "\n",
            "All of the original Project Gutenberg Etexts from the\n",
            "1970's were produced in ALL CAPS, no lower case.  The\n",
            "computers we used then didn't have lower case at all.\n",
            "\n",
            "\n",
            "This is a retranscription of one of the first Project\n",
            "Gutenberg Etexts, officially dated December, 1971--\n",
            "and now officially re-released on December 31, 1993--\n",
            "\n",
            "\n",
            "The Project Gutenberg EBook of The Critique of Pure Reason, by Immanuel Kant\n",
            "\n",
            "T\n",
            "text: f:  December, 1971  [Etext #1]   The Project Gutenberg Etext of The Declaration of Independence.  All of the original Project Gutenberg Etexts from the 1970's were produced in ALL CAPS, no lower case.  The computers we used then didn't have lower case at all.   This is a retranscription of one of the first Project Gutenberg Etexts, officially dated December, 1971-- and now officially re-released on December 31, 1993--   The Project Gutenberg EBook of The Critique of Pure Reason, by Immanuel Kant  T\n"
          ]
        }
      ]
    },
    {
      "cell_type": "code",
      "source": [
        "data = [] \n",
        "# sentence parsing\n",
        "for i in sent_tokenize(f):  # Split into sentences that become lists -> sent_tokenize function split text based on punctuation and other language-specific rules. It will consider punctuation and create a list for each sentence \n",
        "\ttemp = [] \n",
        "\tfor j in word_tokenize(i): # tokenize each sentence content into tokens\n",
        "\t\ttemp.append(j.lower())\n",
        "\tdata.append(temp)\n",
        " \n",
        "print(\"data[:100]: \", data[:100])\n",
        "\n",
        "# Creating Skip Gram model \n",
        "model2 = gensim.models.Word2Vec(\n",
        "    data, \n",
        "    min_count = 1,  # Min frequency for words to be included in Word2Vect model, min_count = 1, means that all words regardless of freq, will be included\n",
        "    vector_size = 512, # Each world will be represented by a vec of dim 412, higher size can capture more fine-grained relationship, but increasse memory\n",
        "    window = 5, # Max distance between target word and context world, model will consider only 5 words on each side of the word\n",
        "    sg = 1)  # skip-gram algo, Word2Vec has only 2 algo, the other being \"continuous bag of words\"\n",
        "\n",
        "print(\"model2:\" , model2)"
      ],
      "metadata": {
        "id": "ytta32_AHEYh",
        "outputId": "5c70fe15-09cc-458f-c5be-e25f70320cad",
        "colab": {
          "base_uri": "https://localhost:8080/"
        }
      },
      "execution_count": 9,
      "outputs": [
        {
          "output_type": "stream",
          "name": "stdout",
          "text": [
            "data[:100]:  [['december', ',', '1971', '[', 'etext', '#', '1', ']', 'the', 'project', 'gutenberg', 'etext', 'of', 'the', 'declaration', 'of', 'independence', '.'], ['all', 'of', 'the', 'original', 'project', 'gutenberg', 'etexts', 'from', 'the', '1970', \"'s\", 'were', 'produced', 'in', 'all', 'caps', ',', 'no', 'lower', 'case', '.'], ['the', 'computers', 'we', 'used', 'then', 'did', \"n't\", 'have', 'lower', 'case', 'at', 'all', '.'], ['this', 'is', 'a', 'retranscription', 'of', 'one', 'of', 'the', 'first', 'project', 'gutenberg', 'etexts', ',', 'officially', 'dated', 'december', ',', '1971', '--', 'and', 'now', 'officially', 're-released', 'on', 'december', '31', ',', '1993', '--', 'the', 'project', 'gutenberg', 'ebook', 'of', 'the', 'critique', 'of', 'pure', 'reason', ',', 'by', 'immanuel', 'kant', 'this', 'ebook', 'is', 'for', 'the', 'use', 'of', 'anyone', 'anywhere', 'at', 'no', 'cost', 'and', 'with', 'almost', 'no', 'restrictions', 'whatsoever', '.'], ['you', 'may', 'copy', 'it', ',', 'give', 'it', 'away', 'or', 're-use', 'it', 'under', 'the', 'terms', 'of', 'the', 'project', 'gutenberg', 'license', 'included', 'with', 'this', 'ebook', 'or', 'online', 'at', 'www.gutenberg.net', 'title', ':', 'the', 'critique', 'of', 'pure', 'reason', 'author', ':', 'immanuel', 'kant', 'release', 'date', ':', 'july', ',', '2003', '[', 'ebook', '#', '4280', ']', 'last', 'updated', ':', 'january', '5', ',', '2020', 'language', ':', 'english', 'character', 'set', 'encoding', ':', 'utf-8', '*', '*', '*', 'start', 'of', 'this', 'project', 'gutenberg', 'ebook', 'the', 'critique', 'of', 'pure', 'reason', '*', '*', '*', 'the', 'text', 'of', 'magna', 'carta', 'john', ',', 'by', 'the', 'grace', 'of', 'god', 'king', 'of', 'england', ',', 'lord', 'of', 'ireland', ',', 'duke', 'of', 'normandy', 'and', 'aquitaine', ',', 'and', 'count', 'of', 'anjou', ',', 'to', 'his', 'archbishops', ',', 'bishops', ',', 'abbots', ',', 'earls', ',', 'barons', ',', 'justices', ',', 'foresters', ',', 'sheriffs', ',', 'stewards', ',', 'servants', ',', 'and', 'to', 'all', 'his', 'officials', 'and', 'loyal', 'subjects', ',', 'greeting', '.'], ['know', 'that', 'before', 'god', ',', 'for', 'the', 'health', 'of', 'our', 'soul', 'and', 'those', 'of', 'our', 'ancestors', 'and', 'heirs', ',', 'to', 'the', 'honour', 'of', 'god', ',', 'the', 'exaltation', 'of', 'the', 'holy', 'church', ',', 'and', 'the', 'better', 'ordering', 'of', 'our', 'kingdom', ',', 'at', 'the', 'advice', 'of', 'our', 'reverend', 'fathers', 'stephen', ',', 'archbishop', 'of', 'canterbury', ',', 'primate', 'of', 'all', 'england', ',', 'and', 'cardinal', 'of', 'the', 'holy', 'roman', 'church', ',', 'henry', 'archbishop', 'of', 'dublin', ',', 'william', 'bishop', 'of', 'london', ',', 'peter', 'bishop', 'of', 'winchester', ',', 'jocelin', 'bishop', 'of', 'bath', 'and', 'glastonbury', ',', 'hugh', 'bishop', 'of', 'lincoln', ',', 'walter', 'bishop', 'of', 'worcester', ',', 'william', 'bishop', 'of', 'coventry', ',', 'benedict', 'bishop', 'of', 'rochester', ',', 'master', 'pandulf', 'subdeacon', 'and', 'member', 'of', 'the', 'papal', 'household', ',', 'brother', 'aymeric', 'master', 'of', 'the', 'knighthood', 'of', 'the', 'temple', 'in', 'england', ',', 'william', 'marshal', 'earl', 'of', 'pembroke', ',', 'william', 'earl', 'of', 'salisbury', ',', 'william', 'earl', 'of', 'warren', ',', 'william', 'earl', 'of', 'arundel', ',', 'alan', 'de', 'galloway', 'constable', 'of', 'scotland', ',', 'warin', 'fitz', 'gerald', ',', 'peter', 'fitz', 'herbert', ',', 'hubert', 'de', 'burgh', 'seneschal', 'of', 'poitou', ',', 'hugh', 'de', 'neville', ',', 'matthew', 'fitz', 'herbert', ',', 'thomas', 'basset', ',', 'alan', 'basset', ',', 'philip', 'daubeny', ',', 'robert', 'de', 'roppeley', ',', 'john', 'marshal', ',', 'john', 'fitz', 'hugh', ',', 'and', 'other', 'loyal', 'subjects', ':', '(', '1', ')', 'first', ',', 'that', 'we', 'have', 'granted', 'to', 'god', ',', 'and', 'by', 'this', 'present', 'charter', 'have', 'confirmed', 'for', 'us', 'and', 'our', 'heirs', 'in', 'perpetuity', ',', 'that', 'the', 'english', 'church', 'shall', 'be', 'free', ',', 'and', 'shall', 'have', 'its', 'rights', 'undiminished', ',', 'and', 'its', 'liberties', 'unimpaired', '.'], ['that', 'we', 'wish', 'this', 'so', 'to', 'be', 'observed', ',', 'appears', 'from', 'the', 'fact', 'that', 'of', 'our', 'own', 'free', 'will', ',', 'before', 'the', 'outbreak', 'of', 'the', 'present', 'dispute', 'between', 'us', 'and', 'our', 'barons', ',', 'we', 'granted', 'and', 'confirmed', 'by', 'charter', 'the', 'freedom', 'of', 'the', 'church', \"'s\", 'elections', '-', 'a', 'right', 'reckoned', 'to', 'be', 'of', 'the', 'greatest', 'necessity', 'and', 'importance', 'to', 'it', '-', 'and', 'caused', 'this', 'to', 'be', 'confirmed', 'by', 'pope', 'innocent', 'iii', '.'], ['this', 'freedom', 'we', 'shall', 'observe', 'ourselves', ',', 'and', 'desire', 'to', 'be', 'observed', 'in', 'good', 'faith', 'by', 'our', 'heirs', 'in', 'perpetuity', '.'], ['to', 'all', 'free', 'men', 'of', 'our', 'kingdom', 'we', 'have', 'also', 'granted', ',', 'for', 'us', 'and', 'our', 'heirs', 'for', 'ever', ',', 'all', 'the', 'liberties', 'written', 'out', 'below', ',', 'to', 'have', 'and', 'to', 'keep', 'for', 'them', 'and', 'their', 'heirs', ',', 'of', 'us', 'and', 'our', 'heirs', ':', '(', '2', ')', 'if', 'any', 'earl', ',', 'baron', ',', 'or', 'other', 'person', 'that', 'holds', 'lands', 'directly', 'of', 'the', 'crown', ',', 'for', 'military', 'service', ',', 'shall', 'die', ',', 'and', 'at', 'his', 'death', 'his', 'heir', 'shall', 'be', 'of', 'full', 'age', 'and', 'owe', 'a', '`', 'relief', \"'\", ',', 'the', 'heir', 'shall', 'have', 'his', 'inheritance', 'on', 'payment', 'of', 'the', 'ancient', 'scale', 'of', '`', 'relief', \"'\", '.'], ['that', 'is', 'to', 'say', ',', 'the', 'heir', 'or', 'heirs', 'of', 'an', 'earl', 'shall', 'pay', '100', 'for', 'the', 'entire', 'earl', \"'s\", 'barony', ',', 'the', 'heir', 'or', 'heirs', 'of', 'a', 'knight', '100s', '.'], ['at', 'most', 'for', 'the', 'entire', 'knight', \"'s\", '`', 'fee', \"'\", ',', 'and', 'any', 'man', 'that', 'owes', 'less', 'shall', 'pay', 'less', ',', 'in', 'accordance', 'with', 'the', 'ancient', 'usage', 'of', '`', 'fees', \"'\", '(', '3', ')', 'but', 'if', 'the', 'heir', 'of', 'such', 'a', 'person', 'is', 'under', 'age', 'and', 'a', 'ward', ',', 'when', 'he', 'comes', 'of', 'age', 'he', 'shall', 'have', 'his', 'inheritance', 'without', '`', 'relief', \"'\", 'or', 'fine', '.'], ['(', '4', ')', 'the', 'guardian', 'of', 'the', 'land', 'of', 'an', 'heir', 'who', 'is', 'under', 'age', 'shall', 'take', 'from', 'it', 'only', 'reasonable', 'revenues', ',', 'customary', 'dues', ',', 'and', 'feudal', 'services', '.'], ['he', 'shall', 'do', 'this', 'without', 'destruction', 'or', 'damage', 'to', 'men', 'or', 'property', '.'], ['if', 'we', 'have', 'given', 'the', 'guardianship', 'of', 'the', 'land', 'to', 'a', 'sheriff', ',', 'or', 'to', 'any', 'person', 'answerable', 'to', 'us', 'for', 'the', 'revenues', ',', 'and', 'he', 'commits', 'destruction', 'or', 'damage', ',', 'we', 'will', 'exact', 'compensation', 'from', 'him', ',', 'and', 'the', 'land', 'shall', 'be', 'entrusted', 'to', 'two', 'worthy', 'and', 'prudent', 'men', 'of', 'the', 'same', '`', 'fee', \"'\", ',', 'who', 'shall', 'be', 'answerable', 'to', 'us', 'for', 'the', 'revenues', ',', 'or', 'to', 'the', 'person', 'to', 'whom', 'we', 'have', 'assigned', 'them', '.'], ['if', 'we', 'have', 'given', 'or', 'sold', 'to', 'anyone', 'the', 'guardianship', 'of', 'such', 'land', ',', 'and', 'he', 'causes', 'destruction', 'or', 'damage', ',', 'he', 'shall', 'lose', 'the', 'guardianship', 'of', 'it', ',', 'and', 'it', 'shall', 'be', 'handed', 'over', 'to', 'two', 'worthy', 'and', 'prudent', 'men', 'of', 'the', 'same', '`', 'fee', \"'\", ',', 'who', 'shall', 'be', 'similarly', 'answerable', 'to', 'us', '.'], ['(', '5', ')', 'for', 'so', 'long', 'as', 'a', 'guardian', 'has', 'guardianship', 'of', 'such', 'land', ',', 'he', 'shall', 'maintain', 'the', 'houses', ',', 'parks', ',', 'fish', 'preserves', ',', 'ponds', ',', 'mills', ',', 'and', 'everything', 'else', 'pertaining', 'to', 'it', ',', 'from', 'the', 'revenues', 'of', 'the', 'land', 'itself', '.'], ['when', 'the', 'heir', 'comes', 'of', 'age', ',', 'he', 'shall', 'restore', 'the', 'whole', 'land', 'to', 'him', ',', 'stocked', 'with', 'plough', 'teams', 'and', 'such', 'implements', 'of', 'husbandry', 'as', 'the', 'season', 'demands', 'and', 'the', 'revenues', 'from', 'the', 'land', 'can', 'reasonably', 'bear', '.'], ['(', '6', ')', 'heirs', 'may', 'be', 'given', 'in', 'marriage', ',', 'but', 'not', 'to', 'someone', 'of', 'lower', 'social', 'standing', '.'], ['before', 'a', 'marriage', 'takes', 'place', ',', 'it', 'shall', 'be', \"'\", 'made', 'known', 'to', 'the', 'heir', \"'s\", 'next-of-kin', '.'], ['(', '7', ')', 'at', 'her', 'husband', \"'s\", 'death', ',', 'a', 'widow', 'may', 'have', 'her', 'marriage', 'portion', 'and', 'inheritance', 'at', 'once', 'and', 'without', 'trouble', '.'], ['she', 'shall', 'pay', 'nothing', 'for', 'her', 'dower', ',', 'marriage', 'portion', ',', 'or', 'any', 'inheritance', 'that', 'she', 'and', 'her', 'husband', 'held', 'jointly', 'on', 'the', 'day', 'of', 'his', 'death', '.'], ['she', 'may', 'remain', 'in', 'her', 'husband', \"'s\", 'house', 'for', 'forty', 'days', 'after', 'his', 'death', ',', 'and', 'within', 'this', 'period', 'her', 'dower', 'shall', 'be', 'assigned', 'to', 'her', '.'], ['(', '8', ')', 'no', 'widow', 'shall', 'be', 'compelled', 'to', 'marry', ',', 'so', 'long', 'as', 'she', 'wishes', 'to', 'remain', 'without', 'a', 'husband', '.'], ['but', 'she', 'must', 'give', 'security', 'that', 'she', 'will', 'not', 'marry', 'without', 'royal', 'consent', ',', 'if', 'she', 'holds', 'her', 'lands', 'of', 'the', 'crown', ',', 'or', 'without', 'the', 'consent', 'of', 'whatever', 'other', 'lord', 'she', 'may', 'hold', 'them', 'of', '.'], ['(', '9', ')', 'neither', 'we', 'nor', 'our', 'officials', 'will', 'seize', 'any', 'land', 'or', 'rent', 'in', 'payment', 'of', 'a', 'debt', ',', 'so', 'long', 'as', 'the', 'debtor', 'has', 'movable', 'goods', 'sufficient', 'to', 'discharge', 'the', 'debt', '.'], ['a', 'debtor', \"'s\", 'sureties', 'shall', 'not', 'be', 'distrained', 'upon', 'so', 'long', 'as', 'the', 'debtor', 'himself', 'can', 'discharge', 'his', 'debt', '.'], ['if', ',', 'for', 'lack', 'of', 'means', ',', 'the', 'debtor', 'is', 'unable', 'to', 'discharge', 'his', 'debt', ',', 'his', 'sureties', 'shall', 'be', 'answerable', 'for', 'it', '.'], ['if', 'they', 'so', 'desire', ',', 'they', 'may', 'have', 'the', 'debtor', \"'s\", 'lands', 'and', 'rents', 'until', 'they', 'have', 'received', 'satisfaction', 'for', 'the', 'debt', 'that', 'they', 'paid', 'for', 'him', ',', 'unless', 'the', 'debtor', 'can', 'show', 'that', 'he', 'has', 'settled', 'his', 'obligations', 'to', 'them', '.'], ['(', '10', ')', 'if', 'anyone', 'who', 'has', 'borrowed', 'a', 'sum', 'of', 'money', 'from', 'jews', 'dies', 'before', 'the', 'debt', 'has', 'been', 'repaid', ',', 'his', 'heir', 'shall', 'pay', 'no', 'interest', 'on', 'the', 'debt', 'for', 'so', 'long', 'as', 'he', 'remains', 'under', 'age', ',', 'irrespective', 'of', 'whom', 'he', 'holds', 'his', 'lands', '.'], ['if', 'such', 'a', 'debt', 'falls', 'into', 'the', 'hands', 'of', 'the', 'crown', ',', 'it', 'will', 'take', 'nothing', 'except', 'the', 'principal', 'sum', 'specified', 'in', 'the', 'bond', '.'], ['(', '11', ')', 'if', 'a', 'man', 'dies', 'owing', 'money', 'to', 'jews', ',', 'his', 'wife', 'may', 'have', 'her', 'dower', 'and', 'pay', 'nothing', 'towards', 'the', 'debt', 'from', 'it', '.'], ['if', 'he', 'leaves', 'children', 'that', 'are', 'under', 'age', ',', 'their', 'needs', 'may', 'also', 'be', 'provided', 'for', 'on', 'a', 'scale', 'appropriate', 'to', 'the', 'size', 'of', 'his', 'holding', 'of', 'lands', '.'], ['the', 'debt', 'is', 'to', 'be', 'paid', 'out', 'of', 'the', 'residue', ',', 'reserving', 'the', 'service', 'due', 'to', 'his', 'feudal', 'lords', '.'], ['debts', 'owed', 'to', 'persons', 'other', 'than', 'jews', 'are', 'to', 'be', 'dealt', 'with', 'similarly', '.'], ['(', '12', ')', 'no', '`', 'scutage', \"'\", 'or', '`', 'aid', \"'\", 'may', 'be', 'levied', 'in', 'our', 'kingdom', 'without', 'its', 'general', 'consent', ',', 'unless', 'it', 'is', 'for', 'the', 'ransom', 'of', 'our', 'person', ',', 'to', 'make', 'our', 'eldest', 'son', 'a', 'knight', ',', 'and', '(', 'once', ')', 'to', 'marry', 'our', 'eldest', 'daughter', '.'], ['for', 'these', 'purposes', 'only', 'a', 'reasonable', '`', 'aid', \"'\", 'may', 'be', 'levied', '.'], ['`', 'aids', \"'\", 'from', 'the', 'city', 'of', 'london', 'are', 'to', 'be', 'treated', 'similarly', '.'], ['(', '13', ')', 'the', 'city', 'of', 'london', 'shall', 'enjoy', 'all', 'its', 'ancient', 'liberties', 'and', 'free', 'customs', ',', 'both', 'by', 'land', 'and', 'by', 'water', '.'], ['we', 'also', 'will', 'and', 'grant', 'that', 'all', 'other', 'cities', ',', 'boroughs', ',', 'towns', ',', 'and', 'ports', 'shall', 'enjoy', 'all', 'their', 'liberties', 'and', 'free', 'customs', '.'], ['(', '14', ')', 'to', 'obtain', 'the', 'general', 'consent', 'of', 'the', 'realm', 'for', 'the', 'assessment', 'of', 'an', '`', 'aid', \"'\", '-', 'except', 'in', 'the', 'three', 'cases', 'specified', 'above', '-', 'or', 'a', '`', 'scutage', \"'\", ',', 'we', 'will', 'cause', 'the', 'archbishops', ',', 'bishops', ',', 'abbots', ',', 'earls', ',', 'and', 'greater', 'barons', 'to', 'be', 'summoned', 'individually', 'by', 'letter', '.'], ['to', 'those', 'who', 'hold', 'lands', 'directly', 'of', 'us', 'we', 'will', 'cause', 'a', 'general', 'summons', 'to', 'be', 'issued', ',', 'through', 'the', 'sheriffs', 'and', 'other', 'officials', ',', 'to', 'come', 'together', 'on', 'a', 'fixed', 'day', '(', 'of', 'which', 'at', 'least', 'forty', 'days', 'notice', 'shall', 'be', 'given', ')', 'and', 'at', 'a', 'fixed', 'place', '.'], ['in', 'all', 'letters', 'of', 'summons', ',', 'the', 'cause', 'of', 'the', 'summons', 'will', 'be', 'stated', '.'], ['when', 'a', 'summons', 'has', 'been', 'issued', ',', 'the', 'business', 'appointed', 'for', 'the', 'day', 'shall', 'go', 'forward', 'in', 'accordance', 'with', 'the', 'resolution', 'of', 'those', 'present', ',', 'even', 'if', 'not', 'all', 'those', 'who', 'were', 'summoned', 'have', 'appeared', '.'], ['(', '15', ')', 'in', 'future', 'we', 'will', 'allow', 'no', 'one', 'to', 'levy', 'an', '`', 'aid', \"'\", 'from', 'his', 'free', 'men', ',', 'except', 'to', 'ransom', 'his', 'person', ',', 'to', 'make', 'his', 'eldest', 'son', 'a', 'knight', ',', 'and', '(', 'once', ')', 'to', 'marry', 'his', 'eldest', 'daughter', '.'], ['for', 'these', 'purposes', 'only', 'a', 'reasonable', '`', 'aid', \"'\", 'may', 'be', 'levied', '.'], ['(', '16', ')', 'no', 'man', 'shall', 'be', 'forced', 'to', 'perform', 'more', 'service', 'for', 'a', 'knight', \"'s\", '`', 'fee', \"'\", ',', 'or', 'other', 'free', 'holding', 'of', 'land', ',', 'than', 'is', 'due', 'from', 'it', '.'], ['(', '17', ')', 'ordinary', 'lawsuits', 'shall', 'not', 'follow', 'the', 'royal', 'court', 'around', ',', 'but', 'shall', 'be', 'held', 'in', 'a', 'fixed', 'place', '.'], ['(', '18', ')', 'inquests', 'of', 'novel', 'disseisin', ',', 'mort', \"d'ancestor\", ',', 'and', 'darrein', 'presentment', 'shall', 'be', 'taken', 'only', 'in', 'their', 'proper', 'county', 'court', '.'], ['we', 'ourselves', ',', 'or', 'in', 'our', 'absence', 'abroad', 'our', 'chief', 'justice', ',', 'will', 'send', 'two', 'justices', 'to', 'each', 'county', 'four', 'times', 'a', 'year', ',', 'and', 'these', 'justices', ',', 'with', 'four', 'knights', 'of', 'the', 'county', 'elected', 'by', 'the', 'county', 'itself', ',', 'shall', 'hold', 'the', 'assizes', 'in', 'the', 'county', 'court', ',', 'on', 'the', 'day', 'and', 'in', 'the', 'place', 'where', 'the', 'court', 'meets', '.'], ['(', '19', ')', 'if', 'any', 'assizes', 'can', 'not', 'be', 'taken', 'on', 'the', 'day', 'of', 'the', 'county', 'court', ',', 'as', 'many', 'knights', 'and', 'freeholders', 'shall', 'afterwards', 'remain', 'behind', ',', 'of', 'those', 'who', 'have', 'attended', 'the', 'court', ',', 'as', 'will', 'suffice', 'for', 'the', 'administration', 'of', 'justice', ',', 'having', 'regard', 'to', 'the', 'volume', 'of', 'business', 'to', 'be', 'done', '.'], ['(', '20', ')', 'for', 'a', 'trivial', 'offence', ',', 'a', 'free', 'man', 'shall', 'be', 'fined', 'only', 'in', 'proportion', 'to', 'the', 'degree', 'of', 'his', 'offence', ',', 'and', 'for', 'a', 'serious', 'offence', 'correspondingly', ',', 'but', 'not', 'so', 'heavily', 'as', 'to', 'deprive', 'him', 'of', 'his', 'livelihood', '.'], ['in', 'the', 'same', 'way', ',', 'a', 'merchant', 'shall', 'be', 'spared', 'his', 'merchandise', ',', 'and', 'a', 'husbandman', 'the', 'implements', 'of', 'his', 'husbandry', ',', 'if', 'they', 'fall', 'upon', 'the', 'mercy', 'of', 'a', 'royal', 'court', '.'], ['none', 'of', 'these', 'fines', 'shall', 'be', 'imposed', 'except', 'by', 'the', 'assessment', 'on', 'oath', 'of', 'reputable', 'men', 'of', 'the', 'neighbourhood', '.'], ['(', '21', ')', 'earls', 'and', 'barons', 'shall', 'be', 'fined', 'only', 'by', 'their', 'equals', ',', 'and', 'in', 'proportion', 'to', 'the', 'gravity', 'of', 'their', 'offence', '.'], ['(', '22', ')', 'a', 'fine', 'imposed', 'upon', 'the', 'lay', 'property', 'of', 'a', 'clerk', 'in', 'holy', 'orders', 'shall', 'be', 'assessed', 'upon', 'the', 'same', 'principles', ',', 'without', 'reference', 'to', 'the', 'value', 'of', 'his', 'ecclesiastical', 'benefice', '.'], ['(', '23', ')', 'no', 'town', 'or', 'person', 'shall', 'be', 'forced', 'to', 'build', 'bridges', 'over', 'rivers', 'except', 'those', 'with', 'an', 'ancient', 'obligation', 'to', 'do', 'so', '.'], ['(', '24', ')', 'no', 'sheriff', ',', 'constable', ',', 'coroners', ',', 'or', 'other', 'royal', 'officials', 'are', 'to', 'hold', 'lawsuits', 'that', 'should', 'be', 'held', 'by', 'the', 'royal', 'justices', '.'], ['(', '25', ')', 'every', 'county', ',', 'hundred', ',', 'wapentake', ',', 'and', 'tithing', 'shall', 'remain', 'at', 'its', 'ancient', 'rent', ',', 'without', 'increase', ',', 'except', 'the', 'royal', 'demesne', 'manors', '.'], ['(', '26', ')', 'if', 'at', 'the', 'death', 'of', 'a', 'man', 'who', 'holds', 'a', 'lay', '`', 'fee', \"'\", 'of', 'the', 'crown', ',', 'a', 'sheriff', 'or', 'royal', 'official', 'produces', 'royal', 'letters', 'patent', 'of', 'summons', 'for', 'a', 'debt', 'due', 'to', 'the', 'crown', ',', 'it', 'shall', 'be', 'lawful', 'for', 'them', 'to', 'seize', 'and', 'list', 'movable', 'goods', 'found', 'in', 'the', 'lay', '`', 'fee', \"'\", 'of', 'the', 'dead', 'man', 'to', 'the', 'value', 'of', 'the', 'debt', ',', 'as', 'assessed', 'by', 'worthy', 'men', '.'], ['nothing', 'shall', 'be', 'removed', 'until', 'the', 'whole', 'debt', 'is', 'paid', ',', 'when', 'the', 'residue', 'shall', 'be', 'given', 'over', 'to', 'the', 'executors', 'to', 'carry', 'out', 'the', 'dead', 'man', \"'s\", 'will', '.'], ['if', 'no', 'debt', 'is', 'due', 'to', 'the', 'crown', ',', 'all', 'the', 'movable', 'goods', 'shall', 'be', 'regarded', 'as', 'the', 'property', 'of', 'the', 'dead', 'man', ',', 'except', 'the', 'reasonable', 'shares', 'of', 'his', 'wife', 'and', 'children', '.'], ['(', '27', ')', 'if', 'a', 'free', 'man', 'dies', 'intestate', ',', 'his', 'movable', 'goods', 'are', 'to', 'be', 'distributed', 'by', 'his', 'next-of-kin', 'and', 'friends', ',', 'under', 'the', 'supervision', 'of', 'the', 'church', '.'], ['the', 'rights', 'of', 'his', 'debtors', 'are', 'to', 'be', 'preserved', '.'], ['(', '28', ')', 'no', 'constable', 'or', 'other', 'royal', 'official', 'shall', 'take', 'corn', 'or', 'other', 'movable', 'goods', 'from', 'any', 'man', 'without', 'immediate', 'payment', ',', 'unless', 'the', 'seller', 'voluntarily', 'offers', 'postponement', 'of', 'this', '.'], ['(', '29', ')', 'no', 'constable', 'may', 'compel', 'a', 'knight', 'to', 'pay', 'money', 'for', 'castle-guard', 'if', 'the', 'knight', 'is', 'willing', 'to', 'undertake', 'the', 'guard', 'in', 'person', ',', 'or', 'with', 'reasonable', 'excuse', 'to', 'supply', 'some', 'other', 'fit', 'man', 'to', 'do', 'it', '.'], ['a', 'knight', 'taken', 'or', 'sent', 'on', 'military', 'service', 'shall', 'be', 'excused', 'from', 'castle-guard', 'for', 'the', 'period', 'of', 'this', 'service', '.'], ['(', '30', ')', 'no', 'sheriff', ',', 'royal', 'official', ',', 'or', 'other', 'person', 'shall', 'take', 'horses', 'or', 'carts', 'for', 'transport', 'from', 'any', 'free', 'man', ',', 'without', 'his', 'consent', '.'], ['(', '31', ')', 'neither', 'we', 'nor', 'any', 'royal', 'official', 'will', 'take', 'wood', 'for', 'our', 'castle', ',', 'or', 'for', 'any', 'other', 'purpose', ',', 'without', 'the', 'consent', 'of', 'the', 'owner', '.'], ['(', '32', ')', 'we', 'will', 'not', 'keep', 'the', 'lands', 'of', 'people', 'convicted', 'of', 'felony', 'in', 'our', 'hand', 'for', 'longer', 'than', 'a', 'year', 'and', 'a', 'day', ',', 'after', 'which', 'they', 'shall', 'be', 'returned', 'to', 'the', 'lords', 'of', 'the', '`', 'fees', \"'\", 'concerned', '.'], ['(', '33', ')', 'all', 'fish-weirs', 'shall', 'be', 'removed', 'from', 'the', 'thames', ',', 'the', 'medway', ',', 'and', 'throughout', 'the', 'whole', 'of', 'england', ',', 'except', 'on', 'the', 'sea', 'coast', '.'], ['(', '34', ')', 'the', 'writ', 'called', 'precipe', 'shall', 'not', 'in', 'future', 'be', 'issued', 'to', 'anyone', 'in', 'respect', 'of', 'any', 'holding', 'of', 'land', ',', 'if', 'a', 'free', 'man', 'could', 'thereby', 'be', 'deprived', 'of', 'the', 'right', 'of', 'trial', 'in', 'his', 'own', 'lord', \"'s\", 'court', '.'], ['(', '35', ')', 'there', 'shall', 'be', 'standard', 'measures', 'of', 'wine', ',', 'ale', ',', 'and', 'corn', '(', 'the', 'london', 'quarter', ')', ',', 'throughout', 'the', 'kingdom', '.'], ['there', 'shall', 'also', 'be', 'a', 'standard', 'width', 'of', 'dyed', 'cloth', ',', 'russett', ',', 'and', 'haberject', ',', 'namely', 'two', 'ells', 'within', 'the', 'selvedges', '.'], ['weights', 'are', 'to', 'be', 'standardised', 'similarly', '.'], ['(', '36', ')', 'in', 'future', 'nothing', 'shall', 'be', 'paid', 'or', 'accepted', 'for', 'the', 'issue', 'of', 'a', 'writ', 'of', 'inquisition', 'of', 'life', 'or', 'limbs', '.'], ['it', 'shall', 'be', 'given', 'gratis', ',', 'and', 'not', 'refused', '.'], ['(', '37', ')', 'if', 'a', 'man', 'holds', 'land', 'of', 'the', 'crown', 'by', '`', 'fee-farm', \"'\", ',', '`', 'socage', \"'\", ',', 'or', '`', 'burgage', \"'\", ',', 'and', 'also', 'holds', 'land', 'of', 'someone', 'else', 'for', 'knight', \"'s\", 'service', ',', 'we', 'will', 'not', 'have', 'guardianship', 'of', 'his', 'heir', ',', 'nor', 'of', 'the', 'land', 'that', 'belongs', 'to', 'the', 'other', 'person', \"'s\", '`', 'fee', \"'\", ',', 'by', 'virtue', 'of', 'the', '`', 'fee-farm', \"'\", ',', '`', 'socage', \"'\", ',', 'or', '`', 'burgage', \"'\", ',', 'unless', 'the', '`', 'fee-farm', \"'\", 'owes', 'knight', \"'s\", 'service', '.'], ['we', 'will', 'not', 'have', 'the', 'guardianship', 'of', 'a', 'man', \"'s\", 'heir', ',', 'or', 'of', 'land', 'that', 'he', 'holds', 'of', 'someone', 'else', ',', 'by', 'reason', 'of', 'any', 'small', 'property', 'that', 'he', 'may', 'hold', 'of', 'the', 'crown', 'for', 'a', 'service', 'of', 'knives', ',', 'arrows', ',', 'or', 'the', 'like', '.'], ['(', '38', ')', 'in', 'future', 'no', 'official', 'shall', 'place', 'a', 'man', 'on', 'trial', 'upon', 'his', 'own', 'unsupported', 'statement', ',', 'without', 'producing', 'credible', 'witnesses', 'to', 'the', 'truth', 'of', 'it', '.'], ['(', '39', ')', 'no', 'free', 'man', 'shall', 'be', 'seized', 'or', 'imprisoned', ',', 'or', 'stripped', 'of', 'his', 'rights', 'or', 'possessions', ',', 'or', 'outlawed', 'or', 'exiled', ',', 'or', 'deprived', 'of', 'his', 'standing', 'in', 'any', 'other', 'way', ',', 'nor', 'will', 'we', 'proceed', 'with', 'force', 'against', 'him', ',', 'or', 'send', 'others', 'to', 'do', 'so', ',', 'except', 'by', 'the', 'lawful', 'judgement', 'of', 'his', 'equals', 'or', 'by', 'the', 'law', 'of', 'the', 'land', '.'], ['(', '40', ')', 'to', 'no', 'one', 'will', 'we', 'sell', ',', 'to', 'no', 'one', 'deny', 'or', 'delay', 'right', 'or', 'justice', '.'], ['(', '41', ')', 'all', 'merchants', 'may', 'enter', 'or', 'leave', 'england', 'unharmed', 'and', 'without', 'fear', ',', 'and', 'may', 'stay', 'or', 'travel', 'within', 'it', ',', 'by', 'land', 'or', 'water', ',', 'for', 'purposes', 'of', 'trade', ',', 'free', 'from', 'all', 'illegal', 'exactions', ',', 'in', 'accordance', 'with', 'ancient', 'and', 'lawful', 'customs', '.'], ['this', ',', 'however', ',', 'does', 'not', 'apply', 'in', 'time', 'of', 'war', 'to', 'merchants', 'from', 'a', 'country', 'that', 'is', 'at', 'war', 'with', 'us', '.'], ['any', 'such', 'merchants', 'found', 'in', 'our', 'country', 'at', 'the', 'outbreak', 'of', 'war', 'shall', 'be', 'detained', 'without', 'injury', 'to', 'their', 'persons', 'or', 'property', ',', 'until', 'we', 'or', 'our', 'chief', 'justice', 'have', 'discovered', 'how', 'our', 'own', 'merchants', 'are', 'being', 'treated', 'in', 'the', 'country', 'at', 'war', 'with', 'us', '.'], ['if', 'our', 'own', 'merchants', 'are', 'safe', 'they', 'shall', 'be', 'safe', 'too', '.'], ['(', '42', ')', 'in', 'future', 'it', 'shall', 'be', 'lawful', 'for', 'any', 'man', 'to', 'leave', 'and', 'return', 'to', 'our', 'kingdom', 'unharmed', 'and', 'without', 'fear', ',', 'by', 'land', 'or', 'water', ',', 'preserving', 'his', 'allegiance', 'to', 'us', ',', 'except', 'in', 'time', 'of', 'war', ',', 'for', 'some', 'short', 'period', ',', 'for', 'the', 'common', 'benefit', 'of', 'the', 'realm', '.'], ['people', 'that', 'have', 'been', 'imprisoned', 'or', 'outlawed', 'in', 'accordance', 'with', 'the', 'law', 'of', 'the', 'land', ',', 'people', 'from', 'a', 'country', 'that', 'is', 'at', 'war', 'with', 'us', ',', 'and', 'merchants', '-', 'who', 'shall', 'be', 'dealt', 'with', 'as', 'stated', 'above', '-', 'are', 'excepted', 'from', 'this', 'provision', '.'], ['(', '43', ')', 'if', 'a', 'man', 'holds', 'lands', 'of', 'any', '`', 'escheat', \"'\", 'such', 'as', 'the', '`', 'honour', \"'\", 'of', 'wallingford', ',', 'nottingham', ',', 'boulogne', ',', 'lancaster', ',', 'or', 'of', 'other', '`', 'escheats', \"'\", 'in', 'our', 'hand', 'that', 'are', 'baronies', ',', 'at', 'his', 'death', 'his', 'heir', 'shall', 'give', 'us', 'only', 'the', '`', 'relief', \"'\", 'and', 'service', 'that', 'he', 'would', 'have', 'made', 'to', 'the', 'baron', ',', 'had', 'the', 'barony', 'been', 'in', 'the', 'baron', \"'s\", 'hand', '.'], ['we', 'will', 'hold', 'the', '`', 'escheat', \"'\", 'in', 'the', 'same', 'manner', 'as', 'the', 'baron', 'held', 'it', '.'], ['(', '44', ')', 'people', 'who', 'live', 'outside', 'the', 'forest', 'need', 'not', 'in', 'future', 'appear', 'before', 'the', 'royal', 'justices', 'of', 'the', 'forest', 'in', 'answer', 'to', 'general', 'summonses', ',', 'unless', 'they', 'are', 'actually', 'involved', 'in', 'proceedings', 'or', 'are', 'sureties', 'for', 'someone', 'who', 'has', 'been', 'seized', 'for', 'a', 'forest', 'offence', '.'], ['(', '45', ')', 'we', 'will', 'appoint', 'as', 'justices', ',', 'constables', ',', 'sheriffs', ',', 'or', 'other', 'officials', ',', 'only', 'men', 'that', 'know', 'the', 'law', 'of', 'the', 'realm', 'and', 'are', 'minded', 'to', 'keep', 'it', 'well', '.'], ['(', '46', ')', 'all', 'barons', 'who', 'have', 'founded', 'abbeys', ',', 'and', 'have', 'charters', 'of', 'english', 'kings', 'or', 'ancient', 'tenure', 'as', 'evidence', 'of', 'this', ',', 'may', 'have', 'guardianship', 'of', 'them', 'when', 'there', 'is', 'no', 'abbot', ',', 'as', 'is', 'their', 'due', '.'], ['(', '47', ')', 'all', 'forests', 'that', 'have', 'been', 'created', 'in', 'our', 'reign', 'shall', 'at', 'once', 'be', 'disafforested', '.'], ['river-banks', 'that', 'have', 'been', 'enclosed', 'in', 'our', 'reign', 'shall', 'be', 'treated', 'similarly', '.'], ['(', '48', ')', 'all', 'evil', 'customs', 'relating', 'to', 'forests', 'and', 'warrens', ',', 'foresters', ',', 'warreners', ',', 'sheriffs', 'and', 'their', 'servants', ',', 'or', 'river-banks', 'and', 'their', 'wardens', ',', 'are', 'at', 'once', 'to', 'be', 'investigated', 'in', 'every', 'county', 'by', 'twelve', 'sworn', 'knights', 'of', 'the', 'county', ',', 'and', 'within', 'forty', 'days', 'of', 'their', 'enquiry', 'the', 'evil', 'customs', 'are', 'to', 'be', 'abolished', 'completely', 'and', 'irrevocably', '.'], ['but', 'we', ',', 'or', 'our', 'chief', 'justice', 'if', 'we', 'are', 'not', 'in', 'england', ',', 'are', 'first', 'to', 'be', 'informed', '.'], ['(', '49', ')', 'we', 'will', 'at', 'once', 'return', 'all', 'hostages', 'and', 'charters', 'delivered', 'up', 'to', 'us', 'by', 'englishmen', 'as', 'security', 'for', 'peace', 'or', 'for', 'loyal', 'service', '.'], ['*', '*', '*', 'here', 'were', 'some', 'strange', 'characters', ',', 'not', 'completely', 'removed', '(', '50', ')', 'we', 'will', 'remove', 'completely', 'from', 'their', 'offices', 'the', 'kinsmen', 'of', 'gerard', 'de', 'ath', ',', 'peter', ',', 'guy', ',', 'and', 'andrew', 'de', 'chanceaux', ',', 'guy', 'de', 'cigogne', ',', 'and', 'in', 'future', 'they', 'shall', 'hold', 'no', 'offices', 'in', 'england', '.'], ['the', 'people', 'in', 'question', 'are', 'engelard', 'de', 'cigogn', ',', 'geoffrey', 'de', 'martigny', 'and', 'his', 'brothers', ',', 'philip', 'marc', 'and', 'his', 'brothers', ',', 'with', 'geoffrey', 'his', 'nephew', ',', 'and', 'all', 'their', 'followers', '.'], ['*', 'as', 'soon', 'as', 'peace', 'is', 'restored', ',', 'we', 'will', 'remove', 'from', 'the', 'kingdom', 'all', 'the', 'foreign', 'knights', ',', 'bowmen', ',', 'their', 'attendants', ',', 'and', 'the', 'mercenaries', 'that', 'have', 'come', 'to', 'it', ',', 'to', 'its', 'harm', ',', 'with', 'horses', 'and', 'arms', '.']]\n",
            "model2: Word2Vec<vocab=11770, vector_size=512, alpha=0.025>\n"
          ]
        }
      ]
    },
    {
      "cell_type": "markdown",
      "source": [
        "The Word2Vec model is trained and the resulting model contains word embeddings."
      ],
      "metadata": {
        "id": "AAijpg36Ofl7"
      }
    },
    {
      "cell_type": "markdown",
      "source": [
        "#Cosine Similarity"
      ],
      "metadata": {
        "id": "caCHjrHxBiXu"
      }
    },
    {
      "cell_type": "markdown",
      "source": [
        "It calculates the similarity between two words using the pre-trained Word2Vec model (model2).\n",
        "\n",
        "Vocabulary:\n",
        "The vocabulary refers to the set of unique words or tokens present in a given corpus or dataset. It represents the entire collection of words that the word representation model is designed to handle. The vocabulary typically includes all the distinct words encountered during the training phase of the model.\n",
        "\n",
        "Embeddings:\n",
        "Embeddings, or word embeddings, are vector representations of words within a word representation model. They are numerical representations that capture the semantic and syntactic properties of words based on their contextual usage in the training data. Each word in the vocabulary has an associated embedding vector.\n",
        "\n",
        "In the case of Word2Vec, the model learns word embeddings by considering the context of each word within the training data. It assigns a high-dimensional vector to each word in the vocabulary, where each dimension of the vector represents a learned feature or property of the word. These embeddings encode information about the relationships between words based on their co-occurrence patterns in the training data."
      ],
      "metadata": {
        "id": "sa3Rmic2O751"
      }
    },
    {
      "cell_type": "code",
      "metadata": {
        "id": "YcC_3JLcJTgw"
      },
      "source": [
        "# Fun takes 2 words as input\n",
        "def similarity(word1,word2):\n",
        "        cosine=False #default value, used to determine if cosine similarity calculation is possible for the given words\n",
        "        try:\n",
        "                a=model2[word1] # Retrieve the word embedding for word1\n",
        "                cosine=True         # And cosine is set to true afterwards\n",
        "        except KeyError:     #The KeyError exception is raised if word not found in the vocabulary\n",
        "                print(word1, \":[unk] key not found in dictionary\") #False implied\n",
        "\n",
        "        try:\n",
        "                b=model2[word2]#a=True implied\n",
        "        except KeyError:       #The KeyError exception is raised\n",
        "                cosine=False   #both a and b must be true\n",
        "                print(word2, \":[unk] key not found in dictionary\")\n",
        "\n",
        "        if(cosine==True):\n",
        "                b=model2[word2]\n",
        "                # compute cosine similarity (this 4 lines are just an example, because the cosine_similarity fun is used instead later on)\n",
        "                dot = np.dot(a, b)\n",
        "                norma = np.linalg.norm(a)\n",
        "                normb = np.linalg.norm(b)\n",
        "                cos = dot / (norma * normb)\n",
        "                print(\"Manual calculation of cos value: \", cos)\n",
        "\n",
        "                aa = a.reshape(1,512) \n",
        "                ba = b.reshape(1,512)\n",
        "                print(\"Word1\",aa)\n",
        "                print(\"Word2\",ba)\n",
        "                cos_lib = cosine_similarity(aa, ba)\n",
        "                print(\"cosine_similarity fun calculation of cos value: \", cos_lib)\n",
        "                print(cos_lib,\"word similarity\")\n",
        "          \n",
        "        if(cosine==False):cos_lib=0; # If cosine false, dinciating that at least 1 of the word not found in the voca, cos_lib = 0\n",
        "        return cos_lib"
      ],
      "execution_count": 13,
      "outputs": []
    },
    {
      "cell_type": "markdown",
      "source": [
        "#Case 0: Words in the dataset and the dictionary"
      ],
      "metadata": {
        "id": "BG8ANf4iAwqy"
      }
    },
    {
      "cell_type": "markdown",
      "source": [
        "Update: In Gensim 4.0.0, direct access to vectors using the model instance (like model[word]) has been changed. Use model.wv[word] to access the vector for a word."
      ],
      "metadata": {
        "id": "xqnmV5Gnmkti"
      }
    },
    {
      "cell_type": "code",
      "source": [
        "def similarity(word1, word2):\n",
        "    cosine = False  # default value\n",
        "    try:\n",
        "        a = model2.wv[word1]\n",
        "        cosine = True\n",
        "    except KeyError:     # The KeyError exception is raised\n",
        "        print(\"The word \",word1,\" does not exist in the dictionary\")\n",
        "    try:\n",
        "        b = model2.wv[word2]\n",
        "    except KeyError:     # The KeyError exception is raised\n",
        "        print(\"The word \",word2,\" does not exist in the dictionary\")\n",
        "        cosine = False  # reset to False if the second word doesn't exist\n",
        "    if cosine: # if both words are in the vocabulary\n",
        "        return cosine_similarity([a],[b]) # sklearn cosine_similarity requires 2D arrays\n",
        "    else:\n",
        "        return 0 # if either word is not in the vocabulary return similarity as 0"
      ],
      "metadata": {
        "id": "E_rtBGT8msIa"
      },
      "execution_count": 15,
      "outputs": []
    },
    {
      "cell_type": "code",
      "source": [
        "word1 = \"freedom\"\n",
        "word2 = \"liberty\"\n",
        "print(\"Similarity between\", word1, \"and\", word2, \"is\", similarity(word1, word2))"
      ],
      "metadata": {
        "colab": {
          "base_uri": "https://localhost:8080/"
        },
        "id": "L-KYdjiZmxSe",
        "outputId": "9e2e97e6-985a-4c3c-c668-892f67e348a3"
      },
      "execution_count": 16,
      "outputs": [
        {
          "output_type": "stream",
          "name": "stdout",
          "text": [
            "Similarity between freedom and liberty is [[0.33216608]]\n"
          ]
        }
      ]
    },
    {
      "cell_type": "markdown",
      "source": [
        "#Case 1: Words not in the dataset or the dictionary"
      ],
      "metadata": {
        "id": "EpjN79c2Ay-g"
      }
    },
    {
      "cell_type": "code",
      "metadata": {
        "id": "4B7vvKxOLbYC",
        "colab": {
          "base_uri": "https://localhost:8080/"
        },
        "outputId": "0773c0d9-6ae9-4c5a-bea8-8a272c6da9f0"
      },
      "source": [
        "word1=\"corporations\";word2=\"rights\"\n",
        "print(\"Similarity\",similarity(word1,word2),word1,word2)"
      ],
      "execution_count": 17,
      "outputs": [
        {
          "output_type": "stream",
          "name": "stdout",
          "text": [
            "The word  corporations  does not exist in the dictionary\n",
            "Similarity 0 corporations rights\n"
          ]
        }
      ]
    },
    {
      "cell_type": "markdown",
      "source": [
        "#Case 2: Noisy Relationship"
      ],
      "metadata": {
        "id": "BEA37lv5AuSS"
      }
    },
    {
      "cell_type": "code",
      "metadata": {
        "id": "qkFIC79JCQJp",
        "colab": {
          "base_uri": "https://localhost:8080/"
        },
        "outputId": "26debb5a-f7fc-4990-abb5-0c8802d0c647"
      },
      "source": [
        "word1=\"etext\";word2=\"declaration\"\n",
        "print(\"Similarity\",similarity(word1,word2),word1,word2)"
      ],
      "execution_count": 18,
      "outputs": [
        {
          "output_type": "stream",
          "name": "stdout",
          "text": [
            "Similarity [[0.5683219]] etext declaration\n"
          ]
        }
      ]
    },
    {
      "cell_type": "markdown",
      "source": [
        "#Case 3: Words in the text but not in the dictionary"
      ],
      "metadata": {
        "id": "E7Jbj4PvBKiY"
      }
    },
    {
      "cell_type": "code",
      "metadata": {
        "id": "16uvrkFODNjv",
        "colab": {
          "base_uri": "https://localhost:8080/"
        },
        "outputId": "5210fc89-258f-4421-d7c9-a0c010efc234"
      },
      "source": [
        "word1=\"pie\";word2=\"logic\"\n",
        "print(\"Similarity\",similarity(word1,word2),word1,word2)"
      ],
      "execution_count": 19,
      "outputs": [
        {
          "output_type": "stream",
          "name": "stdout",
          "text": [
            "The word  pie  does not exist in the dictionary\n",
            "Similarity 0 pie logic\n"
          ]
        }
      ]
    },
    {
      "cell_type": "markdown",
      "source": [
        "#Case 4: Rare words"
      ],
      "metadata": {
        "id": "1-c3wayoBNSm"
      }
    },
    {
      "cell_type": "code",
      "metadata": {
        "id": "mKVPiEi-GZtf",
        "colab": {
          "base_uri": "https://localhost:8080/"
        },
        "outputId": "2d3458ed-046a-45e3-b203-14aba5f8dba0"
      },
      "source": [
        "word1=\"justiciar\";word2=\"judgement\"\n",
        "print(\"Similarity\",similarity(word1,word2),word1,word2)"
      ],
      "execution_count": 20,
      "outputs": [
        {
          "output_type": "stream",
          "name": "stdout",
          "text": [
            "Similarity [[0.24896161]] justiciar judgement\n"
          ]
        }
      ]
    },
    {
      "cell_type": "markdown",
      "source": [
        "#Case 5: Replacing rare words"
      ],
      "metadata": {
        "id": "8z197XkNBO07"
      }
    },
    {
      "cell_type": "code",
      "metadata": {
        "id": "0xZtAm3DHGJg",
        "colab": {
          "base_uri": "https://localhost:8080/"
        },
        "outputId": "7e5c90e0-7b6c-408e-b2f9-8021a0cb8f6e"
      },
      "source": [
        "word1=\"judge\";word2=\"judgement\"\n",
        "print(\"Similarity\",similarity(word1,word2),word1,word2)"
      ],
      "execution_count": 21,
      "outputs": [
        {
          "output_type": "stream",
          "name": "stdout",
          "text": [
            "Similarity [[0.15906775]] judge judgement\n"
          ]
        }
      ]
    },
    {
      "cell_type": "markdown",
      "source": [
        "#Case 6: Entailment"
      ],
      "metadata": {
        "id": "di4xu5j5BPGO"
      }
    },
    {
      "cell_type": "code",
      "metadata": {
        "id": "wOSID8kXHXWt",
        "colab": {
          "base_uri": "https://localhost:8080/"
        },
        "outputId": "6c5afd43-e503-4621-931b-df11e27e849d"
      },
      "source": [
        "word1=\"pay\";word2=\"debt\"\n",
        "print(\"Similarity\",similarity(word1,word2),word1,word2)"
      ],
      "execution_count": 22,
      "outputs": [
        {
          "output_type": "stream",
          "name": "stdout",
          "text": [
            "Similarity [[0.51492745]] pay debt\n"
          ]
        }
      ]
    }
  ]
}