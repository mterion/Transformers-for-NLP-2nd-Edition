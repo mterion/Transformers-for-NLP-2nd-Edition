{
  "cells": [
    {
      "cell_type": "markdown",
      "metadata": {
        "id": "LH2YgC7LfzJZ"
      },
      "source": [
        "#Training OpenAI GTP-2\n",
        "Copyright 2021, Denis Rothman MIT License. Denis Rothman created the Colab notebook using the OpenAI repository, adding title steps for educational purposes only.\n",
        "\n",
        "**March 2023 message by Denis Rothman:\" \n",
        "Google Colab does not support Tensorflow 1.x anymore which makes this notebook unstable.\n",
        "This notebook is replaced by [Summarizing_with_ChatGPT](https://github.com/Denis2054/Transformers-for-NLP-2nd-Edition/blob/main/Chapter09/Summarizing_with_ChatGPT.ipynb). Click on the link and jump into ChatGPT's potential.\n",
        "\n",
        "For more on how to begin with ChatGPT, run [jump-start ChatGPT](https://github.com/Denis2054/Transformers-for-NLP-2nd-Edition/blob/main/Bonus/Jump_Starting_ChatGPT_with_the_OpenAI_API.ipynb)\n",
        "\n",
        "\n",
        "___________________________________________________________\n",
        "\n",
        "***Code References***\n",
        "\n",
        "[Reference: OpenAI Repository](https://github.com/openai/gpt-2)\n",
        "The repository was cloned and adapted to N Shepperd's repository.\n",
        "\n",
        "[Reference: N Shepperd Repository](https://github.com/nshepperd/gpt-2)\n",
        "The repository was not cloned. N Shepperd's training programs were inserted into the OpenAI Repository. The list of N Shepperd's programs are cited in the 'N Shepperd' section of the notebook. Some programs were modified for educational purposes only to work with this notebook.\n",
        "\n",
        "***Model Reference Paper***\n",
        "\n",
        "[Alec Radford, Jeffrey Wu, Rewon Child, David Luan, Dario Amodei, Ilya Sutskever,2019,'Language Models are Unsupervised Multitask Learners'](https://d4mucfpksywv.cloudfront.net/better-language-models/language-models.pdf)\n",
        "\n",
        "\n",
        "***Step 1: Pre-requisites:***\n",
        "\n",
        "a) activate GPU in the notebook settings runTime menu <br>\n",
        "b) Upload the following program files and mdset.txt(dataset) with the file manager: train.py,load_dataset.py,encode.py,accumulate,memory_saving_gradients.py,mdset.txt"
      ]
    },
    {
      "cell_type": "code",
      "execution_count": 1,
      "metadata": {
        "id": "bPwOLBZsZNUI",
        "vscode": {
          "languageId": "python"
        }
      },
      "outputs": [],
      "source": [
        "from IPython.display import Image     #This is used for rendering images in the notebook"
      ]
    },
    {
      "cell_type": "markdown",
      "metadata": {
        "id": "qIEoCIdNZPm9"
      },
      "source": [
        "#Steps 2 to 6: Initial steps of the training process"
      ]
    },
    {
      "cell_type": "code",
      "execution_count": 2,
      "metadata": {
        "colab": {
          "base_uri": "https://localhost:8080/"
        },
        "id": "isqdu1fpfmqM",
        "outputId": "95c05906-d68d-4119-a977-610a45f14991",
        "vscode": {
          "languageId": "python"
        }
      },
      "outputs": [
        {
          "output_type": "stream",
          "name": "stdout",
          "text": [
            "Cloning into 'gpt-2'...\n",
            "remote: Enumerating objects: 236, done.\u001b[K\n",
            "remote: Counting objects: 100% (3/3), done.\u001b[K\n",
            "remote: Compressing objects: 100% (3/3), done.\u001b[K\n",
            "remote: Total 236 (delta 0), reused 0 (delta 0), pack-reused 233\u001b[K\n",
            "Receiving objects: 100% (236/236), 4.38 MiB | 15.00 MiB/s, done.\n",
            "Resolving deltas: 100% (124/124), done.\n"
          ]
        }
      ],
      "source": [
        "#@title Step 2: Cloning the OpenAI GPT-2 Repository \n",
        "#!git clone https://github.com/nshepperd/gpt-2.git\n",
        "!git clone https://github.com/openai/gpt-2.git"
      ]
    },
    {
      "cell_type": "code",
      "execution_count": 3,
      "metadata": {
        "colab": {
          "base_uri": "https://localhost:8080/"
        },
        "id": "7RHOjN-TjUbj",
        "outputId": "f2f28855-de78-499e-8ae2-cb841dde7c27",
        "vscode": {
          "languageId": "python"
        }
      },
      "outputs": [
        {
          "output_type": "stream",
          "name": "stdout",
          "text": [
            "Looking in indexes: https://pypi.org/simple, https://us-python.pkg.dev/colab-wheels/public/simple/\n",
            "Collecting fire>=0.1.3 (from -r requirements.txt (line 1))\n",
            "  Downloading fire-0.5.0.tar.gz (88 kB)\n",
            "\u001b[2K     \u001b[90m━━━━━━━━━━━━━━━━━━━━━━━━━━━━━━━━━━━━━━━━\u001b[0m \u001b[32m88.3/88.3 kB\u001b[0m \u001b[31m4.1 MB/s\u001b[0m eta \u001b[36m0:00:00\u001b[0m\n",
            "\u001b[?25h  Preparing metadata (setup.py) ... \u001b[?25l\u001b[?25hdone\n",
            "Collecting regex==2017.4.5 (from -r requirements.txt (line 2))\n",
            "  Downloading regex-2017.04.05.tar.gz (601 kB)\n",
            "\u001b[2K     \u001b[90m━━━━━━━━━━━━━━━━━━━━━━━━━━━━━━━━━━━━━━\u001b[0m \u001b[32m601.6/601.6 kB\u001b[0m \u001b[31m20.2 MB/s\u001b[0m eta \u001b[36m0:00:00\u001b[0m\n",
            "\u001b[?25h  Preparing metadata (setup.py) ... \u001b[?25l\u001b[?25hdone\n",
            "Collecting requests==2.21.0 (from -r requirements.txt (line 3))\n",
            "  Downloading requests-2.21.0-py2.py3-none-any.whl (57 kB)\n",
            "\u001b[2K     \u001b[90m━━━━━━━━━━━━━━━━━━━━━━━━━━━━━━━━━━━━━━━━\u001b[0m \u001b[32m58.0/58.0 kB\u001b[0m \u001b[31m7.3 MB/s\u001b[0m eta \u001b[36m0:00:00\u001b[0m\n",
            "\u001b[?25hCollecting tqdm==4.31.1 (from -r requirements.txt (line 4))\n",
            "  Downloading tqdm-4.31.1-py2.py3-none-any.whl (48 kB)\n",
            "\u001b[2K     \u001b[90m━━━━━━━━━━━━━━━━━━━━━━━━━━━━━━━━━━━━━━━━\u001b[0m \u001b[32m48.3/48.3 kB\u001b[0m \u001b[31m4.4 MB/s\u001b[0m eta \u001b[36m0:00:00\u001b[0m\n",
            "\u001b[?25hCollecting chardet<3.1.0,>=3.0.2 (from requests==2.21.0->-r requirements.txt (line 3))\n",
            "  Downloading chardet-3.0.4-py2.py3-none-any.whl (133 kB)\n",
            "\u001b[2K     \u001b[90m━━━━━━━━━━━━━━━━━━━━━━━━━━━━━━━━━━━━━━\u001b[0m \u001b[32m133.4/133.4 kB\u001b[0m \u001b[31m16.9 MB/s\u001b[0m eta \u001b[36m0:00:00\u001b[0m\n",
            "\u001b[?25hCollecting idna<2.9,>=2.5 (from requests==2.21.0->-r requirements.txt (line 3))\n",
            "  Downloading idna-2.8-py2.py3-none-any.whl (58 kB)\n",
            "\u001b[2K     \u001b[90m━━━━━━━━━━━━━━━━━━━━━━━━━━━━━━━━━━━━━━━━\u001b[0m \u001b[32m58.6/58.6 kB\u001b[0m \u001b[31m7.6 MB/s\u001b[0m eta \u001b[36m0:00:00\u001b[0m\n",
            "\u001b[?25hCollecting urllib3<1.25,>=1.21.1 (from requests==2.21.0->-r requirements.txt (line 3))\n",
            "  Downloading urllib3-1.24.3-py2.py3-none-any.whl (118 kB)\n",
            "\u001b[2K     \u001b[90m━━━━━━━━━━━━━━━━━━━━━━━━━━━━━━━━━━━━━━━\u001b[0m \u001b[32m118.8/118.8 kB\u001b[0m \u001b[31m6.1 MB/s\u001b[0m eta \u001b[36m0:00:00\u001b[0m\n",
            "\u001b[?25hRequirement already satisfied: certifi>=2017.4.17 in /usr/local/lib/python3.10/dist-packages (from requests==2.21.0->-r requirements.txt (line 3)) (2022.12.7)\n",
            "Requirement already satisfied: six in /usr/local/lib/python3.10/dist-packages (from fire>=0.1.3->-r requirements.txt (line 1)) (1.16.0)\n",
            "Requirement already satisfied: termcolor in /usr/local/lib/python3.10/dist-packages (from fire>=0.1.3->-r requirements.txt (line 1)) (2.3.0)\n",
            "Building wheels for collected packages: regex, fire\n",
            "  Building wheel for regex (setup.py) ... \u001b[?25l\u001b[?25hdone\n",
            "  Created wheel for regex: filename=regex-2017.4.5-cp310-cp310-linux_x86_64.whl size=677793 sha256=5e74107a5e158ca812c4289d2e091fed7415e58e0f118f2eb4c8a817a32acf09\n",
            "  Stored in directory: /root/.cache/pip/wheels/51/08/ba/204d631aa07ad5b7ff391f1a4f3e80f56e03cf58f890129a9e\n",
            "  Building wheel for fire (setup.py) ... \u001b[?25l\u001b[?25hdone\n",
            "  Created wheel for fire: filename=fire-0.5.0-py2.py3-none-any.whl size=116932 sha256=46ebb0d880f89b9d2615f492597d81afb4cd7df98b418487024dc1da046f0493\n",
            "  Stored in directory: /root/.cache/pip/wheels/90/d4/f7/9404e5db0116bd4d43e5666eaa3e70ab53723e1e3ea40c9a95\n",
            "Successfully built regex fire\n",
            "Installing collected packages: regex, chardet, urllib3, tqdm, idna, fire, requests\n",
            "  Attempting uninstall: regex\n",
            "    Found existing installation: regex 2022.10.31\n",
            "    Uninstalling regex-2022.10.31:\n",
            "      Successfully uninstalled regex-2022.10.31\n",
            "  Attempting uninstall: chardet\n",
            "    Found existing installation: chardet 4.0.0\n",
            "    Uninstalling chardet-4.0.0:\n",
            "      Successfully uninstalled chardet-4.0.0\n",
            "  Attempting uninstall: urllib3\n",
            "    Found existing installation: urllib3 1.26.15\n",
            "    Uninstalling urllib3-1.26.15:\n",
            "      Successfully uninstalled urllib3-1.26.15\n",
            "  Attempting uninstall: tqdm\n",
            "    Found existing installation: tqdm 4.65.0\n",
            "    Uninstalling tqdm-4.65.0:\n",
            "      Successfully uninstalled tqdm-4.65.0\n",
            "  Attempting uninstall: idna\n",
            "    Found existing installation: idna 3.4\n",
            "    Uninstalling idna-3.4:\n",
            "      Successfully uninstalled idna-3.4\n",
            "  Attempting uninstall: requests\n",
            "    Found existing installation: requests 2.27.1\n",
            "    Uninstalling requests-2.27.1:\n",
            "      Successfully uninstalled requests-2.27.1\n",
            "\u001b[31mERROR: pip's dependency resolver does not currently take into account all the packages that are installed. This behaviour is the source of the following dependency conflicts.\n",
            "google-colab 1.0.0 requires requests==2.27.1, but you have requests 2.21.0 which is incompatible.\n",
            "nltk 3.8.1 requires regex>=2021.8.3, but you have regex 2017.4.5 which is incompatible.\n",
            "panel 0.14.4 requires tqdm>=4.48.0, but you have tqdm 4.31.1 which is incompatible.\n",
            "prophet 1.1.3 requires tqdm>=4.36.1, but you have tqdm 4.31.1 which is incompatible.\n",
            "spacy 3.5.2 requires tqdm<5.0.0,>=4.38.0, but you have tqdm 4.31.1 which is incompatible.\n",
            "torchdata 0.6.1 requires urllib3>=1.25, but you have urllib3 1.24.3 which is incompatible.\n",
            "tweepy 4.13.0 requires requests<3,>=2.27.0, but you have requests 2.21.0 which is incompatible.\n",
            "yfinance 0.2.18 requires requests>=2.26, but you have requests 2.21.0 which is incompatible.\u001b[0m\u001b[31m\n",
            "\u001b[0mSuccessfully installed chardet-3.0.4 fire-0.5.0 idna-2.8 regex-2017.4.5 requests-2.21.0 tqdm-4.31.1 urllib3-1.24.3\n"
          ]
        }
      ],
      "source": [
        "#@title Step 3: Installing the requirements\n",
        "import os                     # when the VM restarts import os necessary\n",
        "os.chdir(\"/content/gpt-2\")    \n",
        "!pip3 install -r requirements.txt"
      ]
    },
    {
      "cell_type": "code",
      "execution_count": 4,
      "metadata": {
        "colab": {
          "base_uri": "https://localhost:8080/"
        },
        "id": "q9vV73Opw68m",
        "outputId": "7d586aeb-c131-4704-f8c8-ab88691730d3",
        "vscode": {
          "languageId": "python"
        }
      },
      "outputs": [
        {
          "output_type": "stream",
          "name": "stdout",
          "text": [
            "Looking in indexes: https://pypi.org/simple, https://us-python.pkg.dev/colab-wheels/public/simple/\n",
            "Collecting toposort\n",
            "  Downloading toposort-1.10-py3-none-any.whl (8.5 kB)\n",
            "Installing collected packages: toposort\n",
            "Successfully installed toposort-1.10\n"
          ]
        }
      ],
      "source": [
        "!pip install toposort"
      ]
    },
    {
      "cell_type": "code",
      "execution_count": 5,
      "metadata": {
        "colab": {
          "base_uri": "https://localhost:8080/",
          "height": 432
        },
        "id": "_kpNCnh9fyYD",
        "outputId": "447a758c-4eb0-469b-ba04-09598c9c4e0d",
        "vscode": {
          "languageId": "python"
        }
      },
      "outputs": [
        {
          "output_type": "error",
          "ename": "ValueError",
          "evalue": "ignored",
          "traceback": [
            "\u001b[0;31m---------------------------------------------------------------------------\u001b[0m",
            "\u001b[0;31mValueError\u001b[0m                                Traceback (most recent call last)",
            "\u001b[0;32m<ipython-input-5-be88eb64c448>\u001b[0m in \u001b[0;36m<cell line: 4>\u001b[0;34m()\u001b[0m\n\u001b[1;32m      2\u001b[0m \u001b[0;31m#Colab has tf 1.x and tf 2.x installed\u001b[0m\u001b[0;34m\u001b[0m\u001b[0;34m\u001b[0m\u001b[0m\n\u001b[1;32m      3\u001b[0m \u001b[0;31m#Restart runtime using 'Runtime' -> 'Restart runtime...'\u001b[0m\u001b[0;34m\u001b[0m\u001b[0;34m\u001b[0m\u001b[0m\n\u001b[0;32m----> 4\u001b[0;31m \u001b[0mget_ipython\u001b[0m\u001b[0;34m(\u001b[0m\u001b[0;34m)\u001b[0m\u001b[0;34m.\u001b[0m\u001b[0mrun_line_magic\u001b[0m\u001b[0;34m(\u001b[0m\u001b[0;34m'tensorflow_version'\u001b[0m\u001b[0;34m,\u001b[0m \u001b[0;34m'1.x # I commented this line bec it does not work'\u001b[0m\u001b[0;34m)\u001b[0m\u001b[0;34m\u001b[0m\u001b[0;34m\u001b[0m\u001b[0m\n\u001b[0m\u001b[1;32m      5\u001b[0m \u001b[0;32mimport\u001b[0m \u001b[0mtensorflow\u001b[0m \u001b[0;32mas\u001b[0m \u001b[0mtf\u001b[0m\u001b[0;34m\u001b[0m\u001b[0;34m\u001b[0m\u001b[0m\n\u001b[1;32m      6\u001b[0m \u001b[0mprint\u001b[0m\u001b[0;34m(\u001b[0m\u001b[0mtf\u001b[0m\u001b[0;34m.\u001b[0m\u001b[0m__version__\u001b[0m\u001b[0;34m)\u001b[0m\u001b[0;34m\u001b[0m\u001b[0;34m\u001b[0m\u001b[0m\n",
            "\u001b[0;32m/usr/local/lib/python3.10/dist-packages/IPython/core/interactiveshell.py\u001b[0m in \u001b[0;36mrun_line_magic\u001b[0;34m(self, magic_name, line, _stack_depth)\u001b[0m\n\u001b[1;32m   2416\u001b[0m                 \u001b[0mkwargs\u001b[0m\u001b[0;34m[\u001b[0m\u001b[0;34m'local_ns'\u001b[0m\u001b[0;34m]\u001b[0m \u001b[0;34m=\u001b[0m \u001b[0mself\u001b[0m\u001b[0;34m.\u001b[0m\u001b[0mget_local_scope\u001b[0m\u001b[0;34m(\u001b[0m\u001b[0mstack_depth\u001b[0m\u001b[0;34m)\u001b[0m\u001b[0;34m\u001b[0m\u001b[0;34m\u001b[0m\u001b[0m\n\u001b[1;32m   2417\u001b[0m             \u001b[0;32mwith\u001b[0m \u001b[0mself\u001b[0m\u001b[0;34m.\u001b[0m\u001b[0mbuiltin_trap\u001b[0m\u001b[0;34m:\u001b[0m\u001b[0;34m\u001b[0m\u001b[0;34m\u001b[0m\u001b[0m\n\u001b[0;32m-> 2418\u001b[0;31m                 \u001b[0mresult\u001b[0m \u001b[0;34m=\u001b[0m \u001b[0mfn\u001b[0m\u001b[0;34m(\u001b[0m\u001b[0;34m*\u001b[0m\u001b[0margs\u001b[0m\u001b[0;34m,\u001b[0m \u001b[0;34m**\u001b[0m\u001b[0mkwargs\u001b[0m\u001b[0;34m)\u001b[0m\u001b[0;34m\u001b[0m\u001b[0;34m\u001b[0m\u001b[0m\n\u001b[0m\u001b[1;32m   2419\u001b[0m             \u001b[0;32mreturn\u001b[0m \u001b[0mresult\u001b[0m\u001b[0;34m\u001b[0m\u001b[0;34m\u001b[0m\u001b[0m\n\u001b[1;32m   2420\u001b[0m \u001b[0;34m\u001b[0m\u001b[0m\n",
            "\u001b[0;32m/usr/local/lib/python3.10/dist-packages/google/colab/_tensorflow_magics.py\u001b[0m in \u001b[0;36m_tensorflow_version\u001b[0;34m(line)\u001b[0m\n\u001b[1;32m     33\u001b[0m \u001b[0;34m\u001b[0m\u001b[0m\n\u001b[1;32m     34\u001b[0m   \u001b[0;32mif\u001b[0m \u001b[0mline\u001b[0m\u001b[0;34m.\u001b[0m\u001b[0mstartswith\u001b[0m\u001b[0;34m(\u001b[0m\u001b[0;34m\"1\"\u001b[0m\u001b[0;34m)\u001b[0m\u001b[0;34m:\u001b[0m\u001b[0;34m\u001b[0m\u001b[0;34m\u001b[0m\u001b[0m\n\u001b[0;32m---> 35\u001b[0;31m     raise ValueError(\n\u001b[0m\u001b[1;32m     36\u001b[0m         \u001b[0;31m# pylint: disable=line-too-long\u001b[0m\u001b[0;34m\u001b[0m\u001b[0;34m\u001b[0m\u001b[0m\n\u001b[1;32m     37\u001b[0m         textwrap.dedent(\n",
            "\u001b[0;31mValueError\u001b[0m: Tensorflow 1 is unsupported in Colab.\n\nYour notebook should be updated to use Tensorflow 2.\nSee the guide at https://www.tensorflow.org/guide/migrate#migrate-from-tensorflow-1x-to-tensorflow-2."
          ]
        }
      ],
      "source": [
        "#@title Step 4: Checking TensorFlow version \n",
        "#Colab has tf 1.x and tf 2.x installed\n",
        "#Restart runtime using 'Runtime' -> 'Restart runtime...'\n",
        "%tensorflow_version 1.x # I commented this line bec it does not work\n",
        "import tensorflow as tf\n",
        "print(tf.__version__)"
      ]
    },
    {
      "cell_type": "code",
      "execution_count": 6,
      "metadata": {
        "colab": {
          "base_uri": "https://localhost:8080/"
        },
        "id": "jvVj0cLVkaPL",
        "outputId": "17a52c19-6e21-4953-c9a4-dac207533277",
        "vscode": {
          "languageId": "python"
        }
      },
      "outputs": [
        {
          "output_type": "stream",
          "name": "stdout",
          "text": [
            "Fetching checkpoint: 1.00kit [00:00, 775kit/s]                                                      \n",
            "Fetching encoder.json: 1.04Mit [00:00, 1.05Mit/s]                                                   \n",
            "Fetching hparams.json: 1.00kit [00:00, 880kit/s]                                                    \n",
            "Fetching model.ckpt.data-00000-of-00001: 498Mit [00:38, 13.0Mit/s]                                  \n",
            "Fetching model.ckpt.index: 6.00kit [00:00, 3.78Mit/s]                                               \n",
            "Fetching model.ckpt.meta: 472kit [00:00, 651kit/s]                                                  \n",
            "Fetching vocab.bpe: 457kit [00:00, 528kit/s]                                                        \n"
          ]
        }
      ],
      "source": [
        "#@title Step 5: Downloading 117M parameter GPT-2 Model\n",
        "# run code and send argument\n",
        "import os # after runtime is restarted\n",
        "os.chdir(\"/content/gpt-2\")\n",
        "!python3 download_model.py '117M' #creates model directory"
      ]
    },
    {
      "cell_type": "code",
      "source": [
        "# Me: \n",
        "os.chdir(\"/content\")\n",
        "!curl -L https://raw.githubusercontent.com/Denis2054/Transformers-for-NLP-2nd-Edition/master/Chapter09/gpt-2-train_files/mdset.txt --output \"mdset.txt\"\n"
      ],
      "metadata": {
        "id": "oDCDcyAuVltW",
        "outputId": "ff31e5c7-05d4-4082-84e8-767639cc3d0b",
        "colab": {
          "base_uri": "https://localhost:8080/"
        }
      },
      "execution_count": 7,
      "outputs": [
        {
          "output_type": "stream",
          "name": "stdout",
          "text": [
            "  % Total    % Received % Xferd  Average Speed   Time    Time     Time  Current\n",
            "                                 Dload  Upload   Total   Spent    Left  Speed\n",
            "100 91184  100 91184    0     0   382k      0 --:--:-- --:--:-- --:--:--  382k\n"
          ]
        }
      ]
    },
    {
      "cell_type": "code",
      "execution_count": 8,
      "metadata": {
        "id": "aV5K8rvD1b-r",
        "vscode": {
          "languageId": "python"
        }
      },
      "outputs": [],
      "source": [
        "#@title Step 6: Copying the Project Resources to scr\n",
        "!cp /content/mdset.txt /content/gpt-2/src/\n",
        "!cp -r /content/gpt-2/models/ /content/gpt-2/src/"
      ]
    },
    {
      "cell_type": "markdown",
      "metadata": {
        "id": "fqEvwSiyZXUj"
      },
      "source": [
        "#Step 7: The N Shepperd training files"
      ]
    },
    {
      "cell_type": "code",
      "source": [
        "# Me: \n",
        "os.mkdir(\"/content/nshepperd\")\n",
        "os.chdir(\"/content/nshepperd\")\n",
        "!curl -L https://raw.githubusercontent.com/nshepperd/gpt-2/finetuning/train.py --output \"train.py\"\n",
        "!curl -L https://raw.githubusercontent.com/nshepperd/gpt-2/finetuning/src/load_dataset.py --output \"load_dataset.py\"\n",
        "!curl -L https://raw.githubusercontent.com/nshepperd/gpt-2/finetuning/encode.py --output \"encode.py\"\n",
        "!curl -L https://raw.githubusercontent.com/nshepperd/gpt-2/finetuning/src/accumulate.py --output \"accumulate.py\"\n",
        "!curl -L https://raw.githubusercontent.com/nshepperd/gpt-2/finetuning/src/memory_saving_gradients.py --output \"memory_saving_gradients.py\""
      ],
      "metadata": {
        "id": "lnOQWlikZSXX",
        "outputId": "8e735750-f3d7-45fc-a764-76febd61bb5a",
        "colab": {
          "base_uri": "https://localhost:8080/"
        }
      },
      "execution_count": 9,
      "outputs": [
        {
          "output_type": "stream",
          "name": "stdout",
          "text": [
            "  % Total    % Received % Xferd  Average Speed   Time    Time     Time  Current\n",
            "                                 Dload  Upload   Total   Spent    Left  Speed\n",
            "100 14676  100 14676    0     0   398k      0 --:--:-- --:--:-- --:--:--  398k\n",
            "  % Total    % Received % Xferd  Average Speed   Time    Time     Time  Current\n",
            "                                 Dload  Upload   Total   Spent    Left  Speed\n",
            "100  2647  100  2647    0     0  67871      0 --:--:-- --:--:-- --:--:-- 69657\n",
            "  % Total    % Received % Xferd  Average Speed   Time    Time     Time  Current\n",
            "                                 Dload  Upload   Total   Spent    Left  Speed\n",
            "100  1471  100  1471    0     0  37717      0 --:--:-- --:--:-- --:--:-- 37717\n",
            "  % Total    % Received % Xferd  Average Speed   Time    Time     Time  Current\n",
            "                                 Dload  Upload   Total   Spent    Left  Speed\n",
            "100  1474  100  1474    0     0  52642      0 --:--:-- --:--:-- --:--:-- 52642\n",
            "  % Total    % Received % Xferd  Average Speed   Time    Time     Time  Current\n",
            "                                 Dload  Upload   Total   Spent    Left  Speed\n",
            "100 17313  100 17313    0     0   528k      0 --:--:-- --:--:-- --:--:--  528k\n"
          ]
        }
      ]
    },
    {
      "cell_type": "code",
      "execution_count": 10,
      "metadata": {
        "id": "dTUxDwtWlOLf",
        "vscode": {
          "languageId": "python"
        }
      },
      "outputs": [],
      "source": [
        "#@title Step 7: Copying the N Shepperd Training Files\n",
        "#Referfence GitHub repository: https://github.com/nshepperd/gpt-2\n",
        "import os # import after runtime is restarted\n",
        "!cp /content/nshepperd/train.py /content/gpt-2/src/\n",
        "!cp /content/nshepperd/load_dataset.py /content/gpt-2/src/\n",
        "!cp /content/nshepperd/encode.py /content/gpt-2/src/\n",
        "!cp /content/nshepperd/accumulate.py /content/gpt-2/src/\n",
        "!cp /content/nshepperd/memory_saving_gradients.py /content/gpt-2/src/"
      ]
    },
    {
      "cell_type": "markdown",
      "metadata": {
        "id": "Yy4KSydNZfXC"
      },
      "source": [
        "#Step 8: Encoding the dataset"
      ]
    },
    {
      "cell_type": "code",
      "execution_count": 11,
      "metadata": {
        "colab": {
          "base_uri": "https://localhost:8080/"
        },
        "id": "B6T2OrWoOvG0",
        "outputId": "fde4ecc7-040f-4324-c353-1ad4a3fb3b86",
        "vscode": {
          "languageId": "python"
        }
      },
      "outputs": [
        {
          "output_type": "stream",
          "name": "stdout",
          "text": [
            "2023-06-11 08:33:37.955683: W tensorflow/compiler/tf2tensorrt/utils/py_utils.cc:38] TF-TRT Warning: Could not find TensorRT\n",
            "Reading files\n",
            "100% 1/1 [00:00<00:00,  6.62it/s]\n",
            "Writing out.npz\n"
          ]
        }
      ],
      "source": [
        "#@title Step 8:Encoding dataset\n",
        "import os # import after runtime is restarted\n",
        "os.chdir(\"/content/gpt-2/src/\")\n",
        "model_name=\"117M\"\n",
        "!python /content/gpt-2/src/encode.py mdset.txt out.npz "
      ]
    },
    {
      "cell_type": "markdown",
      "metadata": {
        "id": "NzB5wmfxZid2"
      },
      "source": [
        "#Step 9: Training a GPT-2 model"
      ]
    },
    {
      "cell_type": "code",
      "execution_count": null,
      "metadata": {
        "colab": {
          "base_uri": "https://localhost:8080/",
          "height": 116
        },
        "id": "jm8E-oBbZpWT",
        "outputId": "bc901e9d-0848-41ab-d606-e38be99456ef",
        "vscode": {
          "languageId": "python"
        }
      },
      "outputs": [
        {
          "data": {
            "image/png": "[encoded data removed]",
            "text/plain": [
              "<IPython.core.display.Image object>"
            ]
          },
          "execution_count": 2,
          "metadata": {
            "image/png": {
              "width": 400
            }
          },
          "output_type": "execute_result"
        }
      ],
      "source": [
        "Image('https://github.com/Denis2054/Transformers-for-NLP-2nd-Edition/raw/main/Notebook%20images/AppIV/B17948_Appendix%20IV_01.PNG', width=400) #This is used for rendering images in the notebook"
      ]
    },
    {
      "cell_type": "code",
      "execution_count": 13,
      "metadata": {
        "colab": {
          "base_uri": "https://localhost:8080/"
        },
        "id": "UzlkNGbAkDBk",
        "outputId": "7c245ea7-54b3-4617-cacc-3365145827d4",
        "vscode": {
          "languageId": "python"
        }
      },
      "outputs": [
        {
          "output_type": "stream",
          "name": "stdout",
          "text": [
            "Looking in indexes: https://pypi.org/simple, https://us-python.pkg.dev/colab-wheels/public/simple/\n",
            "\u001b[31mERROR: Could not find a version that satisfies the requirement tensorflow==1.15 (from versions: 2.8.0rc0, 2.8.0rc1, 2.8.0, 2.8.1, 2.8.2, 2.8.3, 2.8.4, 2.9.0rc0, 2.9.0rc1, 2.9.0rc2, 2.9.0, 2.9.1, 2.9.2, 2.9.3, 2.10.0rc0, 2.10.0rc1, 2.10.0rc2, 2.10.0rc3, 2.10.0, 2.10.1, 2.11.0rc0, 2.11.0rc1, 2.11.0rc2, 2.11.0, 2.11.1, 2.12.0rc0, 2.12.0rc1, 2.12.0, 2.13.0rc0, 2.13.0rc1)\u001b[0m\u001b[31m\n",
            "\u001b[0m\u001b[31mERROR: No matching distribution found for tensorflow==1.15\u001b[0m\u001b[31m\n",
            "\u001b[0m2023-06-11 08:42:05.156307: W tensorflow/compiler/tf2tensorrt/utils/py_utils.cc:38] TF-TRT Warning: Could not find TensorRT\n",
            "Traceback (most recent call last):\n",
            "  File \"/content/gpt-2/src/train.py\", line 28, in <module>\n",
            "    import model, sample, encoder\n",
            "  File \"/content/gpt-2/src/model.py\", line 3, in <module>\n",
            "    from tensorflow.contrib.training import HParams\n",
            "ModuleNotFoundError: No module named 'tensorflow.contrib'\n"
          ]
        }
      ],
      "source": [
        "#@title Step 9:Training the Model\n",
        "#Model saved after 1000 steps\n",
        "import os # import after runtime is restarted\n",
        "os.chdir(\"/content/gpt-2/src/\")\n",
        "!python train.py --dataset out.npz"
      ]
    },
    {
      "cell_type": "markdown",
      "metadata": {
        "id": "01ZDxuUoZ9aI"
      },
      "source": [
        "#Step 10: Creating a training model directory"
      ]
    },
    {
      "cell_type": "code",
      "execution_count": null,
      "metadata": {
        "id": "z-zAFd2hLQ2V",
        "vscode": {
          "languageId": "python"
        }
      },
      "outputs": [],
      "source": [
        "#@title Step 10: Creating a Training Model directory\n",
        "#Creating a Training Model directory named 'tgmodel'\n",
        "import os\n",
        "run_dir = '/content/gpt-2/models/tgmodel'\n",
        "if not os.path.exists(run_dir):\n",
        "  os.makedirs(run_dir)"
      ]
    },
    {
      "cell_type": "code",
      "execution_count": null,
      "metadata": {
        "id": "-POx-g1Ql76C",
        "vscode": {
          "languageId": "python"
        }
      },
      "outputs": [],
      "source": [
        "#@title Step 10A: Copying training Files\n",
        "!cp /content/gpt-2/src/checkpoint/run1/model-1000.data-00000-of-00001 /content/gpt-2/models/tgmodel\n",
        "!cp /content/gpt-2/src/checkpoint/run1/checkpoint /content/gpt-2/models/tgmodel\n",
        "!cp /content/gpt-2/src/checkpoint/run1/model-1000.index /content/gpt-2/models/tgmodel\n",
        "!cp /content/gpt-2/src/checkpoint/run1/model-1000.meta /content/gpt-2/models/tgmodel"
      ]
    },
    {
      "cell_type": "code",
      "execution_count": null,
      "metadata": {
        "id": "hdE9nNH8m7VD",
        "vscode": {
          "languageId": "python"
        }
      },
      "outputs": [],
      "source": [
        "#@title Step 10B: Copying the OpenAI GPT-2 117M Model files\n",
        "!cp /content/gpt-2/models/117M/encoder.json /content/gpt-2/models/tgmodel\n",
        "!cp /content/gpt-2/models/117M/hparams.json /content/gpt-2/models/tgmodel\n",
        "!cp /content/gpt-2/models/117M/vocab.bpe /content/gpt-2/models/tgmodel"
      ]
    },
    {
      "cell_type": "code",
      "execution_count": null,
      "metadata": {
        "id": "3G8NOUXjMq4u",
        "vscode": {
          "languageId": "python"
        }
      },
      "outputs": [],
      "source": [
        "#@title Step 10C: Renaming the model directories\n",
        "import os\n",
        "!mv /content/gpt-2/models/117M  /content/gpt-2/models/117M_OpenAI\n",
        "!mv /content/gpt-2/models/tgmodel  /content/gpt-2/models/117M"
      ]
    },
    {
      "cell_type": "markdown",
      "metadata": {
        "id": "NsL9VTMCD4VA"
      },
      "source": [
        "#Step 11: Generating unconditional samples"
      ]
    },
    {
      "cell_type": "code",
      "execution_count": null,
      "metadata": {
        "colab": {
          "base_uri": "https://localhost:8080/"
        },
        "id": "h3uexz_e4d18",
        "outputId": "e4b5497c-2eef-4e46-ae77-ee535e3aa2d5",
        "vscode": {
          "languageId": "python"
        }
      },
      "outputs": [
        {
          "name": "stdout",
          "output_type": "stream",
          "text": [
            "WARNING:tensorflow:From generate_unconditional_samples.py:54: The name tf.Session is deprecated. Please use tf.compat.v1.Session instead.\n",
            "\n",
            "2021-06-18 08:18:43.883508: I tensorflow/stream_executor/platform/default/dso_loader.cc:44] Successfully opened dynamic library libcuda.so.1\n",
            "2021-06-18 08:18:43.915370: I tensorflow/stream_executor/cuda/cuda_gpu_executor.cc:983] successful NUMA node read from SysFS had negative value (-1), but there must be at least one NUMA node, so returning NUMA node zero\n",
            "2021-06-18 08:18:43.915943: I tensorflow/core/common_runtime/gpu/gpu_device.cc:1639] Found device 0 with properties: \n",
            "name: Tesla T4 major: 7 minor: 5 memoryClockRate(GHz): 1.59\n",
            "pciBusID: 0000:00:04.0\n",
            "2021-06-18 08:18:43.916246: I tensorflow/stream_executor/platform/default/dso_loader.cc:44] Successfully opened dynamic library libcudart.so.10.1\n",
            "2021-06-18 08:18:43.917680: I tensorflow/stream_executor/platform/default/dso_loader.cc:44] Successfully opened dynamic library libcublas.so.10\n",
            "2021-06-18 08:18:43.919193: I tensorflow/stream_executor/platform/default/dso_loader.cc:44] Successfully opened dynamic library libcufft.so.10\n",
            "2021-06-18 08:18:43.919508: I tensorflow/stream_executor/platform/default/dso_loader.cc:44] Successfully opened dynamic library libcurand.so.10\n",
            "2021-06-18 08:18:43.920967: I tensorflow/stream_executor/platform/default/dso_loader.cc:44] Successfully opened dynamic library libcusolver.so.10\n",
            "2021-06-18 08:18:43.921667: I tensorflow/stream_executor/platform/default/dso_loader.cc:44] Successfully opened dynamic library libcusparse.so.10\n",
            "2021-06-18 08:18:43.924492: I tensorflow/stream_executor/platform/default/dso_loader.cc:44] Successfully opened dynamic library libcudnn.so.7\n",
            "2021-06-18 08:18:43.924610: I tensorflow/stream_executor/cuda/cuda_gpu_executor.cc:983] successful NUMA node read from SysFS had negative value (-1), but there must be at least one NUMA node, so returning NUMA node zero\n",
            "2021-06-18 08:18:43.925215: I tensorflow/stream_executor/cuda/cuda_gpu_executor.cc:983] successful NUMA node read from SysFS had negative value (-1), but there must be at least one NUMA node, so returning NUMA node zero\n",
            "2021-06-18 08:18:43.925724: I tensorflow/core/common_runtime/gpu/gpu_device.cc:1767] Adding visible gpu devices: 0\n",
            "2021-06-18 08:18:43.930283: I tensorflow/core/platform/profile_utils/cpu_utils.cc:94] CPU Frequency: 2199995000 Hz\n",
            "2021-06-18 08:18:43.930458: I tensorflow/compiler/xla/service/service.cc:168] XLA service 0x55722a18f480 initialized for platform Host (this does not guarantee that XLA will be used). Devices:\n",
            "2021-06-18 08:18:43.930485: I tensorflow/compiler/xla/service/service.cc:176]   StreamExecutor device (0): Host, Default Version\n",
            "2021-06-18 08:18:44.123574: I tensorflow/stream_executor/cuda/cuda_gpu_executor.cc:983] successful NUMA node read from SysFS had negative value (-1), but there must be at least one NUMA node, so returning NUMA node zero\n",
            "2021-06-18 08:18:44.124299: I tensorflow/compiler/xla/service/service.cc:168] XLA service 0x55722a18fd40 initialized for platform CUDA (this does not guarantee that XLA will be used). Devices:\n",
            "2021-06-18 08:18:44.124328: I tensorflow/compiler/xla/service/service.cc:176]   StreamExecutor device (0): Tesla T4, Compute Capability 7.5\n",
            "2021-06-18 08:18:44.124491: I tensorflow/stream_executor/cuda/cuda_gpu_executor.cc:983] successful NUMA node read from SysFS had negative value (-1), but there must be at least one NUMA node, so returning NUMA node zero\n",
            "2021-06-18 08:18:44.125053: I tensorflow/core/common_runtime/gpu/gpu_device.cc:1639] Found device 0 with properties: \n",
            "name: Tesla T4 major: 7 minor: 5 memoryClockRate(GHz): 1.59\n",
            "pciBusID: 0000:00:04.0\n",
            "2021-06-18 08:18:44.125118: I tensorflow/stream_executor/platform/default/dso_loader.cc:44] Successfully opened dynamic library libcudart.so.10.1\n",
            "2021-06-18 08:18:44.125158: I tensorflow/stream_executor/platform/default/dso_loader.cc:44] Successfully opened dynamic library libcublas.so.10\n",
            "2021-06-18 08:18:44.125178: I tensorflow/stream_executor/platform/default/dso_loader.cc:44] Successfully opened dynamic library libcufft.so.10\n",
            "2021-06-18 08:18:44.125198: I tensorflow/stream_executor/platform/default/dso_loader.cc:44] Successfully opened dynamic library libcurand.so.10\n",
            "2021-06-18 08:18:44.125220: I tensorflow/stream_executor/platform/default/dso_loader.cc:44] Successfully opened dynamic library libcusolver.so.10\n",
            "2021-06-18 08:18:44.125238: I tensorflow/stream_executor/platform/default/dso_loader.cc:44] Successfully opened dynamic library libcusparse.so.10\n",
            "2021-06-18 08:18:44.125257: I tensorflow/stream_executor/platform/default/dso_loader.cc:44] Successfully opened dynamic library libcudnn.so.7\n",
            "2021-06-18 08:18:44.125326: I tensorflow/stream_executor/cuda/cuda_gpu_executor.cc:983] successful NUMA node read from SysFS had negative value (-1), but there must be at least one NUMA node, so returning NUMA node zero\n",
            "2021-06-18 08:18:44.125876: I tensorflow/stream_executor/cuda/cuda_gpu_executor.cc:983] successful NUMA node read from SysFS had negative value (-1), but there must be at least one NUMA node, so returning NUMA node zero\n",
            "2021-06-18 08:18:44.126450: I tensorflow/core/common_runtime/gpu/gpu_device.cc:1767] Adding visible gpu devices: 0\n",
            "2021-06-18 08:18:44.126519: I tensorflow/stream_executor/platform/default/dso_loader.cc:44] Successfully opened dynamic library libcudart.so.10.1\n",
            "2021-06-18 08:18:44.127772: I tensorflow/core/common_runtime/gpu/gpu_device.cc:1180] Device interconnect StreamExecutor with strength 1 edge matrix:\n",
            "2021-06-18 08:18:44.127799: I tensorflow/core/common_runtime/gpu/gpu_device.cc:1186]      0 \n",
            "2021-06-18 08:18:44.127809: I tensorflow/core/common_runtime/gpu/gpu_device.cc:1199] 0:   N \n",
            "2021-06-18 08:18:44.127925: I tensorflow/stream_executor/cuda/cuda_gpu_executor.cc:983] successful NUMA node read from SysFS had negative value (-1), but there must be at least one NUMA node, so returning NUMA node zero\n",
            "2021-06-18 08:18:44.128517: I tensorflow/stream_executor/cuda/cuda_gpu_executor.cc:983] successful NUMA node read from SysFS had negative value (-1), but there must be at least one NUMA node, so returning NUMA node zero\n",
            "2021-06-18 08:18:44.129041: W tensorflow/core/common_runtime/gpu/gpu_bfc_allocator.cc:39] Overriding allow_growth setting because the TF_FORCE_GPU_ALLOW_GROWTH environment variable is set. Original config value was 0.\n",
            "2021-06-18 08:18:44.129083: I tensorflow/core/common_runtime/gpu/gpu_device.cc:1325] Created TensorFlow device (/job:localhost/replica:0/task:0/device:GPU:0 with 14257 MB memory) -> physical GPU (device: 0, name: Tesla T4, pci bus id: 0000:00:04.0, compute capability: 7.5)\n",
            "WARNING:tensorflow:From generate_unconditional_samples.py:56: The name tf.set_random_seed is deprecated. Please use tf.compat.v1.set_random_seed instead.\n",
            "\n",
            "WARNING:tensorflow:From /content/gpt-2/src/sample.py:51: The name tf.AUTO_REUSE is deprecated. Please use tf.compat.v1.AUTO_REUSE instead.\n",
            "\n",
            "WARNING:tensorflow:From /content/gpt-2/src/model.py:148: The name tf.variable_scope is deprecated. Please use tf.compat.v1.variable_scope instead.\n",
            "\n",
            "WARNING:tensorflow:From /content/gpt-2/src/model.py:152: The name tf.get_variable is deprecated. Please use tf.compat.v1.get_variable instead.\n",
            "\n",
            "WARNING:tensorflow:From /content/gpt-2/src/model.py:36: The name tf.rsqrt is deprecated. Please use tf.math.rsqrt instead.\n",
            "\n",
            "WARNING:tensorflow:From /content/gpt-2/src/sample.py:64: to_float (from tensorflow.python.ops.math_ops) is deprecated and will be removed in a future version.\n",
            "Instructions for updating:\n",
            "Use `tf.cast` instead.\n",
            "WARNING:tensorflow:From /content/gpt-2/src/sample.py:39: where (from tensorflow.python.ops.array_ops) is deprecated and will be removed in a future version.\n",
            "Instructions for updating:\n",
            "Use tf.where in 2.0, which has the same broadcast rule as np.where\n",
            "WARNING:tensorflow:From /content/gpt-2/src/sample.py:67: multinomial (from tensorflow.python.ops.random_ops) is deprecated and will be removed in a future version.\n",
            "Instructions for updating:\n",
            "Use `tf.random.categorical` instead.\n",
            "WARNING:tensorflow:From generate_unconditional_samples.py:65: The name tf.train.Saver is deprecated. Please use tf.compat.v1.train.Saver instead.\n",
            "\n",
            "2021-06-18 08:18:49.336695: I tensorflow/stream_executor/platform/default/dso_loader.cc:44] Successfully opened dynamic library libcublas.so.10\n",
            "======================================== SAMPLE 1 ========================================\n",
            "\n",
            "These are by no means personnel pages — they're supposed to be notices to pastors and congregations that they are removing where the value of the 'structure' and 'eventual' construction isn't.\n",
            "\n",
            "Unfortunately, it's these pages that only serve to discredit, depending upon whom you ask.\n",
            "\n",
            "Most of the time, the sense result of doing everything wrong is a (mostly) broken sense. Right? That's one reason why so many pastors respond deferentially to critiques, blame others for living up to their reputations and are always disappointed by their own response. In other words, the larger the misunderstanding and negativity, the more there goes with you in dealing with signs and words.\n",
            "\n",
            "OK, good, let's move on to the trouble parts. Here, we'll apply the point of view of young adults to their church through the contexts they find themselves in the first place.\n",
            "\n",
            "Dr. John Pedrosin (Atlantic Regional Medical Center in Carlsbad, CA), a professor of mental health and behavior therapy at Washburn College who recently received his Masters degree from the State College of New Jersey and Ph.D. from St. Francis Sithero University in Lehigh, Minnesota, has been in ministry for seven and a half decades. He is a church volunteer at DeWitt's primate church in Spokane, Washington where he operates 24 hours a day and seven days a week.\n",
            "\n",
            "I can easily relate to Pedrosin's recollection of seeing Dr. Brian Hedges (Wellford Oaks, WI) perform surgical surgeries for a medical plant cardiac instrument in the early 1990s.\n",
            "\n",
            "Some of these events followed up with open and frank conversations with a forensic surgeon. Dr. Hedges became an ordained priest and a priest of Drlsoma with the provider, then began making his own patient debut at DeWitt's unlicensed primate church in Lehigh. Dr. Hedges's rookie experience allowed within Fasmon's Executive Director Melissa M Grolier live evangelization for Christians of all ages, persuading children of all ages that this high sanctity demonstrated how the truth came to pass as early in life as possible — and would guide Christians into daily living when looking into their past for answers.\n",
            "\n",
            "He was one of eight who had come to Teach Style Counseling for First Responder Tabbidists — a high sanctity event of course. This group of Wilfs supports community unconventional children's organizations, organizations that minister to abused children, and is supportive in unlicensed primate congregations — a whole other story that has potential to change current and future patient judgment.\n",
            "\n",
            "These protean doesn't appear quite as dedicated to local nonprofits. They've taught about and witnessed their own difficult side-by-side with religious clients and prayed at DeWitt's with them many times.\n",
            "\n",
            "Intersecting with such know up think tanks, primate associations, pastoral organizations from non-profit to chapel in various directions involved a lay ministry experience for several months; wearing black, he had just laid the groundwork for radical leadership at a span of enlightenment is what he is now inhabiting within us.\n",
            "\n",
            "\"One concern that I have going back and forth is little nursery rhymes, just like everyone people around here \" Peter Holley, professor of psychiatric psychiatry and behavioral sciences at University College London (Marymount Valley) Further Reading Correction: This piece was corrected December 17, 2016, when Peter Holley was added to the 2016 Assemblies of God among the claims the Skeptic Magazine is making about Ephem 100 Monastic Assembly Africa build out at Lake Mead in NC.<|endoftext|>There's a whole lot of new stuff on the way out of 2017 on Shopify. First off, it's all about the monetization mechanic. Ever since the and non-business category debuted with big bumps around the edges, a lot of concerns have popped up after growing demand themselves. In an effort to convince Amazon shoppers to source 90% of their sales through channels like Twitter and Rdio, Marketify began to try its hand at monetizing MFi.\n",
            "\n",
            "Just in case they tacked on, Shopify teamed up with TRBI. Launched by David Burch on August 31 and after multiple weeks of original concept builds they're kicking off a rollout on Aug. 10 with Shopping {N.D.}. Like everyone else, they hope to release Target Jabs on this week. He promised a fun way to make a virtual shopping experience.\n",
            "\n",
            "Reliable sources tell BroadbandView Retail, \"We have developed a premium store entrance payment system for U.S. men and women, based on the success of Deo Pearson's UNet Reading Demo Right Now, and also offering a new alternative to the retail and online marketing method developed by both companies.\" Marketify will also be joining that audience through Use Sales Partners like Pandoit and Dividend Marketplace. The retail program will be launched with Marketplace = money. They've also invested heavily into Network Disruption like Facebook Capital, Yinance, and\n",
            "Traceback (most recent call last):\n",
            "  File \"generate_unconditional_samples.py\", line 79, in <module>\n",
            "    fire.Fire(sample_model)\n",
            "  File \"/usr/local/lib/python3.7/dist-packages/fire/core.py\", line 141, in Fire\n",
            "    component_trace = _Fire(component, args, parsed_flag_args, context, name)\n",
            "  File \"/usr/local/lib/python3.7/dist-packages/fire/core.py\", line 471, in _Fire\n",
            "    target=component.__name__)\n",
            "  File \"/usr/local/lib/python3.7/dist-packages/fire/core.py\", line 681, in _CallAndUpdateTrace\n",
            "    component = fn(*varargs, **kwargs)\n",
            "  File \"generate_unconditional_samples.py\", line 71, in sample_model\n",
            "    out = sess.run(output)\n",
            "  File \"/tensorflow-1.15.2/python3.7/tensorflow_core/python/client/session.py\", line 956, in run\n",
            "    run_metadata_ptr)\n",
            "  File \"/tensorflow-1.15.2/python3.7/tensorflow_core/python/client/session.py\", line 1180, in _run\n",
            "    feed_dict_tensor, options, run_metadata)\n",
            "  File \"/tensorflow-1.15.2/python3.7/tensorflow_core/python/client/session.py\", line 1359, in _do_run\n",
            "    run_metadata)\n",
            "  File \"/tensorflow-1.15.2/python3.7/tensorflow_core/python/client/session.py\", line 1365, in _do_call\n",
            "    return fn(*args)\n",
            "  File \"/tensorflow-1.15.2/python3.7/tensorflow_core/python/client/session.py\", line 1350, in _run_fn\n",
            "    target_list, run_metadata)\n",
            "  File \"/tensorflow-1.15.2/python3.7/tensorflow_core/python/client/session.py\", line 1443, in _call_tf_sessionrun\n",
            "    run_metadata)\n",
            "KeyboardInterrupt\n"
          ]
        }
      ],
      "source": [
        "#@title Step 11: Generating Unconditional Samples\n",
        "import os # import after runtime is restarted\n",
        "os.chdir(\"/content/gpt-2/src\")\n",
        "!python generate_unconditional_samples.py --model_name '117M'"
      ]
    },
    {
      "cell_type": "markdown",
      "metadata": {
        "id": "yM2-6u3WDyCw"
      },
      "source": [
        "#Step 12: Interactive context and completion examples"
      ]
    },
    {
      "cell_type": "code",
      "execution_count": null,
      "metadata": {
        "colab": {
          "base_uri": "https://localhost:8080/"
        },
        "id": "6HI7DuBK4iSU",
        "outputId": "cc675e5d-1254-48f7-bc6e-cc112fe947cd",
        "vscode": {
          "languageId": "python"
        }
      },
      "outputs": [
        {
          "name": "stdout",
          "output_type": "stream",
          "text": [
            "WARNING:tensorflow:From interactive_conditional_samples.py:57: The name tf.Session is deprecated. Please use tf.compat.v1.Session instead.\n",
            "\n",
            "2021-06-18 08:19:21.830534: I tensorflow/stream_executor/platform/default/dso_loader.cc:44] Successfully opened dynamic library libcuda.so.1\n",
            "2021-06-18 08:19:21.859241: I tensorflow/stream_executor/cuda/cuda_gpu_executor.cc:983] successful NUMA node read from SysFS had negative value (-1), but there must be at least one NUMA node, so returning NUMA node zero\n",
            "2021-06-18 08:19:21.859819: I tensorflow/core/common_runtime/gpu/gpu_device.cc:1639] Found device 0 with properties: \n",
            "name: Tesla T4 major: 7 minor: 5 memoryClockRate(GHz): 1.59\n",
            "pciBusID: 0000:00:04.0\n",
            "2021-06-18 08:19:21.860123: I tensorflow/stream_executor/platform/default/dso_loader.cc:44] Successfully opened dynamic library libcudart.so.10.1\n",
            "2021-06-18 08:19:21.861514: I tensorflow/stream_executor/platform/default/dso_loader.cc:44] Successfully opened dynamic library libcublas.so.10\n",
            "2021-06-18 08:19:21.862937: I tensorflow/stream_executor/platform/default/dso_loader.cc:44] Successfully opened dynamic library libcufft.so.10\n",
            "2021-06-18 08:19:21.863276: I tensorflow/stream_executor/platform/default/dso_loader.cc:44] Successfully opened dynamic library libcurand.so.10\n",
            "2021-06-18 08:19:21.864637: I tensorflow/stream_executor/platform/default/dso_loader.cc:44] Successfully opened dynamic library libcusolver.so.10\n",
            "2021-06-18 08:19:21.865325: I tensorflow/stream_executor/platform/default/dso_loader.cc:44] Successfully opened dynamic library libcusparse.so.10\n",
            "2021-06-18 08:19:21.868258: I tensorflow/stream_executor/platform/default/dso_loader.cc:44] Successfully opened dynamic library libcudnn.so.7\n",
            "2021-06-18 08:19:21.868387: I tensorflow/stream_executor/cuda/cuda_gpu_executor.cc:983] successful NUMA node read from SysFS had negative value (-1), but there must be at least one NUMA node, so returning NUMA node zero\n",
            "2021-06-18 08:19:21.868974: I tensorflow/stream_executor/cuda/cuda_gpu_executor.cc:983] successful NUMA node read from SysFS had negative value (-1), but there must be at least one NUMA node, so returning NUMA node zero\n",
            "2021-06-18 08:19:21.869508: I tensorflow/core/common_runtime/gpu/gpu_device.cc:1767] Adding visible gpu devices: 0\n",
            "2021-06-18 08:19:21.873849: I tensorflow/core/platform/profile_utils/cpu_utils.cc:94] CPU Frequency: 2199995000 Hz\n",
            "2021-06-18 08:19:21.874038: I tensorflow/compiler/xla/service/service.cc:168] XLA service 0x564f7643b480 initialized for platform Host (this does not guarantee that XLA will be used). Devices:\n",
            "2021-06-18 08:19:21.874065: I tensorflow/compiler/xla/service/service.cc:176]   StreamExecutor device (0): Host, Default Version\n",
            "2021-06-18 08:19:22.071061: I tensorflow/stream_executor/cuda/cuda_gpu_executor.cc:983] successful NUMA node read from SysFS had negative value (-1), but there must be at least one NUMA node, so returning NUMA node zero\n",
            "2021-06-18 08:19:22.071770: I tensorflow/compiler/xla/service/service.cc:168] XLA service 0x564f7643bd40 initialized for platform CUDA (this does not guarantee that XLA will be used). Devices:\n",
            "2021-06-18 08:19:22.071800: I tensorflow/compiler/xla/service/service.cc:176]   StreamExecutor device (0): Tesla T4, Compute Capability 7.5\n",
            "2021-06-18 08:19:22.071969: I tensorflow/stream_executor/cuda/cuda_gpu_executor.cc:983] successful NUMA node read from SysFS had negative value (-1), but there must be at least one NUMA node, so returning NUMA node zero\n",
            "2021-06-18 08:19:22.072522: I tensorflow/core/common_runtime/gpu/gpu_device.cc:1639] Found device 0 with properties: \n",
            "name: Tesla T4 major: 7 minor: 5 memoryClockRate(GHz): 1.59\n",
            "pciBusID: 0000:00:04.0\n",
            "2021-06-18 08:19:22.072587: I tensorflow/stream_executor/platform/default/dso_loader.cc:44] Successfully opened dynamic library libcudart.so.10.1\n",
            "2021-06-18 08:19:22.072616: I tensorflow/stream_executor/platform/default/dso_loader.cc:44] Successfully opened dynamic library libcublas.so.10\n",
            "2021-06-18 08:19:22.072637: I tensorflow/stream_executor/platform/default/dso_loader.cc:44] Successfully opened dynamic library libcufft.so.10\n",
            "2021-06-18 08:19:22.072661: I tensorflow/stream_executor/platform/default/dso_loader.cc:44] Successfully opened dynamic library libcurand.so.10\n",
            "2021-06-18 08:19:22.072680: I tensorflow/stream_executor/platform/default/dso_loader.cc:44] Successfully opened dynamic library libcusolver.so.10\n",
            "2021-06-18 08:19:22.072699: I tensorflow/stream_executor/platform/default/dso_loader.cc:44] Successfully opened dynamic library libcusparse.so.10\n",
            "2021-06-18 08:19:22.072718: I tensorflow/stream_executor/platform/default/dso_loader.cc:44] Successfully opened dynamic library libcudnn.so.7\n",
            "2021-06-18 08:19:22.072785: I tensorflow/stream_executor/cuda/cuda_gpu_executor.cc:983] successful NUMA node read from SysFS had negative value (-1), but there must be at least one NUMA node, so returning NUMA node zero\n",
            "2021-06-18 08:19:22.073364: I tensorflow/stream_executor/cuda/cuda_gpu_executor.cc:983] successful NUMA node read from SysFS had negative value (-1), but there must be at least one NUMA node, so returning NUMA node zero\n",
            "2021-06-18 08:19:22.073861: I tensorflow/core/common_runtime/gpu/gpu_device.cc:1767] Adding visible gpu devices: 0\n",
            "2021-06-18 08:19:22.073923: I tensorflow/stream_executor/platform/default/dso_loader.cc:44] Successfully opened dynamic library libcudart.so.10.1\n",
            "2021-06-18 08:19:22.075056: I tensorflow/core/common_runtime/gpu/gpu_device.cc:1180] Device interconnect StreamExecutor with strength 1 edge matrix:\n",
            "2021-06-18 08:19:22.075082: I tensorflow/core/common_runtime/gpu/gpu_device.cc:1186]      0 \n",
            "2021-06-18 08:19:22.075094: I tensorflow/core/common_runtime/gpu/gpu_device.cc:1199] 0:   N \n",
            "2021-06-18 08:19:22.075210: I tensorflow/stream_executor/cuda/cuda_gpu_executor.cc:983] successful NUMA node read from SysFS had negative value (-1), but there must be at least one NUMA node, so returning NUMA node zero\n",
            "2021-06-18 08:19:22.075769: I tensorflow/stream_executor/cuda/cuda_gpu_executor.cc:983] successful NUMA node read from SysFS had negative value (-1), but there must be at least one NUMA node, so returning NUMA node zero\n",
            "2021-06-18 08:19:22.076327: W tensorflow/core/common_runtime/gpu/gpu_bfc_allocator.cc:39] Overriding allow_growth setting because the TF_FORCE_GPU_ALLOW_GROWTH environment variable is set. Original config value was 0.\n",
            "2021-06-18 08:19:22.076371: I tensorflow/core/common_runtime/gpu/gpu_device.cc:1325] Created TensorFlow device (/job:localhost/replica:0/task:0/device:GPU:0 with 14257 MB memory) -> physical GPU (device: 0, name: Tesla T4, pci bus id: 0000:00:04.0, compute capability: 7.5)\n",
            "WARNING:tensorflow:From interactive_conditional_samples.py:58: The name tf.placeholder is deprecated. Please use tf.compat.v1.placeholder instead.\n",
            "\n",
            "WARNING:tensorflow:From interactive_conditional_samples.py:60: The name tf.set_random_seed is deprecated. Please use tf.compat.v1.set_random_seed instead.\n",
            "\n",
            "WARNING:tensorflow:From /content/gpt-2/src/sample.py:51: The name tf.AUTO_REUSE is deprecated. Please use tf.compat.v1.AUTO_REUSE instead.\n",
            "\n",
            "WARNING:tensorflow:From /content/gpt-2/src/model.py:148: The name tf.variable_scope is deprecated. Please use tf.compat.v1.variable_scope instead.\n",
            "\n",
            "WARNING:tensorflow:From /content/gpt-2/src/model.py:152: The name tf.get_variable is deprecated. Please use tf.compat.v1.get_variable instead.\n",
            "\n",
            "WARNING:tensorflow:From /content/gpt-2/src/model.py:36: The name tf.rsqrt is deprecated. Please use tf.math.rsqrt instead.\n",
            "\n",
            "WARNING:tensorflow:From /content/gpt-2/src/sample.py:64: to_float (from tensorflow.python.ops.math_ops) is deprecated and will be removed in a future version.\n",
            "Instructions for updating:\n",
            "Use `tf.cast` instead.\n",
            "WARNING:tensorflow:From /content/gpt-2/src/sample.py:16: where (from tensorflow.python.ops.array_ops) is deprecated and will be removed in a future version.\n",
            "Instructions for updating:\n",
            "Use tf.where in 2.0, which has the same broadcast rule as np.where\n",
            "WARNING:tensorflow:From /content/gpt-2/src/sample.py:67: multinomial (from tensorflow.python.ops.random_ops) is deprecated and will be removed in a future version.\n",
            "Instructions for updating:\n",
            "Use `tf.random.categorical` instead.\n",
            "WARNING:tensorflow:From interactive_conditional_samples.py:68: The name tf.train.Saver is deprecated. Please use tf.compat.v1.train.Saver instead.\n",
            "\n",
            "Model prompt >>> During such processes, cells sense the environment and respond to external factors that induce a certain direction of motion towards specific targets (taxis): this results in a persistent migration in a certain preferential direction. The guidance cues leading to directed migration may be biochemical or biophysical. Biochemical cues can be, for example, soluble factors or growth factors that give rise to chemotaxis, which involves a mono-directional stimulus. Other cues generating mono-directional stimuli include, for instance, bound ligands to the substratum that induce haptotaxis, durotaxis, that involves migration towards regions with an increasing stiffness of the ECM, electrotaxis, also known as galvanotaxis, that prescribes a directed motion guided by an electric field or current, or phototaxis, referring to the movement oriented by a stimulus of light [34]. Important biophysical cues are some of the properties of the extracellular matrix (ECM), first among all the alignment of collagen fibers and its stiffness. In particular, the fiber alignment is shown to stimulate contact guidance [22, 21]. TL;DR:\n",
            "2021-06-18 08:28:14.573110: I tensorflow/stream_executor/platform/default/dso_loader.cc:44] Successfully opened dynamic library libcublas.so.10\n",
            "======================================== SAMPLE 1 ========================================\n",
            " Do not allow the movement to be directed by a laser (i.e. a laser that only takes one pulse at a time), but rather a laser that is directed at a target and directed at a given direction. In a nutshell, be mindful\n",
            "================================================================================\n",
            "Model prompt >>> Traceback (most recent call last):\n",
            "  File \"/usr/lib/python3.7/contextlib.py\", line 130, in __exit__\n",
            "    self.gen.throw(type, value, traceback)\n",
            "  File \"/tensorflow-1.15.2/python3.7/tensorflow_core/python/framework/ops.py\", line 5480, in get_controller\n",
            "    yield g\n",
            "  File \"interactive_conditional_samples.py\", line 73, in interact_model\n",
            "    raw_text = input(\"Model prompt >>> \")\n",
            "KeyboardInterrupt\n",
            "\n",
            "During handling of the above exception, another exception occurred:\n",
            "\n",
            "Traceback (most recent call last):\n",
            "  File \"interactive_conditional_samples.py\", line 91, in <module>\n",
            "    fire.Fire(interact_model)\n",
            "  File \"/usr/local/lib/python3.7/dist-packages/fire/core.py\", line 141, in Fire\n",
            "    component_trace = _Fire(component, args, parsed_flag_args, context, name)\n",
            "  File \"/usr/local/lib/python3.7/dist-packages/fire/core.py\", line 471, in _Fire\n",
            "    target=component.__name__)\n",
            "  File \"/usr/local/lib/python3.7/dist-packages/fire/core.py\", line 681, in _CallAndUpdateTrace\n",
            "    component = fn(*varargs, **kwargs)\n",
            "  File \"interactive_conditional_samples.py\", line 88, in interact_model\n",
            "    print(\"=\" * 80)\n",
            "  File \"/tensorflow-1.15.2/python3.7/tensorflow_core/python/client/session.py\", line 1633, in __exit__\n",
            "    close_thread.start()\n",
            "  File \"/usr/lib/python3.7/threading.py\", line 857, in start\n",
            "    self._started.wait()\n",
            "  File \"/usr/lib/python3.7/threading.py\", line 552, in wait\n",
            "    signaled = self._cond.wait(timeout)\n",
            "  File \"/usr/lib/python3.7/threading.py\", line 296, in wait\n",
            "    waiter.acquire()\n",
            "KeyboardInterrupt\n",
            "^C\n"
          ]
        }
      ],
      "source": [
        "#@title Step 12: Interactive Context and Completion Examples\n",
        "import os # import after runtime is restarted\n",
        "os.chdir(\"/content/gpt-2/src\")\n",
        "!python interactive_conditional_samples.py --temperature 0.8 --top_k 40 --model_name '117M' --length 50"
      ]
    },
    {
      "cell_type": "markdown",
      "metadata": {
        "id": "L_nbFkH6Dg2Q"
      },
      "source": [
        "#Controlling Tokenized Data"
      ]
    },
    {
      "cell_type": "code",
      "execution_count": null,
      "metadata": {
        "colab": {
          "base_uri": "https://localhost:8080/"
        },
        "id": "ihVnmXFYB-E7",
        "outputId": "d58eeffd-9af1-4298-ac25-8fa954028a04",
        "vscode": {
          "languageId": "python"
        }
      },
      "outputs": [
        {
          "name": "stdout",
          "output_type": "stream",
          "text": [
            "[1212 5644  326 ...   13  198 2682]\n",
            "(29379,)\n",
            "1212\n",
            "5644\n",
            "326\n",
            "11\n",
            "355\n",
            "716\n",
            "78\n",
            "1765\n",
            "1868\n",
            "4778\n",
            "Converting the JSON encoded data into a Python dictionary\n",
            "! : 0\n",
            "\" : 1\n",
            "# : 2\n",
            "$ : 3\n",
            "% : 4\n",
            "& : 5\n",
            "' : 6\n",
            "( : 7\n",
            ") : 8\n",
            "* : 9\n",
            "This : 1212\n",
            "Ġsuggests : 5644\n",
            "Ġthat : 326\n",
            ", : 11\n",
            "Ġas : 355\n",
            "Ġam : 716\n",
            "o : 78\n",
            "eb : 1765\n",
            "oid : 1868\n",
            "Ġcells : 4778\n",
            "Ġare : 389\n",
            "Ġless : 1342\n",
            "Ġcontract : 2775\n",
            "ile : 576\n",
            ", : 11\n",
            "Ġwhile : 981\n",
            "Ġmes : 18842\n",
            "ench : 24421\n",
            "ym : 4948\n",
            "al : 282\n",
            "Ċ : 198\n",
            "cells : 46342\n",
            "Ġare : 389\n",
            "Ġmore : 517\n",
            "Ġcontract : 2775\n",
            "ile : 576\n",
            ", : 11\n",
            "Ġand : 290\n",
            "Ġthere : 612\n",
            "Ġmay : 743\n",
            "Ġbe : 307\n",
            "Ġa : 257\n",
            "Ġswitching : 15430\n",
            "Ġbetween : 1022\n",
            "Ġam : 716\n",
            "o : 78\n",
            "eb : 1765\n",
            "oid : 1868\n",
            "Ġand : 290\n",
            "Ġmes : 18842\n",
            "ench : 24421\n",
            "ym : 4948\n",
            "al : 282\n",
            "Ċ : 198\n",
            "m : 76\n",
            "igration : 4254\n",
            ", : 11\n",
            "Ġperhaps : 3737\n",
            "Ġthere : 612\n",
            "Ġcan : 460\n",
            "Ġalso : 635\n",
            "Ġbe : 307\n",
            "Ġa : 257\n",
            "Ġswitching : 15430\n",
            "Ġbetween : 1022\n",
            "Ġthe : 262\n",
            "Ġdominance : 18648\n",
            "Ġof : 286\n",
            "Ġchem : 4607\n",
            "ot : 313\n",
            "axis : 22704\n",
            "Ġ( : 357\n",
            "amo : 18811\n",
            "eb : 1765\n",
            "oid : 1868\n",
            "Ċ : 198\n",
            "m : 76\n",
            "igration : 4254\n",
            ") : 8\n",
            "Ġand : 290\n",
            "Ġcontact : 2800\n",
            "Ġguidance : 11154\n",
            "Ġ( : 357\n",
            "mes : 6880\n",
            "ench : 24421\n",
            "ym : 4948\n",
            "al : 282\n",
            "Ġmigration : 13472\n",
            ") : 8\n",
            "Ġ[ : 685\n",
            "60 : 1899\n",
            "]. : 4083\n",
            "ĠOne : 1881\n",
            "Ġof : 286\n",
            "Ġthe : 262\n",
            "Ġmost : 749\n",
            "Ġinteresting : 3499\n",
            "Ġ2 : 362\n",
            "D : 35\n",
            "Ċ : 198\n",
            "platform : 24254\n",
            "s : 82\n",
            ", : 11\n",
            "Ġallowing : 5086\n",
            "Ġto : 284\n",
            "Ġstudy : 2050\n",
            "Ġcontact : 2800\n",
            "Ġguidance : 11154\n",
            "Ġand : 290\n",
            "Ġchem : 4607\n",
            "ot : 313\n",
            "axis : 22704\n",
            ", : 11\n",
            "Ġwas : 373\n",
            "Ġproposed : 5150\n",
            "Ġin : 287\n",
            "Ġ[ : 685\n",
            "57 : 3553\n",
            "], : 4357\n",
            "Ġin : 287\n",
            "Ġwhich : 543\n",
            "Ġthe : 262\n",
            "Ċ : 198\n",
            "authors : 41617\n",
            "Ġdemonstrated : 9555\n",
            "Ġan : 281\n",
            "Ġadditive : 38298\n",
            "Ġeffect : 1245\n",
            "Ġof : 286\n",
            "Ġchemical : 5931\n",
            "Ġgrad : 3915\n",
            "ients : 2334\n",
            "Ġand : 290\n",
            "Ġfiber : 13608\n",
            "Ġalignment : 19114\n",
            "Ġby : 416\n",
            "Ġmeasuring : 15964\n",
            "Ċ : 198\n",
            "the : 1169\n",
            "Ġpersistence : 30802\n",
            "Ġtime : 640\n",
            "; : 26\n",
            "Ġthey : 484\n",
            "Ġalso : 635\n",
            "Ġobserved : 6515\n",
            "Ġthat : 326\n",
            "Ġcells : 4778\n",
            "Ġwere : 547\n",
            "Ġdirected : 7924\n",
            "Ġby : 416\n",
            "Ġfiber : 13608\n",
            "Ġalignment : 19114\n",
            "Ġand : 290\n",
            "Ġthere : 612\n",
            "Ġwas : 373\n",
            "Ċ : 198\n",
            "no : 3919\n",
            "Ġeffect : 1245\n",
            "Ġof : 286\n",
            "Ġthe : 262\n",
            "Ġchemical : 5931\n",
            "Ġgradient : 31312\n",
            "Ġwhen : 618\n",
            "Ġfibers : 26742\n",
            "Ġwere : 547\n",
            "Ġaligned : 19874\n",
            "Ġperpendicular : 47190\n",
            "Ġto : 284\n",
            "Ġit : 340\n",
            ". : 13\n",
            "ĠA : 317\n",
            "Ġsimilar : 2092\n",
            "Ġsetting : 4634\n",
            "Ċ : 198\n",
            "was : 9776\n",
            "Ġalso : 635\n",
            "Ġused : 973\n",
            "Ġfor : 329\n",
            "Ġstudying : 11065\n",
            "Ġthe : 262\n",
            "Ġdependence : 21403\n",
            "Ġof : 286\n",
            "Ġcontact : 2800\n",
            "Ġguidance : 11154\n",
            "Ġon : 319\n",
            "Ġthe : 262\n",
            "Ġcell : 2685\n",
            "Ġcycle : 6772\n",
            "Ġ[ : 685\n",
            "48 : 2780\n",
            "]. : 4083\n",
            "ĠHowever : 2102\n",
            ", : 11\n",
            "ĠIn : 554\n",
            "Ċ : 198\n",
            "the : 1169\n",
            "Ġcase : 1339\n",
            "Ġof : 286\n",
            "Ġdifferent : 1180\n",
            "Ġmulti : 5021\n",
            "- : 12\n",
            "direction : 37295\n",
            "al : 282\n",
            "Ġcues : 25288\n",
            ", : 11\n",
            "Ġtotally : 6635\n",
            "Ġdifferent : 1180\n",
            "Ġscenarios : 13858\n",
            "Ġmay : 743\n",
            "Ġhappen : 1645\n",
            ", : 11\n",
            "Ġe : 304\n",
            ". : 13\n",
            "g : 70\n",
            ". : 13\n",
            "Ġin : 287\n",
            "Ġ[ : 685\n",
            "51 : 4349\n",
            "] : 60\n",
            "Ġit : 340\n",
            "Ġis : 318\n",
            "Ċ : 198\n",
            "shown : 42579\n",
            "Ġthat : 326\n",
            "Ġfor : 329\n",
            "Ġcontact : 2800\n",
            "Ġguidance : 11154\n",
            "Ġand : 290\n",
            "Ġelect : 1742\n",
            "rot : 10599\n",
            "axis : 22704\n",
            "Ġin : 287\n",
            "Ġthe : 262\n",
            "Ġcor : 1162\n",
            "nea : 39718\n",
            ", : 11\n",
            "Ġelect : 1742\n",
            "rot : 10599\n",
            "axis : 22704\n",
            "Ġwins : 7864\n",
            "Ġwhen : 618\n",
            "Ġcompeting : 11780\n",
            "Ċ : 198\n",
            "with : 4480\n",
            "Ġthe : 262\n",
            "Ġdirection : 4571\n",
            "Ġof : 286\n",
            "Ġalignment : 19114\n",
            "Ġof : 286\n",
            "Ġthe : 262\n",
            "Ġfibers : 26742\n",
            ". : 13\n",
            "Ċ : 198\n",
            "Multi : 29800\n",
            "- : 12\n",
            "cue : 15509\n",
            "Ġkinetic : 37892\n",
            "Ġmodel : 2746\n",
            "Ġwith : 351\n",
            "Ġnon : 1729\n",
            "- : 12\n",
            "local : 12001\n",
            "Ġsensing : 34244\n",
            "Ġfor : 329\n",
            "Ġcell : 2685\n",
            "Ċ : 198\n",
            "m : 76\n",
            "igration : 4254\n",
            "Ġon : 319\n",
            "Ġa : 257\n",
            "Ġfibers : 26742\n",
            "Ġnetwork : 3127\n",
            "Ġwith : 351\n",
            "Ġchem : 4607\n",
            "ot : 313\n",
            "axis : 22704\n",
            "Ċ : 198\n",
            "Mart : 13143\n",
            "ina : 1437\n",
            "ĠCon : 1482\n",
            "te : 660\n",
            "ĠâĪ : 18872\n",
            "Ĺ : 245\n",
            "ĠNad : 21877\n",
            "ia : 544\n",
            "ĠL : 406\n",
            "oy : 726\n",
            "ĠâĢ : 564\n",
            "ł : 254\n",
            "âĢ : 447\n",
            "¡ : 94\n",
            "Ċ : 198\n",
            "June : 15749\n",
            "Ġ18 : 1248\n",
            ", : 11\n",
            "Ġ2020 : 12131\n",
            "Ċ : 198\n",
            "Abstract : 23839\n",
            "Ċ : 198\n",
            "C : 34\n",
            "ells : 19187\n",
            "Ġperform : 1620\n",
            "Ġdirected : 7924\n",
            "Ġmotion : 6268\n",
            "Ġin : 287\n",
            "Ġresponse : 2882\n",
            "Ġto : 284\n",
            "Ġexternal : 7097\n",
            "Ġstimuli : 25973\n",
            "Ġthat : 326\n",
            "Ġthey : 484\n",
            "Ġdetect : 4886\n",
            "Ġby : 416\n",
            "Ġsensing : 34244\n",
            "Ċ : 198\n",
            "the : 1169\n",
            "Ġenvironment : 2858\n",
            "Ġwith : 351\n",
            "Ġtheir : 511\n",
            "Ġmembrane : 25019\n",
            "Ġprot : 1237\n",
            "rus : 14932\n",
            "ions : 507\n",
            ". : 13\n",
            "ĠIn : 554\n",
            "Ġparticular : 1948\n",
            ", : 11\n",
            "Ġseveral : 1811\n",
            "Ġbiochemical : 47685\n",
            "Ġand : 290\n",
            "Ġbi : 3182\n",
            "ophysical : 41789\n",
            "Ġcues : 25288\n",
            "Ġgive : 1577\n",
            "Ġrise : 4485\n",
            "Ġto : 284\n",
            "Ġtactic : 18543\n",
            "Ġmigration : 13472\n",
            "Ġin : 287\n",
            "Ġthe : 262\n",
            "Ġdirection : 4571\n",
            "Ġof : 286\n",
            "Ġtheir : 511\n",
            "Ġspecific : 2176\n",
            "Ġtargets : 6670\n",
            ". : 13\n",
            "ĠThis : 770\n",
            "Ġdefines : 15738\n",
            "Ċ : 198\n",
            "a : 64\n",
            "Ġmulti : 5021\n",
            "- : 12\n",
            "cue : 15509\n",
            "Ġenvironment : 2858\n",
            "Ġin : 287\n",
            "Ġwhich : 543\n",
            "Ġcells : 4778\n",
            "Ġhave : 423\n",
            "Ġto : 284\n",
            "Ġsort : 3297\n",
            "Ġand : 290\n",
            "Ġcombine : 12082\n",
            "Ġdifferent : 1180\n",
            ", : 11\n",
            "Ġand : 290\n",
            "Ġpotentially : 6196\n",
            "Ċ : 198\n",
            "competitive : 46131\n",
            ", : 11\n",
            "Ġstimuli : 25973\n",
            ". : 13\n",
            "ĠWe : 775\n",
            "Ġpropose : 18077\n",
            "Ġa : 257\n",
            "Ġnon : 1729\n",
            "- : 12\n",
            "local : 12001\n",
            "Ġkinetic : 37892\n",
            "Ġmodel : 2746\n",
            "Ġfor : 329\n",
            "Ġcell : 2685\n",
            "Ġmigration : 13472\n",
            "Ġin : 287\n",
            "Ġpresence : 4931\n",
            "Ġof : 286\n",
            "Ċ : 198\n",
            "two : 11545\n",
            "Ġexternal : 7097\n",
            "Ġfactors : 5087\n",
            "Ġboth : 1111\n",
            "Ġinfluencing : 32596\n",
            "Ġcell : 2685\n",
            "Ġpolarization : 42704\n",
            ": : 25\n",
            "Ġcontact : 2800\n",
            "Ġguidance : 11154\n",
            "Ġand : 290\n",
            "Ġchem : 4607\n",
            "ot : 313\n",
            "axis : 22704\n",
            ". : 13\n",
            "ĠWe : 775\n",
            "Ċ : 198\n",
            "pro : 1676\n",
            "pose : 3455\n",
            "Ġtwo : 734\n",
            "Ġdifferent : 1180\n",
            "Ġsensing : 34244\n",
            "Ġstrategies : 10064\n",
            "Ġand : 290\n",
            "Ġwe : 356\n",
            "Ġanalyze : 16602\n",
            "Ġthe : 262\n",
            "Ġtwo : 734\n",
            "Ġresulting : 7186\n",
            "Ġmodels : 4981\n",
            "Ġby : 416\n",
            "Ġrecovering : 20222\n",
            "Ċ : 198\n",
            "the : 1169\n",
            "Ġappropriate : 5035\n",
            "Ġmacro : 15021\n",
            "sc : 1416\n",
            "opic : 16603\n",
            "Ġlimit : 4179\n",
            "Ġin : 287\n",
            "Ġdifferent : 1180\n",
            "Ġregimes : 25879\n",
            ", : 11\n",
            "Ġin : 287\n",
            "Ġorder : 1502\n",
            "Ġto : 284\n",
            "Ġsee : 766\n",
            "Ġhow : 703\n",
            "Ġthe : 262\n",
            "Ġsize : 2546\n",
            "Ġof : 286\n",
            "Ġthe : 262\n",
            "Ġcell : 2685\n",
            ", : 11\n",
            "Ċ : 198\n",
            "with : 4480\n",
            "Ġrespect : 2461\n",
            "Ġto : 284\n",
            "Ġthe : 262\n",
            "Ġvariation : 12291\n",
            "Ġof : 286\n",
            "Ġboth : 1111\n",
            "Ġexternal : 7097\n",
            "Ġfields : 7032\n",
            ", : 11\n",
            "Ġinfluences : 16717\n",
            "Ġthe : 262\n",
            "Ġoverall : 4045\n",
            "Ġbehavior : 4069\n",
            ". : 13\n",
            "ĠMoreover : 10968\n",
            ", : 11\n",
            "Ċ : 198\n",
            "we : 732\n",
            "Ġintegrate : 19386\n",
            "Ġnumer : 5470\n",
            "ically : 1146\n",
            "Ġthe : 262\n",
            "Ġkinetic : 37892\n",
            "Ġtransport : 4839\n",
            "Ġequation : 16022\n",
            "Ġin : 287\n",
            "Ġa : 257\n",
            "Ġtwo : 734\n",
            "- : 12\n",
            "dimensional : 19577\n",
            "Ġsetting : 4634\n",
            "Ġin : 287\n",
            "Ġorder : 1502\n",
            "Ċ : 198\n",
            "to : 1462\n",
            "Ġinvestigate : 9161\n",
            "Ġqual : 4140\n",
            "itatively : 48668\n",
            "Ġvarious : 2972\n",
            "Ġscenarios : 13858\n",
            ". : 13\n",
            "Ċ : 198\n",
            "Key : 9218\n",
            "word : 4775\n",
            ". : 13\n",
            "ĠKin : 16645\n",
            "etic : 5139\n",
            "Ġequations : 27490\n",
            ", : 11\n",
            "Ġmult : 1963\n",
            "isc : 2304\n",
            "ale : 1000\n",
            "Ġmodeling : 21128\n",
            ", : 11\n",
            "Ġmulti : 5021\n",
            "- : 12\n",
            "cue : 15509\n",
            ", : 11\n",
            "Ġnon : 1729\n",
            "- : 12\n",
            "local : 12001\n",
            ", : 11\n",
            "Ġhyd : 7409\n",
            "rod : 14892\n",
            "ynamic : 28995\n",
            "Ġlimit : 4179\n",
            ", : 11\n",
            "Ċ : 198\n"
          ]
        }
      ],
      "source": [
        "#@title Additional Tools: Controlling Tokenized Data\n",
        "#Unzip out.npz\n",
        "import zipfile\n",
        "with zipfile.ZipFile('/content/gpt-2/src/out.npz', 'r') as zip_ref:\n",
        "    zip_ref.extractall('/content/gpt-2/src/')\n",
        "\n",
        "#Load arr_0.npy which contains encoded dset\n",
        "import numpy as np\n",
        "f=np.load('/content/gpt-2/src/arr_0.npy')\n",
        "print(f)\n",
        "print(f.shape)\n",
        "for i in range(0,10):\n",
        "    print(f[i])\n",
        "     \n",
        "#We first import encoder.json\n",
        "import json\n",
        "i=0\n",
        "with open(\"/content/gpt-2/models/117M/encoder.json\", \"r\") as read_file:\n",
        "    print(\"Converting the JSON encoded data into a Python dictionary\")\n",
        "    developer = json.load(read_file) #converts the encoded data into a Python dictionary\n",
        "    for key, value in developer.items(): #we parse the decoded json data\n",
        "        i+=1\n",
        "        if(i>10):\n",
        "            break;\n",
        "        print(key, \":\", value)\n",
        "\n",
        "#We will now search for the key and value for each encoded token\n",
        "    for i in range(0,500):\n",
        "        for key, value in developer.items():\n",
        "            if f[i]==value:\n",
        "                print(key, \":\", value)"
      ]
    }
  ],
  "metadata": {
    "accelerator": "GPU",
    "colab": {
      "name": "Training OpenAI GPT-2-CH09.ipynb",
      "provenance": []
    },
    "kernelspec": {
      "display_name": "Python 3",
      "name": "python3"
    }
  },
  "nbformat": 4,
  "nbformat_minor": 0
}