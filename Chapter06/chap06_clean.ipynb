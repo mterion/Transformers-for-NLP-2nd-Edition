{
  "nbformat": 4,
  "nbformat_minor": 0,
  "metadata": {
    "colab": {
      "provenance": [],
      "authorship_tag": "ABX9TyPd+vlrgfGn4/U6iszFO5zW",
      "include_colab_link": true
    },
    "kernelspec": {
      "name": "python3",
      "display_name": "Python 3"
    },
    "language_info": {
      "name": "python"
    }
  },
  "cells": [
    {
      "cell_type": "markdown",
      "metadata": {
        "id": "view-in-github",
        "colab_type": "text"
      },
      "source": [
        "<a href=\"https://colab.research.google.com/github/mterion/Transformers-for-NLP-2nd-Edition/blob/main/Chapter06/chap06_clean.ipynb\" target=\"_parent\"><img src=\"https://colab.research.google.com/assets/colab-badge.svg\" alt=\"Open In Colab\"/></a>"
      ]
    },
    {
      "cell_type": "code",
      "source": [
        "import requests\n",
        "import tarfile\n",
        "import io\n",
        "\n",
        "# URL of the TAR file\n",
        "tar_url = \"https://statmt.org/europarl/v7/fr-en.tgz\"\n",
        "\n",
        "# Download the TAR file\n",
        "response = requests.get(tar_url)\n",
        "tar_file = io.BytesIO(response.content)\n",
        "\n",
        "# Extract the contents of the TAR file\n",
        "with tarfile.open(fileobj=tar_file, mode=\"r:gz\") as tar:\n",
        "    tar.extractall()\n",
        "\n",
        "print(\"TAR file downloaded and extracted successfully.\")"
      ],
      "metadata": {
        "colab": {
          "base_uri": "https://localhost:8080/"
        },
        "id": "E5JWgMdZECML",
        "outputId": "2b19cb2f-0349-47f1-ef0b-392a250093c6"
      },
      "execution_count": 5,
      "outputs": [
        {
          "output_type": "stream",
          "name": "stdout",
          "text": [
            "TAR file downloaded and extracted successfully.\n"
          ]
        }
      ]
    },
    {
      "cell_type": "code",
      "execution_count": 6,
      "metadata": {
        "id": "HafQVr8aAxwL"
      },
      "outputs": [],
      "source": [
        "#Pre-Processing datasets for Machine Translation\n",
        "#Copyright 2020, Denis Rothman, MIT License\n",
        "#Denis Rothman modified the code for educational purposes.\n",
        "#Reference:\n",
        "#Jason Brownlee PhD, ‘How to Prepare a French-to-English Dataset for Machine Translation\n",
        "# https://machinelearningmastery.com/prepare-french-english-dataset-machine-translation/\n",
        "\n",
        "import pickle\n",
        "from pickle import dump\n",
        "\n",
        "# load doc into memory\n",
        "def load_doc(filename):\n",
        "\t# open the file as read only\n",
        "\tfile = open(filename, mode='rt', encoding='utf-8') # rt means read text mode\n",
        "\t# read all text\n",
        "\ttext = file.read()\n",
        "\t# close the file\n",
        "\tfile.close()\n",
        "\treturn text\n",
        "  "
      ]
    },
    {
      "cell_type": "markdown",
      "source": [
        "The file extension .tgz typically indicates a TAR file that has been compressed using the GZIP compression algorithm. It is commonly referred to as a \"tarball\" and is often used in Unix-like systems.\n",
        "\n",
        "- .tar files are uncompressed archives that bundle multiple files together, similar to a folder/directory structure.\n",
        "- .gz or .gzip files are compressed files using the GZIP algorithm.\n",
        "\n",
        "When both these formats are combined, it results in a .tgz or .tar.gz file, which is a TAR archive that has been compressed with GZIP."
      ],
      "metadata": {
        "id": "Mj1UDMpeGNIc"
      }
    },
    {
      "cell_type": "code",
      "source": [
        "# Me: \n",
        "filename = 'europarl-v7.fr-en.en'\n",
        "doc = load_doc(filename)\n",
        "type(doc)"
      ],
      "metadata": {
        "colab": {
          "base_uri": "https://localhost:8080/"
        },
        "id": "8tC81PaRBKHA",
        "outputId": "121a23c8-cb7e-4e80-d45d-d10010956670"
      },
      "execution_count": 7,
      "outputs": [
        {
          "output_type": "execute_result",
          "data": {
            "text/plain": [
              "str"
            ]
          },
          "metadata": {},
          "execution_count": 7
        }
      ]
    },
    {
      "cell_type": "code",
      "source": [
        "# Me:\n",
        "lines = doc.splitlines() \n",
        "  # splits the string into a list of lines based on line breaks.\n",
        "    # method does not include the line break characters ('\\n', '\\r', or '\\r\\n') in the resulting lines. It essentially splits the string wherever it finds a line break.\n",
        "      # '\\n': This is the newline character and is commonly used to represent a line break in Unix-like systems (such as Linux and macOS). \n",
        "      # '\\r': This is the carriage return character and is commonly used to represent a line break in older Mac OS versions prior to Mac OS X (before macOS). \n",
        "      # '\\r\\n': This is a combination of the carriage return ('\\r') and newline ('\\n') characters. It is commonly used to represent a line break in Windows and some other systems. Windows text files often use '\\r\\n' as the line break sequence. It is represented by two characters, one for carriage return and one for newline.\n",
        "  # When using the splitlines() method in Python, it automatically recognizes and handles these different line break representations. \n",
        "first_line = lines[:20]\n",
        "print(first_line)"
      ],
      "metadata": {
        "colab": {
          "base_uri": "https://localhost:8080/"
        },
        "id": "VIpQdHyNHBMo",
        "outputId": "30aed6f6-1282-4342-9d1a-bdcb2413e95c"
      },
      "execution_count": 12,
      "outputs": [
        {
          "output_type": "stream",
          "name": "stdout",
          "text": [
            "['Resumption of the session', 'I declare resumed the session of the European Parliament adjourned on Friday 17 December 1999, and I would like once again to wish you a happy new year in the hope that you enjoyed a pleasant festive period.', \"Although, as you will have seen, the dreaded 'millennium bug' failed to materialise, still the people in a number of countries suffered a series of natural disasters that truly were dreadful.\", 'You have requested a debate on this subject in the course of the next few days, during this part-session.', \"In the meantime, I should like to observe a minute' s silence, as a number of Members have requested, on behalf of all the victims concerned, particularly those of the terrible storms, in the various countries of the European Union.\", \"Please rise, then, for this minute' s silence.\", \"(The House rose and observed a minute' s silence)\", 'Madam President, on a point of order.', 'You will be aware from the press and television that there have been a number of bomb explosions and killings in Sri Lanka.', 'One of the people assassinated very recently in Sri Lanka was Mr Kumar Ponnambalam, who had visited the European Parliament just a few months ago.', \"Would it be appropriate for you, Madam President, to write a letter to the Sri Lankan President expressing Parliament's regret at his and the other violent deaths in Sri Lanka and urging her to do everything she possibly can to seek a peaceful reconciliation to a very difficult situation?\", 'Yes, Mr Evans, I feel an initiative of the type you have just suggested would be entirely appropriate.', 'If the House agrees, I shall do as Mr Evans has suggested.', 'Madam President, on a point of order.', 'I would like your advice about Rule 143 concerning inadmissibility.', 'My question relates to something that will come up on Thursday and which I will then raise again.', 'The Cunha report on multiannual guidance programmes comes before Parliament on Thursday and contains a proposal in paragraph 6 that a form of quota penalties should be introduced for countries which fail to meet their fleet reduction targets annually.', 'It says that this should be done despite the principle of relative stability.', 'I believe that the principle of relative stability is a fundamental legal principle of the common fisheries policy and a proposal to subvert it would be legally inadmissible.', 'I want to know whether one can raise an objection of that kind to what is merely a report, not a legislative proposal, and whether that is something I can competently do on Thursday.']\n"
          ]
        }
      ]
    },
    {
      "cell_type": "code",
      "source": [
        "# split a loaded document into sentences\n",
        "def to_sentences(doc):\n",
        "\treturn doc.strip().split('\\n')\n",
        " \n",
        "mySentences = to_sentences(doc)\n",
        "print(mySentences[:10])\n",
        "  # See that both methods to split work the same\n",
        "    # My method above is maybe better as it handles other breaks as well"
      ],
      "metadata": {
        "colab": {
          "base_uri": "https://localhost:8080/"
        },
        "id": "TwUJkf-sIoeu",
        "outputId": "339edfdd-d519-41bc-8d3a-bbb7dbb68b62"
      },
      "execution_count": 17,
      "outputs": [
        {
          "output_type": "stream",
          "name": "stdout",
          "text": [
            "['Resumption of the session', 'I declare resumed the session of the European Parliament adjourned on Friday 17 December 1999, and I would like once again to wish you a happy new year in the hope that you enjoyed a pleasant festive period.', \"Although, as you will have seen, the dreaded 'millennium bug' failed to materialise, still the people in a number of countries suffered a series of natural disasters that truly were dreadful.\", 'You have requested a debate on this subject in the course of the next few days, during this part-session.', \"In the meantime, I should like to observe a minute' s silence, as a number of Members have requested, on behalf of all the victims concerned, particularly those of the terrible storms, in the various countries of the European Union.\", \"Please rise, then, for this minute' s silence.\", \"(The House rose and observed a minute' s silence)\", 'Madam President, on a point of order.', 'You will be aware from the press and television that there have been a number of bomb explosions and killings in Sri Lanka.', 'One of the people assassinated very recently in Sri Lanka was Mr Kumar Ponnambalam, who had visited the European Parliament just a few months ago.']\n"
          ]
        }
      ]
    },
    {
      "cell_type": "code",
      "source": [
        "# shortest and longest sentence lengths\n",
        "def sentence_lengths(sentences):\n",
        "\tlengths = [len(s.split()) for s in sentences]\n",
        "\treturn min(lengths), max(lengths)\n",
        " \n",
        "sentence_lengths(mySentences)"
      ],
      "metadata": {
        "colab": {
          "base_uri": "https://localhost:8080/"
        },
        "id": "JrJZAdSFJzzr",
        "outputId": "bf4a139f-7114-409d-e4bd-c71b1b8f6872"
      },
      "execution_count": 18,
      "outputs": [
        {
          "output_type": "execute_result",
          "data": {
            "text/plain": [
              "(0, 668)"
            ]
          },
          "metadata": {},
          "execution_count": 18
        }
      ]
    },
    {
      "cell_type": "code",
      "source": [
        "# clean lines\n",
        "import re\n",
        "import string\n",
        "import unicodedata\n",
        "def clean_lines(lines):\n",
        "\tcleaned = list()\n",
        "\t# prepare regex for char filtering\n",
        "\tre_print = re.compile('[^%s]' % re.escape(string.printable))\n",
        "    # This regular expression pattern can be useful for filtering out or identifying non-printable \n",
        "      # characters within a string. \n",
        "    # re: This is the Python module for working with regular expressions.\n",
        "    # re.compile(): This function is used to compile a regular expression pattern \n",
        "      # into a pattern object that can be used for matching operations.\n",
        "    # [^%s]: This part of the regular expression pattern is a negated character set. \n",
        "      # The ^ at the beginning of the character set negates it, meaning it matches any character that is not present within the set.\n",
        "    # % re.escape(string.printable): This is a placeholder that inserts the escaped version of the string \n",
        "      # string.printable into the regular expression pattern.\n",
        "    # string.printable: It is a string constant from the string module that contains all printable ASCII \n",
        "      # characters. It includes uppercase and lowercase letters, digits, punctuation marks, and whitespace characters.\n",
        "    # re.escape(): This function is used to escape any special characters within the string \n",
        "    # By using re.escape() to escape the characters in string.printable, the regular expression pattern \n",
        "      #will match any character that is not within the set of printable ASCII characters.\n",
        "    # The output is a regex that start with ^ which means not followed after by ASCII chars\n",
        "\n",
        "\t# prepare translation table for removing punctuation\n",
        "\ttable = str.maketrans('', '', string.punctuation)\n",
        "    # used to create a translation table that can be used with the str.translate() method.\n",
        "\tfor line in lines:\n",
        "\t\t# normalize unicode characters\n",
        "\t\tline = unicodedata.normalize('NFD', line).encode('ascii', 'ignore')\n",
        "      # NFD = unicode normalization\n",
        "      # encode normalized unicode into ascii, using ignore error handling scheme when char cannot be represented in ascii\n",
        "      # When you encode into ascii, the result is a byte string, bec ascii represents chars in single bytes\n",
        "\t\tline = line.decode('UTF-8')\n",
        "      # 'UTF-8': It is a popular encoding scheme that can represent the entire Unicode character set.\n",
        "      # Attempts to decode the byte string line into a Unicode string using the UTF-8 encoding.\n",
        "\t\t# tokenize on white space\n",
        "\t\tline = line.split()\n",
        "\t\t# convert to lower case\n",
        "\t\tline = [word.lower() for word in line]\n",
        "\t\t# remove punctuation from each token\n",
        "\t\tline = [word.translate(table) for word in line]\n",
        "      # translate() method is a string method that performs character-level translation or deletion based on a translation table.\n",
        "\t\t# remove non-printable chars form each token\n",
        "\t\tline = [re_print.sub('', w) for w in line]\n",
        "      #  applies the regular expression pattern my_re_print to each word w in the line \n",
        "\t\t# remove tokens with numbers in them\n",
        "\t\tline = [word for word in line if word.isalpha()] \n",
        "      # isalpha() that returns True if all characters in the string are alphabetic (letters from a to z)\n",
        "\t\t# store as string\n",
        "\t\tcleaned.append(' '.join(line)) # appends a string to the cleaned list after joining the elements of the line list with a space separator\n",
        "\treturn cleaned"
      ],
      "metadata": {
        "id": "FnW0S4jLBI8z"
      },
      "execution_count": 40,
      "outputs": []
    },
    {
      "cell_type": "code",
      "source": [
        "# Me\n",
        "import re\n",
        "import string\n",
        "import unicodedata\n",
        "mySubset = mySentences[:10]\n",
        "my_re_print = re.compile('[^%s]' % re.escape(string.printable))\n",
        "print(\"my_re_print: \", my_re_print)\n",
        "\n",
        "table = str.maketrans('', '', string.punctuation)\n",
        "print(\"table: \", table)\n",
        "\n",
        "line = mySubset[4]\n",
        "print(\"mySubset[4]: \", line)\n",
        "  # normalize unicode characters\n",
        "line = unicodedata.normalize('NFD', line).encode('ascii', 'ignore')\n",
        "print(\"unicodedata.normalize('NFD', line).encode('ascii', 'ignore') (which is a byte string due to ascii encoding) : \", line)\n",
        "line = line.decode('UTF-8')\n",
        "print(\"UTF-8: \", line)\n",
        "\n",
        "# tokenize on white space\n",
        "line = line.split()\n",
        "print(\"line.split(): \", line)\n",
        "\n",
        "# convert to lower case\n",
        "line = [word.lower() for word in line]\n",
        "print(\"[word.lower() for word in line]: \", line)\n",
        "\n",
        "# remove punctuation from each token\n",
        "line = [word.translate(table) for word in line]\n",
        "print(\"[word.translate(table) for word in line]: \", [word.translate(table) for word in line])\n",
        "\n",
        "# remove non-printable chars form each token\n",
        "line = [my_re_print.sub('', w) for w in line]\n",
        "print(\"[my_re_print.sub('', w) for w in line]: \", line)\n",
        "\n",
        "# remove tokens with numbers in them\n",
        "line = [word for word in line if word.isalpha()]\n",
        "\n",
        "# store as string\n",
        "my_cleaned = list()\n",
        "my_cleaned.append(' '.join(line))\n",
        "print(my_cleaned)"
      ],
      "metadata": {
        "colab": {
          "base_uri": "https://localhost:8080/"
        },
        "id": "-cparIonNmmU",
        "outputId": "28541e77-c66d-4449-8bbd-7b60e6e7c7f7"
      },
      "execution_count": 39,
      "outputs": [
        {
          "output_type": "stream",
          "name": "stdout",
          "text": [
            "my_re_print:  re.compile('[^0123456789abcdefghijklmnopqrstuvwxyzABCDEFGHIJKLMNOPQRSTUVWXYZ!\"\\\\#\\\\$%\\\\&\\'\\\\(\\\\)\\\\*\\\\+,\\\\-\\\\./:;<=>\\\\?@\\\\[\\\\\\\\\\\\]\\\\^_`\\\\{\\\\|\\\\}\\\\~\\\\ \\\\\\t\\\\\\n\\\\\\r\\\\\\x0b\\\\\\x0c]')\n",
            "table:  {33: None, 34: None, 35: None, 36: None, 37: None, 38: None, 39: None, 40: None, 41: None, 42: None, 43: None, 44: None, 45: None, 46: None, 47: None, 58: None, 59: None, 60: None, 61: None, 62: None, 63: None, 64: None, 91: None, 92: None, 93: None, 94: None, 95: None, 96: None, 123: None, 124: None, 125: None, 126: None}\n",
            "mySubset[4]:  In the meantime, I should like to observe a minute' s silence, as a number of Members have requested, on behalf of all the victims concerned, particularly those of the terrible storms, in the various countries of the European Union.\n",
            "unicodedata.normalize('NFD', line).encode('ascii', 'ignore') (which is a byte string due to ascii encoding) :  b\"In the meantime, I should like to observe a minute' s silence, as a number of Members have requested, on behalf of all the victims concerned, particularly those of the terrible storms, in the various countries of the European Union.\"\n",
            "UTF-8:  In the meantime, I should like to observe a minute' s silence, as a number of Members have requested, on behalf of all the victims concerned, particularly those of the terrible storms, in the various countries of the European Union.\n",
            "line.split():  ['In', 'the', 'meantime,', 'I', 'should', 'like', 'to', 'observe', 'a', \"minute'\", 's', 'silence,', 'as', 'a', 'number', 'of', 'Members', 'have', 'requested,', 'on', 'behalf', 'of', 'all', 'the', 'victims', 'concerned,', 'particularly', 'those', 'of', 'the', 'terrible', 'storms,', 'in', 'the', 'various', 'countries', 'of', 'the', 'European', 'Union.']\n",
            "[word.lower() for word in line]:  ['in', 'the', 'meantime,', 'i', 'should', 'like', 'to', 'observe', 'a', \"minute'\", 's', 'silence,', 'as', 'a', 'number', 'of', 'members', 'have', 'requested,', 'on', 'behalf', 'of', 'all', 'the', 'victims', 'concerned,', 'particularly', 'those', 'of', 'the', 'terrible', 'storms,', 'in', 'the', 'various', 'countries', 'of', 'the', 'european', 'union.']\n",
            "[word.translate(table) for word in line]:  ['in', 'the', 'meantime', 'i', 'should', 'like', 'to', 'observe', 'a', 'minute', 's', 'silence', 'as', 'a', 'number', 'of', 'members', 'have', 'requested', 'on', 'behalf', 'of', 'all', 'the', 'victims', 'concerned', 'particularly', 'those', 'of', 'the', 'terrible', 'storms', 'in', 'the', 'various', 'countries', 'of', 'the', 'european', 'union']\n",
            "[my_re_print.sub('', w) for w in line]:  ['in', 'the', 'meantime', 'i', 'should', 'like', 'to', 'observe', 'a', 'minute', 's', 'silence', 'as', 'a', 'number', 'of', 'members', 'have', 'requested', 'on', 'behalf', 'of', 'all', 'the', 'victims', 'concerned', 'particularly', 'those', 'of', 'the', 'terrible', 'storms', 'in', 'the', 'various', 'countries', 'of', 'the', 'european', 'union']\n",
            "['in the meantime i should like to observe a minute s silence as a number of members have requested on behalf of all the victims concerned particularly those of the terrible storms in the various countries of the european union']\n"
          ]
        }
      ]
    },
    {
      "cell_type": "code",
      "source": [
        "# load English data\n",
        "filename = 'europarl-v7.fr-en.en'\n",
        "doc = load_doc(filename)\n",
        "sentences = to_sentences(doc)\n",
        "minlen, maxlen = sentence_lengths(sentences)\n",
        "print('English data: sentences=%d, min=%d, max=%d' % (len(sentences), minlen, maxlen))\n",
        "cleanf=clean_lines(sentences)\n",
        "filename = 'English.pkl'\n",
        "outfile = open(filename,'wb') # 'wb' mode indicates that the file should be opened in binary mode, allowing binary data to be written. \n",
        "pickle.dump(cleanf,outfile) # dump serialize the data (convert into bytes)\n",
        "outfile.close()\n",
        "print(filename,\" saved\")\n",
        "\n",
        "# load French data\n",
        "filename = 'europarl-v7.fr-en.fr'\n",
        "doc = load_doc(filename)\n",
        "sentences = to_sentences(doc)\n",
        "minlen, maxlen = sentence_lengths(sentences)\n",
        "print('French data: sentences=%d, min=%d, max=%d' % (len(sentences), minlen, maxlen))\n",
        "cleanf=clean_lines(sentences)\n",
        "filename = 'French.pkl'\n",
        "outfile = open(filename,'wb')\n",
        "pickle.dump(cleanf,outfile)\n",
        "outfile.close()\n",
        "print(filename,\" saved\")"
      ],
      "metadata": {
        "colab": {
          "base_uri": "https://localhost:8080/"
        },
        "id": "q7ghKJ1cA1wq",
        "outputId": "c1cb560f-b3a4-47c9-dedf-d3606007ce26"
      },
      "execution_count": 41,
      "outputs": [
        {
          "output_type": "stream",
          "name": "stdout",
          "text": [
            "English data: sentences=2007723, min=0, max=668\n",
            "English.pkl  saved\n",
            "French data: sentences=2007723, min=0, max=693\n",
            "French.pkl  saved\n"
          ]
        }
      ]
    },
    {
      "cell_type": "code",
      "source": [
        "#Pre-Processing datasets for Machine Translation\n",
        "#Copyright 2020, Denis Rothman, MIT License\n",
        "#Denis Rothman modified the code for educational purposes.\n",
        "#Reference:\n",
        "#Jason Brownlee PhD, ‘How to Prepare a French-to-English Dataset for Machine Translation\n",
        "# https://machinelearningmastery.com/prepare-french-english-dataset-machine-translation/\n",
        "\n",
        "\n",
        "from pickle import load\n",
        "from pickle import dump\n",
        "from collections import Counter\n",
        " \n",
        "# load a clean dataset\n",
        "def load_clean_sentences(filename):\n",
        "\treturn load(open(filename, 'rb'))\n",
        " # 'rb' stands for \"read binary.\" It is used when you want to read a file in binary mode, typically used for reading non-text files, such as images, videos, or serialized objects.\n",
        "  # When you open a file in binary mode ('rb'), the file is read as a sequence of bytes, allowing you to read and process the binary data directly. \n",
        " \n",
        "# save a list of clean sentences to file\n",
        "def save_clean_sentences(sentences, filename):\n",
        "\tdump(sentences, open(filename, 'wb'))\n",
        "\tprint('Saved: %s' % filename)\n",
        "  # dump() function to serialize and save the sentences object. The dump() function is typically associated with the pickle module in Python, which allows you to convert Python objects into a byte stream that can be saved to a file.\n",
        " "
      ],
      "metadata": {
        "id": "s5H-Wfhfc5A7"
      },
      "execution_count": 42,
      "outputs": []
    },
    {
      "cell_type": "code",
      "source": [
        "# create a frequency table for all words\n",
        "def to_vocab(lines):\n",
        "\tvocab = Counter()\n",
        "\tfor line in lines:\n",
        "\t\ttokens = line.split()\n",
        "\t\tvocab.update(tokens)\n",
        "\treturn vocab\n",
        " \n",
        "# remove all words with a frequency below a threshold\n",
        "def trim_vocab(vocab, min_occurance):\n",
        "\ttokens = [k for k,c in vocab.items() if c >= min_occurance]\n",
        "\treturn set(tokens)\n",
        " \n",
        "# mark all OOV with \"unk\" for all lines\n",
        "def update_dataset(lines, vocab):\n",
        "\tnew_lines = list()\n",
        "\tfor line in lines:\n",
        "\t\tnew_tokens = list()\n",
        "\t\tfor token in line.split():\n",
        "\t\t\tif token in vocab:\n",
        "\t\t\t\tnew_tokens.append(token)\n",
        "\t\t\telse:\n",
        "\t\t\t\tnew_tokens.append('unk')\n",
        "\t\tnew_line = ' '.join(new_tokens)\n",
        "\t\tnew_lines.append(new_line)\n",
        "\treturn new_lines"
      ],
      "metadata": {
        "id": "KDEFja4BdGI8"
      },
      "execution_count": 43,
      "outputs": []
    },
    {
      "cell_type": "code",
      "source": [
        "# load English dataset\n",
        "filename = 'English.pkl'\n",
        "lines = load_clean_sentences(filename)\n",
        "# calculate vocabulary\n",
        "vocab = to_vocab(lines)\n",
        "print('English Vocabulary: %d' % len(vocab))\n",
        "# reduce vocabulary\n",
        "vocab = trim_vocab(vocab, 5)\n",
        "print('New English Vocabulary: %d' % len(vocab))\n",
        "# mark out of vocabulary words\n",
        "lines = update_dataset(lines, vocab)\n",
        "# save updated dataset\n",
        "filename = 'english_vocab.pkl'\n",
        "save_clean_sentences(lines, filename)\n",
        "# spot check\n",
        "for i in range(20):\n",
        "\tprint(\"line\",i,\":\",lines[i])\n",
        " \n",
        "# load French dataset\n",
        "filename = 'French.pkl'\n",
        "lines = load_clean_sentences(filename)\n",
        "# calculate vocabulary\n",
        "vocab = to_vocab(lines)\n",
        "print('French Vocabulary: %d' % len(vocab))\n",
        "# reduce vocabulary\n",
        "vocab = trim_vocab(vocab, 5)\n",
        "print('New French Vocabulary: %d' % len(vocab))\n",
        "# mark out of vocabulary words\n",
        "lines = update_dataset(lines, vocab)\n",
        "# save updated dataset\n",
        "filename = 'french_vocab.pkl'\n",
        "save_clean_sentences(lines, filename)\n",
        "# spot check\n",
        "for i in range(20):\n",
        "\tprint(\"line\",i,\":\",lines[i])"
      ],
      "metadata": {
        "colab": {
          "base_uri": "https://localhost:8080/"
        },
        "id": "yy0XoZuPdMXA",
        "outputId": "ba59a841-e771-4a53-d07b-f269c1b458b5"
      },
      "execution_count": 44,
      "outputs": [
        {
          "output_type": "stream",
          "name": "stdout",
          "text": [
            "English Vocabulary: 105357\n",
            "New English Vocabulary: 41746\n",
            "Saved: english_vocab.pkl\n",
            "line 0 : resumption of the session\n",
            "line 1 : i declare resumed the session of the european parliament adjourned on friday december and i would like once again to wish you a happy new year in the hope that you enjoyed a pleasant festive period\n",
            "line 2 : although as you will have seen the dreaded millennium bug failed to materialise still the people in a number of countries suffered a series of natural disasters that truly were dreadful\n",
            "line 3 : you have requested a debate on this subject in the course of the next few days during this partsession\n",
            "line 4 : in the meantime i should like to observe a minute s silence as a number of members have requested on behalf of all the victims concerned particularly those of the terrible storms in the various countries of the european union\n",
            "line 5 : please rise then for this minute s silence\n",
            "line 6 : the house rose and observed a minute s silence\n",
            "line 7 : madam president on a point of order\n",
            "line 8 : you will be aware from the press and television that there have been a number of bomb explosions and killings in sri lanka\n",
            "line 9 : one of the people assassinated very recently in sri lanka was mr unk unk who had visited the european parliament just a few months ago\n",
            "line 10 : would it be appropriate for you madam president to write a letter to the sri lankan president expressing parliaments regret at his and the other violent deaths in sri lanka and urging her to do everything she possibly can to seek a peaceful reconciliation to a very difficult situation\n",
            "line 11 : yes mr evans i feel an initiative of the type you have just suggested would be entirely appropriate\n",
            "line 12 : if the house agrees i shall do as mr evans has suggested\n",
            "line 13 : madam president on a point of order\n",
            "line 14 : i would like your advice about rule concerning inadmissibility\n",
            "line 15 : my question relates to something that will come up on thursday and which i will then raise again\n",
            "line 16 : the cunha report on multiannual guidance programmes comes before parliament on thursday and contains a proposal in paragraph that a form of quota penalties should be introduced for countries which fail to meet their fleet reduction targets annually\n",
            "line 17 : it says that this should be done despite the principle of relative stability\n",
            "line 18 : i believe that the principle of relative stability is a fundamental legal principle of the common fisheries policy and a proposal to subvert it would be legally inadmissible\n",
            "line 19 : i want to know whether one can raise an objection of that kind to what is merely a report not a legislative proposal and whether that is something i can competently do on thursday\n",
            "French Vocabulary: 141642\n",
            "New French Vocabulary: 58800\n",
            "Saved: french_vocab.pkl\n",
            "line 0 : reprise de la session\n",
            "line 1 : je declare reprise la session du parlement europeen qui avait ete interrompue le vendredi decembre dernier et je vous renouvelle tous mes vux en esperant que vous avez passe de bonnes vacances\n",
            "line 2 : comme vous avez pu le constater le grand bogue de lan ne sest pas produit en revanche les citoyens dun certain nombre de nos pays ont ete victimes de catastrophes naturelles qui ont vraiment ete terribles\n",
            "line 3 : vous avez souhaite un debat a ce sujet dans les prochains jours au cours de cette periode de session\n",
            "line 4 : en attendant je souhaiterais comme un certain nombre de collegues me lont demande que nous observions une minute de silence pour toutes les victimes des tempetes notamment dans les differents pays de lunion europeenne qui ont ete touches\n",
            "line 5 : je vous invite a vous lever pour cette minute de silence\n",
            "line 6 : le parlement debout observe une minute de silence\n",
            "line 7 : madame la presidente cest une motion de procedure\n",
            "line 8 : vous avez probablement appris par la presse et par la television que plusieurs attentats a la bombe et crimes ont ete perpetres au sri lanka\n",
            "line 9 : lune des personnes qui vient detre assassinee au sri lanka est m unk unk qui avait rendu visite au parlement europeen il y a quelques mois a peine\n",
            "line 10 : ne pensezvous pas madame la presidente quil conviendrait decrire une lettre au president du sri lanka pour lui communiquer que le parlement deplore les morts violentes dont celle de m unk et pour linviter instamment a faire tout ce qui est en son pouvoir pour chercher une reconciliation pacifique et mettre un terme a cette situation particulierement difficile\n",
            "line 11 : oui monsieur evans je pense quune initiative dans le sens que vous venez de suggerer serait tout a fait appropriee\n",
            "line 12 : si lassemblee en est daccord je ferai comme m evans la suggere\n",
            "line 13 : madame la presidente cest une motion de procedure\n",
            "line 14 : je voudrais vous demander un conseil au sujet de larticle qui concerne lirrecevabilite\n",
            "line 15 : ma question porte sur un sujet qui est a lordre du jour du jeudi et que je souleverai donc une nouvelle fois\n",
            "line 16 : le paragraphe du rapport cunha sur les programmes dorientation pluriannuels qui sera soumis au parlement ce jeudi propose dintroduire des sanctions applicables aux pays qui ne respectent pas les objectifs annuels de reduction de leur flotte\n",
            "line 17 : il precise que cela devrait etre fait malgre le principe de stabilite relative\n",
            "line 18 : a mon sens le principe de stabilite relative est un principe juridique fondamental de la politique commune de la peche et toute proposition le bouleversant serait juridiquement irrecevable\n",
            "line 19 : je voudrais savoir si lon peut avancer une objection de ce type a ce qui nest quun rapport pas une proposition legislative et si je suis habilite a le faire ce jeudi\n"
          ]
        }
      ]
    }
  ]
}